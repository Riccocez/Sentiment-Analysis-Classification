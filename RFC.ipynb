{
 "cells": [
  {
   "cell_type": "code",
   "execution_count": 276,
   "metadata": {
    "collapsed": true
   },
   "outputs": [],
   "source": [
    "%matplotlib inline\n",
    "%config InlineBackend.figure_format='retina'"
   ]
  },
  {
   "cell_type": "code",
   "execution_count": 352,
   "metadata": {
    "collapsed": true
   },
   "outputs": [],
   "source": [
    "import pandas as pd\n",
    "import numpy as np\n",
    "import nltk\n",
    "from sklearn.utils import shuffle\n",
    "from sklearn.feature_extraction.text import CountVectorizer\n",
    "from sklearn.feature_extraction.text import TfidfVectorizer\n",
    "from sklearn.ensemble import RandomForestClassifier\n",
    "from sklearn.multiclass import OneVsRestClassifier\n",
    "\n",
    "from sklearn.naive_bayes import MultinomialNB\n",
    "from imblearn.metrics import classification_report_imbalanced\n",
    "from sklearn import svm\n",
    "from nltk.tokenize import TweetTokenizer\n",
    "from Visualization import Visualization\n",
    "from sklearn.cross_validation import StratifiedKFold\n",
    "from sklearn.metrics import confusion_matrix"
   ]
  },
  {
   "cell_type": "code",
   "execution_count": 242,
   "metadata": {
    "collapsed": true
   },
   "outputs": [],
   "source": [
    "data = pd.read_csv(\"rebtel_w_lexicon.csv\")"
   ]
  },
  {
   "cell_type": "code",
   "execution_count": 326,
   "metadata": {
    "collapsed": false
   },
   "outputs": [],
   "source": [
    "# Define Vectorizer to build bag-of-words representation\n",
    "#vectorizer = CountVectorizer(ngram_range=(2,2))\n",
    "tfidf_vectorizer = TfidfVectorizer(ngram_range=(1,2))\n",
    "\n",
    "\n",
    "vectorizer = CountVectorizer(analyzer = \"word\", tokenizer = None, preprocessor = None, stop_words = None,   \\\n",
    "                             max_features = 245)\n",
    "\n",
    "\n",
    "\n",
    "RANDOM_STATE = 0\n",
    "seed = 18\n",
    "np.random.seed(seed)"
   ]
  },
  {
   "cell_type": "code",
   "execution_count": 327,
   "metadata": {
    "collapsed": true
   },
   "outputs": [],
   "source": [
    "#ADD MORE FEATURES\n",
    "add_feats = data[['r_negative', 'r_positive',\n",
    "                'r_neutral','t_negative', 't_positive',\n",
    "                't_neutral']]\n",
    "a_feats = add_feats.values"
   ]
  },
  {
   "cell_type": "code",
   "execution_count": null,
   "metadata": {
    "collapsed": false
   },
   "outputs": [],
   "source": []
  },
  {
   "cell_type": "code",
   "execution_count": 343,
   "metadata": {
    "collapsed": false
   },
   "outputs": [],
   "source": [
    "#Select method to train model (Lems/Snow/Porter/Lanc)\n",
    "method =  \"Lanc\"\n",
    "add_feats = True\n",
    "tfidf = False\n",
    " \n",
    "\n",
    "x_fts = vectorizer.fit_transform(data[method + '_title_review'])\n",
    "\n",
    "#x_fts = vectorizer.fit_transform(data['Rel_w_title_review'])\n",
    "\n",
    "if tfidf:\n",
    "    x_fts = tfidf_vectorizer.fit_transform(data[method + '_title_review'])\n",
    "    \n",
    "x_fts = x_fts.toarray()\n",
    "\n",
    "\n",
    "if add_feats:\n",
    "    x_fts = np.concatenate((x_fts,a_feats),axis=1)\n",
    "\n",
    "\n",
    "np.random.seed(seed)\n",
    "\n",
    "train_size = 0.65\n",
    "train_size = int(len(x_fts)* train_size)\n",
    "shuffle(data)\n",
    "\n",
    "x_train, y_train = x_fts[0:train_size], data['Rating'][0:train_size]\n",
    "X_test, Y_test = x_fts[train_size:], data['Rating'][train_size:]"
   ]
  },
  {
   "cell_type": "code",
   "execution_count": 353,
   "metadata": {
    "collapsed": false
   },
   "outputs": [
    {
     "name": "stderr",
     "output_type": "stream",
     "text": [
      "/Users/rcortez/anaconda/envs/python3/lib/python3.5/site-packages/sklearn/metrics/classification.py:1113: UndefinedMetricWarning: Precision and F-score are ill-defined and being set to 0.0 in labels with no predicted samples.\n",
      "  'precision', 'predicted', average, warn_for)\n",
      "/Users/rcortez/anaconda/envs/python3/lib/python3.5/site-packages/imblearn/metrics/classification.py:240: UndefinedMetricWarning: Sensitivity is ill-defined and being set to 0.0 in labels with no true samples.\n",
      "  average, warn_for)\n"
     ]
    },
    {
     "name": "stdout",
     "output_type": "stream",
     "text": [
      "Average precision : 0.528\n",
      "Average recall : 0.57\n",
      "Average F-score : 0.522\n"
     ]
    }
   ],
   "source": [
    "#cross_validation = StratifiedShuffleSplit(y_data, n_iter=10, test_size=0.3, random_state=RANDOM_STATE)\n",
    "cross_validation =   StratifiedKFold (y_train,n_folds=5, random_state=RANDOM_STATE)\n",
    "\n",
    "scores = []\n",
    "confusion_matrices = []\n",
    "clf_models = []\n",
    "avgs = []\n",
    "\n",
    "for train_index,test_index in cross_validation:\n",
    "\n",
    "    clf = None\n",
    "\n",
    "    dx_train, dy_train = x_train[train_index], y_train[train_index]\n",
    "    dx_test, dy_test = x_train[test_index], y_train[test_index]\n",
    "    \n",
    "    clf = RandomForestClassifier(n_estimators= 37, n_jobs=-1)\n",
    "    #clf = svm.SVC(decision_function_shape='ovo',random_state=RANDOM_STATE,probability=True)\n",
    "    clf.fit(dx_train, dy_train)\n",
    "    clf_models.append(clf)\n",
    "    \n",
    "    # Saving the scores.\n",
    "    test_score = clf.score(dx_test, dy_test)\n",
    "    test_preds = clf.predict(dx_test)\n",
    "    rep = classification_report_imbalanced(dy_test, test_preds)\n",
    "    txt_rep = nltk.word_tokenize(rep[500:1000])\n",
    "    avg_total = [float(txt_rep[i]) for i in range(3,len(txt_rep))]\n",
    "    avgs.append(avg_total)\n",
    "    scores.append(test_score)\n",
    "\n",
    "\n",
    "    # Saving the confusion matrices.\n",
    "    data_classes_pred = clf.predict(dx_test) \n",
    "    cm = confusion_matrix(dy_test, test_preds)\n",
    "    confusion_matrices.append(cm)\n",
    "    \n",
    "print('Average precision :', str(np.mean([avgs[i][0] for i in range(len(avgs))])))\n",
    "print('Average recall :', str(np.mean([avgs[i][1] for i in range(len(avgs))])))\n",
    "print('Average F-score :', str(np.mean([avgs[i][3] for i in range(len(avgs))])))"
   ]
  },
  {
   "cell_type": "code",
   "execution_count": 354,
   "metadata": {
    "collapsed": false
   },
   "outputs": [
    {
     "data": {
      "text/plain": [
       "RandomForestClassifier(bootstrap=True, class_weight=None, criterion='gini',\n",
       "            max_depth=None, max_features='auto', max_leaf_nodes=None,\n",
       "            min_impurity_split=1e-07, min_samples_leaf=1,\n",
       "            min_samples_split=2, min_weight_fraction_leaf=0.0,\n",
       "            n_estimators=37, n_jobs=-1, oob_score=False, random_state=0,\n",
       "            verbose=0, warm_start=False)"
      ]
     },
     "execution_count": 354,
     "metadata": {},
     "output_type": "execute_result"
    }
   ],
   "source": [
    "clf = RandomForestClassifier(n_estimators= 37, n_jobs=-1,random_state=RANDOM_STATE)\n",
    "clf.fit(x_train,y_train)"
   ]
  },
  {
   "cell_type": "code",
   "execution_count": 355,
   "metadata": {
    "collapsed": false
   },
   "outputs": [],
   "source": [
    "test_preds = clf.predict(X_test)"
   ]
  },
  {
   "cell_type": "code",
   "execution_count": 300,
   "metadata": {
    "collapsed": true
   },
   "outputs": [],
   "source": [
    "df = pd.DataFrame(test_preds,columns=['RFC_preds'])"
   ]
  },
  {
   "cell_type": "code",
   "execution_count": 262,
   "metadata": {
    "collapsed": false
   },
   "outputs": [],
   "source": [
    "n_df = pd.DataFrame(Y_test)\n",
    "n_df = n_df.reset_index(True)"
   ]
  },
  {
   "cell_type": "code",
   "execution_count": 263,
   "metadata": {
    "collapsed": false
   },
   "outputs": [],
   "source": [
    "df['True_label'] = n_df['Rating']"
   ]
  },
  {
   "cell_type": "code",
   "execution_count": 220,
   "metadata": {
    "collapsed": false
   },
   "outputs": [],
   "source": []
  },
  {
   "cell_type": "code",
   "execution_count": 356,
   "metadata": {
    "collapsed": false
   },
   "outputs": [
    {
     "name": "stdout",
     "output_type": "stream",
     "text": [
      "                   pre       rec       spe        f1       geo       iba       sup\n",
      "\n",
      "          1       0.26      0.83      0.90      0.39      0.50      0.24        24\n",
      "          2       0.00      0.00      1.00      0.00      0.00      0.00        31\n",
      "          3       0.38      0.17      0.97      0.24      0.59      0.33        52\n",
      "          4       0.35      0.24      0.86      0.29      0.53      0.26       148\n",
      "          5       0.72      0.81      0.53      0.76      0.69      0.47       379\n",
      "\n",
      "avg / total       0.55      0.59      0.68      0.56      0.60      0.38       634\n",
      "\n"
     ]
    }
   ],
   "source": [
    "print(classification_report_imbalanced(y_pred=test_preds,y_true=Y_test))\n"
   ]
  },
  {
   "cell_type": "code",
   "execution_count": 357,
   "metadata": {
    "collapsed": false
   },
   "outputs": [
    {
     "data": {
      "text/plain": [
       "0.58832807570977919"
      ]
     },
     "execution_count": 357,
     "metadata": {},
     "output_type": "execute_result"
    }
   ],
   "source": [
    "clf.score(X_test,Y_test)"
   ]
  },
  {
   "cell_type": "code",
   "execution_count": 312,
   "metadata": {
    "collapsed": false
   },
   "outputs": [],
   "source": [
    "vis = Visualization()"
   ]
  },
  {
   "cell_type": "code",
   "execution_count": 364,
   "metadata": {
    "collapsed": false
   },
   "outputs": [
    {
     "data": {
      "image/png": "[encoded data removed]",
      "text/plain": [
       "<matplotlib.figure.Figure at 0x113a7ebe0>"
      ]
     },
     "metadata": {
      "image/png": {
       "height": 386,
       "width": 448
      }
     },
     "output_type": "display_data"
    }
   ],
   "source": [
    "vis.plot_confusion_matrix(Y_test, test_preds, \n",
    "                          'Prediction of Ratings with the RFC')"
   ]
  },
  {
   "cell_type": "code",
   "execution_count": 362,
   "metadata": {
    "collapsed": true
   },
   "outputs": [],
   "source": [
    "predictions = pd.DataFrame(test_preds,columns=['RFC_pred'])\n",
    "true = pd.DataFrame(Y_test)\n",
    "true = true.reset_index()\n",
    "predictions['True_label'] = true['Rating']\n",
    "predictions.to_csv('RFC1_predictions.csv')"
   ]
  },
  {
   "cell_type": "code",
   "execution_count": null,
   "metadata": {
    "collapsed": false
   },
   "outputs": [],
   "source": []
  },
  {
   "cell_type": "code",
   "execution_count": 201,
   "metadata": {
    "collapsed": false
   },
   "outputs": [
    {
     "data": {
      "text/plain": [
       "['RFC_best_model.pkl']"
      ]
     },
     "execution_count": 201,
     "metadata": {},
     "output_type": "execute_result"
    }
   ],
   "source": [
    "from sklearn.externals import joblib\n",
    "joblib.dump(clf, 'RFC_best_model.pkl', compress=9)"
   ]
  },
  {
   "cell_type": "code",
   "execution_count": 359,
   "metadata": {
    "collapsed": false
   },
   "outputs": [],
   "source": [
    "clf = joblib.load('best_RFC_text_SKF.pkl')"
   ]
  },
  {
   "cell_type": "code",
   "execution_count": null,
   "metadata": {
    "collapsed": false
   },
   "outputs": [],
   "source": []
  },
  {
   "cell_type": "code",
   "execution_count": null,
   "metadata": {
    "collapsed": false
   },
   "outputs": [],
   "source": []
  },
  {
   "cell_type": "code",
   "execution_count": null,
   "metadata": {
    "collapsed": true
   },
   "outputs": [],
   "source": []
  }
 ],
 "metadata": {
  "kernelspec": {
   "display_name": "Python 3",
   "language": "python",
   "name": "python3"
  },
  "language_info": {
   "codemirror_mode": {
    "name": "ipython",
    "version": 3
   },
   "file_extension": ".py",
   "mimetype": "text/x-python",
   "name": "python",
   "nbconvert_exporter": "python",
   "pygments_lexer": "ipython3",
   "version": "3.5.2"
  }
 },
 "nbformat": 4,
 "nbformat_minor": 2
}
