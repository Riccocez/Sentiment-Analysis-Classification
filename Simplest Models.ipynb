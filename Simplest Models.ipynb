{
 "cells": [
  {
   "cell_type": "code",
   "execution_count": 1,
   "metadata": {
    "collapsed": true
   },
   "outputs": [],
   "source": [
    "%matplotlib inline\n",
    "%config InlineBackend.figure_format='retina'"
   ]
  },
  {
   "cell_type": "code",
   "execution_count": 2,
   "metadata": {
    "collapsed": false
   },
   "outputs": [
    {
     "name": "stderr",
     "output_type": "stream",
     "text": [
      "/Users/rcortez/anaconda/envs/python3/lib/python3.5/site-packages/sklearn/cross_validation.py:44: DeprecationWarning: This module was deprecated in version 0.18 in favor of the model_selection module into which all the refactored classes and functions are moved. Also note that the interface of the new CV iterators are different from that of this module. This module will be removed in 0.20.\n",
      "  \"This module will be removed in 0.20.\", DeprecationWarning)\n"
     ]
    }
   ],
   "source": [
    "import pandas as pd\n",
    "import numpy as np\n",
    "import spell \n",
    "\n",
    "from nltk.sentiment import vader\n",
    "from nltk.tokenize import TweetTokenizer\n",
    "import nltk\n",
    "\n",
    "from nltk.stem.wordnet import WordNetLemmatizer\n",
    "from nltk.stem.snowball import SnowballStemmer\n",
    "from nltk.stem.porter import PorterStemmer\n",
    "from nltk.stem.lancaster import LancasterStemmer\n",
    "\n",
    "from sklearn.feature_extraction.text import CountVectorizer\n",
    "import matplotlib.pyplot as plt\n",
    "\n",
    "from sklearn.ensemble import RandomForestClassifier\n",
    "from Visualization import Visualization\n",
    "#from random import shuffle\n",
    "from sklearn.utils import shuffle\n",
    "\n",
    "from imblearn.metrics import classification_report_imbalanced\n",
    "from sklearn import metrics\n",
    "\n",
    "from sklearn.model_selection import train_test_split\n",
    "from imblearn.over_sampling import ADASYN, SMOTE, RandomOverSampler\n",
    "\n",
    "\n",
    "from sklearn import svm\n",
    "from sklearn.cross_validation import StratifiedShuffleSplit\n",
    "from sklearn.cross_validation import StratifiedKFold\n",
    "from sklearn.metrics import confusion_matrix\n",
    "from matplotlib import cm as cmap"
   ]
  },
  {
   "cell_type": "code",
   "execution_count": 3,
   "metadata": {
    "collapsed": false
   },
   "outputs": [],
   "source": [
    "data = pd.read_csv('rebtel_w_lexicon.csv')\n",
    "data = data.dropna(subset=['Rel_title'], how='any')\n",
    "data = data.reset_index()\n",
    "del data['index']"
   ]
  },
  {
   "cell_type": "code",
   "execution_count": 4,
   "metadata": {
    "collapsed": false
   },
   "outputs": [
    {
     "data": {
      "text/html": [
       "<div>\n",
       "<table border=\"1\" class=\"dataframe\">\n",
       "  <thead>\n",
       "    <tr style=\"text-align: right;\">\n",
       "      <th></th>\n",
       "      <th>Review</th>\n",
       "      <th>Title</th>\n",
       "      <th>Rating</th>\n",
       "      <th>day</th>\n",
       "      <th>month</th>\n",
       "      <th>year</th>\n",
       "      <th>hour</th>\n",
       "      <th>minute</th>\n",
       "      <th>second</th>\n",
       "      <th>dayofweek</th>\n",
       "      <th>...</th>\n",
       "      <th>Rel_wp_title</th>\n",
       "      <th>r_compound</th>\n",
       "      <th>r_negative</th>\n",
       "      <th>r_positive</th>\n",
       "      <th>r_neutral</th>\n",
       "      <th>t_compound</th>\n",
       "      <th>t_negative</th>\n",
       "      <th>t_positive</th>\n",
       "      <th>t_neutral</th>\n",
       "      <th>predictions</th>\n",
       "    </tr>\n",
       "  </thead>\n",
       "  <tbody>\n",
       "    <tr>\n",
       "      <th>0</th>\n",
       "      <td>Rebtel I had been charged several times even w...</td>\n",
       "      <td>Charged without connetion</td>\n",
       "      <td>1</td>\n",
       "      <td>21</td>\n",
       "      <td>2</td>\n",
       "      <td>2017</td>\n",
       "      <td>9</td>\n",
       "      <td>27</td>\n",
       "      <td>7</td>\n",
       "      <td>2</td>\n",
       "      <td>...</td>\n",
       "      <td>Charged without connetion</td>\n",
       "      <td>-0.2023</td>\n",
       "      <td>-0.101</td>\n",
       "      <td>0.0</td>\n",
       "      <td>0.899</td>\n",
       "      <td>-0.2023</td>\n",
       "      <td>-0.474</td>\n",
       "      <td>0.0</td>\n",
       "      <td>0.526</td>\n",
       "      <td>2</td>\n",
       "    </tr>\n",
       "    <tr>\n",
       "      <th>1</th>\n",
       "      <td>I have topped up for 100$ mistakenly as in the...</td>\n",
       "      <td>Refund</td>\n",
       "      <td>1</td>\n",
       "      <td>16</td>\n",
       "      <td>2</td>\n",
       "      <td>2017</td>\n",
       "      <td>2</td>\n",
       "      <td>32</td>\n",
       "      <td>11</td>\n",
       "      <td>4</td>\n",
       "      <td>...</td>\n",
       "      <td>Refund</td>\n",
       "      <td>-0.5267</td>\n",
       "      <td>-0.124</td>\n",
       "      <td>0.0</td>\n",
       "      <td>0.876</td>\n",
       "      <td>0.0000</td>\n",
       "      <td>-0.000</td>\n",
       "      <td>0.0</td>\n",
       "      <td>1.000</td>\n",
       "      <td>2</td>\n",
       "    </tr>\n",
       "  </tbody>\n",
       "</table>\n",
       "<p>2 rows × 34 columns</p>\n",
       "</div>"
      ],
      "text/plain": [
       "                                              Review  \\\n",
       "0  Rebtel I had been charged several times even w...   \n",
       "1  I have topped up for 100$ mistakenly as in the...   \n",
       "\n",
       "                       Title  Rating  day  month  year  hour  minute  second  \\\n",
       "0  Charged without connetion       1   21      2  2017     9      27       7   \n",
       "1                     Refund       1   16      2  2017     2      32      11   \n",
       "\n",
       "   dayofweek     ...                   Rel_wp_title r_compound r_negative  \\\n",
       "0          2     ...      Charged without connetion    -0.2023     -0.101   \n",
       "1          4     ...                         Refund    -0.5267     -0.124   \n",
       "\n",
       "   r_positive  r_neutral  t_compound t_negative t_positive t_neutral  \\\n",
       "0         0.0      0.899     -0.2023     -0.474        0.0     0.526   \n",
       "1         0.0      0.876      0.0000     -0.000        0.0     1.000   \n",
       "\n",
       "  predictions  \n",
       "0           2  \n",
       "1           2  \n",
       "\n",
       "[2 rows x 34 columns]"
      ]
     },
     "execution_count": 4,
     "metadata": {},
     "output_type": "execute_result"
    }
   ],
   "source": [
    "data.head(n=2)"
   ]
  },
  {
   "cell_type": "markdown",
   "metadata": {},
   "source": [
    "## NORMALIZATION"
   ]
  },
  {
   "cell_type": "code",
   "execution_count": 5,
   "metadata": {
    "collapsed": false
   },
   "outputs": [],
   "source": [
    "v = vader.SentimentIntensityAnalyzer()\n",
    "visual = Visualization()"
   ]
  },
  {
   "cell_type": "code",
   "execution_count": 6,
   "metadata": {
    "collapsed": true
   },
   "outputs": [],
   "source": [
    "def isrelevant(word):\n",
    "    \n",
    "    \n",
    "    neu_relevant = {'big','app','skype','call','calls',\n",
    "                    'scamming','billed',' messaging',\n",
    "                    'website','cant','logo','max','go',\n",
    "                    'get','cheap'}\n",
    "    \n",
    "    \n",
    "    pol =  v.polarity_scores(word)\n",
    "    \n",
    "    if pol['neg'] == 1 or pol['pos'] == 1:\n",
    "        return True\n",
    "    else:\n",
    "        if not word.isalpha():\n",
    "            if word == \"n't\":\n",
    "                return False\n",
    "            else:\n",
    "                return True\n",
    "        else:\n",
    "            if word.lower() in neu_relevant:\n",
    "                return True\n",
    "            else:\n",
    "                \n",
    "                return False\n",
    "    "
   ]
  },
  {
   "cell_type": "code",
   "execution_count": 7,
   "metadata": {
    "collapsed": false
   },
   "outputs": [],
   "source": [
    "#tknzr = TweetTokenizer(strip_handles=True, reduce_len=True)\n",
    "\n",
    "def spell_checked(data,columnName):\n",
    "    \n",
    "    avoid = {\"``\",\",\",'\"',\"`\",\"-\"}\n",
    "    \n",
    "    crtd_messages = []\n",
    "\n",
    "    for m in data[columnName]:\n",
    "        \n",
    "        n_w = []\n",
    "        for word in nltk.word_tokenize(m):\n",
    "            if not isrelevant(word):\n",
    "                tmp_w = spell.correct(word)\n",
    "            else:\n",
    "                tmp_w = word\n",
    "            if tmp_w not in avoid:\n",
    "                n_w.append(tmp_w)\n",
    "        n_m = \" \".join(n_w) \n",
    "        crtd_messages.append(n_m)\n",
    "    \n",
    "    return crtd_messages   "
   ]
  },
  {
   "cell_type": "code",
   "execution_count": 8,
   "metadata": {
    "collapsed": false
   },
   "outputs": [],
   "source": [
    "data['R_chk_title'] = spell_checked(data,'Rel_title')"
   ]
  },
  {
   "cell_type": "code",
   "execution_count": 11,
   "metadata": {
    "collapsed": false
   },
   "outputs": [],
   "source": [
    "data['R_chk_review'] = spell_checked(data,'Rel_review')"
   ]
  },
  {
   "cell_type": "code",
   "execution_count": 12,
   "metadata": {
    "collapsed": false
   },
   "outputs": [],
   "source": [
    "# Lemmatization\n",
    "wordnet = WordNetLemmatizer() \n",
    "\n",
    "def lemmatization(data,columnName):\n",
    "    lemmas = []\n",
    "    for message in data[columnName]:\n",
    "        tkn = nltk.word_tokenize(message)\n",
    "        wordnet_lemmas = [wordnet.lemmatize(token) for token in tkn] \n",
    "        lemmas.append(\" \".join(wordnet_lemmas))\n",
    "    return lemmas"
   ]
  },
  {
   "cell_type": "code",
   "execution_count": 13,
   "metadata": {
    "collapsed": false
   },
   "outputs": [],
   "source": [
    "data[\"Lems_title\"] = lemmatization(data,\"R_chk_title\")"
   ]
  },
  {
   "cell_type": "code",
   "execution_count": 14,
   "metadata": {
    "collapsed": false
   },
   "outputs": [],
   "source": [
    "data[\"Lems_review\"] = lemmatization(data,\"R_chk_review\")"
   ]
  },
  {
   "cell_type": "code",
   "execution_count": 15,
   "metadata": {
    "collapsed": true
   },
   "outputs": [],
   "source": [
    "#Stemming\n",
    "def stemming(data,columnName,stem): \n",
    "    lemmas = []\n",
    "    \n",
    "    snowball = SnowballStemmer(\"english\")\n",
    "    porter = PorterStemmer()\n",
    "    lancaster = LancasterStemmer()\n",
    "    \n",
    "    for message in data[columnName]:\n",
    "        tkn = nltk.word_tokenize(message)\n",
    "        if stem is \"snow\":\n",
    "            stemmed = [snowball.stem(token) for token in tkn]\n",
    "        elif stem is \"porter\":\n",
    "            stemmed = [porter.stem(token) for token in tkn]\n",
    "        elif stem is \"lanc\":\n",
    "            stemmed = [lancaster.stem(token) for token in tkn]\n",
    "        lemmas.append(\" \".join(stemmed))\n",
    "    return lemmas"
   ]
  },
  {
   "cell_type": "code",
   "execution_count": 16,
   "metadata": {
    "collapsed": false
   },
   "outputs": [],
   "source": [
    "data[\"Snow_title\"] = stemming(data,\"R_chk_title\",\"snow\")  \n",
    "data[\"Snow_review\"] = stemming(data,\"R_chk_review\",\"snow\")"
   ]
  },
  {
   "cell_type": "code",
   "execution_count": 17,
   "metadata": {
    "collapsed": true
   },
   "outputs": [],
   "source": [
    "data[\"Porter_title\"] = stemming(data,\"R_chk_title\",\"porter\") \n",
    "data[\"Porter_review\"] = stemming(data,\"R_chk_review\",\"porter\") "
   ]
  },
  {
   "cell_type": "code",
   "execution_count": 18,
   "metadata": {
    "collapsed": false
   },
   "outputs": [],
   "source": [
    "data[\"Lanc_title\"] = stemming(data,\"R_chk_title\",\"lanc\") \n",
    "data[\"Lanc_review\"] = stemming(data,\"R_chk_review\",\"lanc\") "
   ]
  },
  {
   "cell_type": "code",
   "execution_count": null,
   "metadata": {
    "collapsed": false
   },
   "outputs": [],
   "source": [
    "data.head(n=2)"
   ]
  },
  {
   "cell_type": "code",
   "execution_count": 19,
   "metadata": {
    "collapsed": false
   },
   "outputs": [],
   "source": [
    "# Join text from title and review\n",
    "merged_text = []\n",
    "for i in range(len(data)):\n",
    "    mrgd = data[\"Lems_title\"][i] + data[\"Lems_review\"][i]\n",
    "    merged_text.append(mrgd)"
   ]
  },
  {
   "cell_type": "code",
   "execution_count": 20,
   "metadata": {
    "collapsed": true
   },
   "outputs": [],
   "source": [
    "def mg_title_rev(data,approach):\n",
    "    # Join text from title and review\n",
    "    merged_text = []\n",
    "    for i in range(len(data)):\n",
    "        mrgd = data[approach + \"_title\"][i] + \" \" + data[approach + \"_review\"][i]\n",
    "        merged_text.append(mrgd)\n",
    "    return merged_text\n",
    "    "
   ]
  },
  {
   "cell_type": "code",
   "execution_count": 21,
   "metadata": {
    "collapsed": true
   },
   "outputs": [],
   "source": [
    "data['Lems_title_review'] = mg_title_rev(data,\"Lems\")"
   ]
  },
  {
   "cell_type": "code",
   "execution_count": 22,
   "metadata": {
    "collapsed": false
   },
   "outputs": [],
   "source": [
    "data['Snow_title_review'] = mg_title_rev(data,\"Snow\")\n",
    "data['Porter_title_review'] = mg_title_rev(data,\"Porter\")\n",
    "data['Lanc_title_review'] = mg_title_rev(data,\"Lanc\")\n"
   ]
  },
  {
   "cell_type": "code",
   "execution_count": 23,
   "metadata": {
    "collapsed": false
   },
   "outputs": [],
   "source": [
    "#data['title_review'] = merged_text\n",
    "data = data.reindex()"
   ]
  },
  {
   "cell_type": "code",
   "execution_count": 24,
   "metadata": {
    "collapsed": false
   },
   "outputs": [],
   "source": [
    "# Build a balanced train/test set\n",
    "r1_df = data.loc[data.Rating == 1]\n",
    "r2_df = data.loc[data.Rating == 2]\n",
    "r3_df = data.loc[data.Rating == 3]\n",
    "r4_df = data.loc[data.Rating == 4]\n",
    "r5_df = data.loc[data.Rating == 5]\n",
    "dfs = [r1_df, r2_df, r3_df, r4_df, r5_df]"
   ]
  },
  {
   "cell_type": "code",
   "execution_count": 25,
   "metadata": {
    "collapsed": true
   },
   "outputs": [],
   "source": [
    "t_size = 0.7\n",
    "\n",
    "train_set = []\n",
    "test_set = []\n",
    "\n",
    "for df in dfs:\n",
    "    \n",
    "    train_size = int(len(df)* t_size)\n",
    "    \n",
    "    train_data = df[0:train_size].reset_index(drop=True)\n",
    "    test_data = df[train_size:].reset_index(drop=True)\n",
    "    \n",
    "    train_set.append(train_data)\n",
    "    test_set.append(test_data)"
   ]
  },
  {
   "cell_type": "code",
   "execution_count": null,
   "metadata": {
    "collapsed": false
   },
   "outputs": [],
   "source": []
  },
  {
   "cell_type": "code",
   "execution_count": 26,
   "metadata": {
    "collapsed": false
   },
   "outputs": [],
   "source": [
    "df_train = pd.concat(train_set[:],axis=0)\n",
    "df_train = df_train.reset_index(drop=True)\n",
    "\n",
    "df_test = pd.concat(test_set[:],axis=0)\n",
    "df_test = df_test.reset_index(drop=True)\n"
   ]
  },
  {
   "cell_type": "code",
   "execution_count": 252,
   "metadata": {
    "collapsed": true
   },
   "outputs": [],
   "source": [
    "df = pd.concat([df_train,df_test],axis=0)\n",
    "df = shuffle(df).reset_index(drop=True)"
   ]
  },
  {
   "cell_type": "code",
   "execution_count": null,
   "metadata": {
    "collapsed": false
   },
   "outputs": [],
   "source": []
  },
  {
   "cell_type": "code",
   "execution_count": null,
   "metadata": {
    "collapsed": false
   },
   "outputs": [],
   "source": []
  },
  {
   "cell_type": "code",
   "execution_count": null,
   "metadata": {
    "collapsed": false
   },
   "outputs": [],
   "source": [
    "\"\"\"\n",
    "#Select method to train model (Lems/Snow/Porter/Lanc)\n",
    "method =  \"Lems\" \n",
    "x_train, y_train = df_train[method + '_title_review'].values, df_train['Rating'].values\n",
    "x_test, y_test = df_test[method + '_title_review'].values, df_test['Rating'].values\n",
    "\n",
    "x_train, y_train = x_train.reshape(x_train.shape[0],), y_train.reshape(y_train.shape[0],)\n",
    "x_test, y_test = x_test.reshape(x_test.shape[0],), y_test.reshape(y_test.shape[0],)\n",
    "\n",
    "\"\"\""
   ]
  },
  {
   "cell_type": "code",
   "execution_count": null,
   "metadata": {
    "collapsed": false
   },
   "outputs": [],
   "source": [
    "\"\"\"\n",
    "# Extract text from title/reviews to build bag of words\n",
    "x_ti_data = data[\"Lems_title\"].values\n",
    "x_ti_data = x_ti_data.reshape(x_ti_data.shape[0],)\n",
    "\n",
    "x_re_data = data[\"Lems_review\"].values\n",
    "x_re_data = x_re_data.reshape(x_re_data.shape[0],)\n",
    "\n",
    "x_data = data['title_review'].values\n",
    "x_data = x_data.reshape(x_data.shape[0],)\n",
    "\"\"\""
   ]
  },
  {
   "cell_type": "code",
   "execution_count": 255,
   "metadata": {
    "collapsed": true
   },
   "outputs": [],
   "source": [
    "# Extract true labels from data\n",
    "y_data = df[\"Rating\"].values\n",
    "y_data = y_data.reshape(y_data.shape[0],)"
   ]
  },
  {
   "cell_type": "code",
   "execution_count": null,
   "metadata": {
    "collapsed": false
   },
   "outputs": [],
   "source": [
    "\"\"\"\n",
    "# \n",
    "print(\"Classes: \")\n",
    "print(np.unique(y_train))\n",
    "\n",
    "# Summarize number of words\n",
    "print(\"Number of words: \")\n",
    "print(len(np.unique(np.hstack(x_train))))\n",
    "\n",
    "# Summarize review length\n",
    "print(\"Review length: \")\n",
    "result = [len(x) for x in x_train]\n",
    "print(\"Mean %.2f words (%f)\" % (np.mean(result), np.std(result)))\n",
    "# plot review length\n",
    "plt.boxplot(result)\n",
    "plt.title('Lenght of words in message reviews')\n",
    "plt.show()\n",
    "\n",
    "# Summarize review length\n",
    "print(\"Review length: \")\n",
    "result = [len(x) for x in x_train]\n",
    "print(\"Mean %.2f words (%f)\" % (np.mean(result), np.std(result)))\n",
    "# plot review length\n",
    "plt.boxplot(result)\n",
    "plt.title('Lenght of words in title reviews')\n",
    "plt.show()\n",
    "\"\"\""
   ]
  },
  {
   "cell_type": "code",
   "execution_count": null,
   "metadata": {
    "collapsed": false
   },
   "outputs": [],
   "source": [
    "#Check distribution of classes\n",
    "#df.Rating.value_counts().plot(kind='bar')"
   ]
  },
  {
   "cell_type": "code",
   "execution_count": 531,
   "metadata": {
    "collapsed": false
   },
   "outputs": [],
   "source": [
    "# Set up Vectorizer with the X most frequent words\n",
    "vectorizer = CountVectorizer(analyzer = \"word\", tokenizer = None, preprocessor = None, stop_words = None,   \\\n",
    "                             max_features = 125)\n",
    "RANDOM_STATE = 0\n",
    "seed = 18\n",
    "np.random.seed(seed)"
   ]
  },
  {
   "cell_type": "code",
   "execution_count": 532,
   "metadata": {
    "collapsed": false
   },
   "outputs": [],
   "source": [
    "ctyNames = df.Country.unique() \n",
    "ctyNames = np.append(ctyNames,['Unkown'])\n",
    "countries = {ctyNames[i]: i for i in range(0, len(ctyNames))}"
   ]
  },
  {
   "cell_type": "code",
   "execution_count": 533,
   "metadata": {
    "collapsed": true
   },
   "outputs": [],
   "source": [
    "def map_country(ctyName,countries):\n",
    "    \n",
    "    if ctyName in countries:\n",
    "        value = countries[ctyName]\n",
    "    else:\n",
    "        value = countries['Unkown']\n",
    "\n",
    "    return value"
   ]
  },
  {
   "cell_type": "code",
   "execution_count": 534,
   "metadata": {
    "collapsed": false
   },
   "outputs": [],
   "source": [
    "df['Key_country'] = [map_country(cty,countries) for cty in df.Country]"
   ]
  },
  {
   "cell_type": "code",
   "execution_count": 499,
   "metadata": {
    "collapsed": true
   },
   "outputs": [],
   "source": [
    "#ADD MORE FEATURES\n",
    "\n",
    "\n",
    "add_feats = df[['Reads','Useful','Reviews','Key_country']]\n",
    "a_feats = add_feats.values"
   ]
  },
  {
   "cell_type": "code",
   "execution_count": 548,
   "metadata": {
    "collapsed": true
   },
   "outputs": [],
   "source": [
    "#Select method to train model (Lems/Snow/Porter/Lanc)\n",
    "method =  \"Lanc\"\n",
    "add_feats = True\n",
    "\n",
    "x_fts = vectorizer.fit_transform(df[method + '_title_review'])\n",
    "x_fts = x_fts.toarray()\n",
    "\n",
    "\n",
    "if add_feats:\n",
    "    x_fts = np.concatenate((x_fts,a_feats),axis=1)\n",
    "\n",
    "\n",
    "\n",
    "train_size = 0.7\n",
    "train_size = int(len(x_fts)* train_size)\n",
    "\n",
    "x_train, y_train = x_fts[0:train_size], df['Rating'][0:train_size]\n",
    "x_test, y_test = x_fts[train_size:], df['Rating'][train_size:] \n",
    "\n"
   ]
  },
  {
   "cell_type": "code",
   "execution_count": null,
   "metadata": {
    "collapsed": false
   },
   "outputs": [],
   "source": []
  },
  {
   "cell_type": "code",
   "execution_count": 524,
   "metadata": {
    "collapsed": false
   },
   "outputs": [],
   "source": [
    "\"\"\"\n",
    "ros = RandomOverSampler(random_state=RANDOM_STATE)\n",
    "x_train, y_train = ros.fit_sample(x_train, y_train)\n",
    "x_test, y_test = ros.fit_sample(x_test, y_test)\n",
    "\n",
    "x_data  = np.concatenate((x_train,x_test),axis=0)\n",
    "y_data = np.concatenate((y_train,y_test),axis=0)\n",
    "\"\"\""
   ]
  },
  {
   "cell_type": "code",
   "execution_count": 550,
   "metadata": {
    "collapsed": false
   },
   "outputs": [
    {
     "data": {
      "text/plain": [
       "(1267, 129)"
      ]
     },
     "execution_count": 550,
     "metadata": {},
     "output_type": "execute_result"
    }
   ],
   "source": [
    "x_train.shape"
   ]
  },
  {
   "cell_type": "code",
   "execution_count": 556,
   "metadata": {
    "collapsed": false
   },
   "outputs": [
    {
     "name": "stderr",
     "output_type": "stream",
     "text": [
      "/Users/rcortez/anaconda/envs/python3/lib/python3.5/site-packages/sklearn/metrics/classification.py:1113: UndefinedMetricWarning: Precision and F-score are ill-defined and being set to 0.0 in labels with no predicted samples.\n",
      "  'precision', 'predicted', average, warn_for)\n",
      "/Users/rcortez/anaconda/envs/python3/lib/python3.5/site-packages/imblearn/metrics/classification.py:240: UndefinedMetricWarning: Sensitivity is ill-defined and being set to 0.0 in labels with no true samples.\n",
      "  average, warn_for)\n",
      "/Users/rcortez/anaconda/envs/python3/lib/python3.5/site-packages/sklearn/metrics/classification.py:1113: UndefinedMetricWarning: Precision and F-score are ill-defined and being set to 0.0 in labels with no predicted samples.\n",
      "  'precision', 'predicted', average, warn_for)\n",
      "/Users/rcortez/anaconda/envs/python3/lib/python3.5/site-packages/imblearn/metrics/classification.py:240: UndefinedMetricWarning: Sensitivity is ill-defined and being set to 0.0 in labels with no true samples.\n",
      "  average, warn_for)\n",
      "/Users/rcortez/anaconda/envs/python3/lib/python3.5/site-packages/sklearn/metrics/classification.py:1113: UndefinedMetricWarning: Precision and F-score are ill-defined and being set to 0.0 in labels with no predicted samples.\n",
      "  'precision', 'predicted', average, warn_for)\n",
      "/Users/rcortez/anaconda/envs/python3/lib/python3.5/site-packages/imblearn/metrics/classification.py:240: UndefinedMetricWarning: Sensitivity is ill-defined and being set to 0.0 in labels with no true samples.\n",
      "  average, warn_for)\n"
     ]
    },
    {
     "name": "stdout",
     "output_type": "stream",
     "text": [
      "Average precision : 0.526\n",
      "Average recall : 0.578\n",
      "Average F-score : 0.532\n"
     ]
    }
   ],
   "source": [
    "#cross_validation = StratifiedShuffleSplit(y_data, n_iter=15, test_size=0.3, random_state=RANDOM_STATE)\n",
    "cross_validation =   StratifiedKFold (y_train,n_folds=10, random_state=RANDOM_STATE)\n",
    "\n",
    "scores = []\n",
    "confusion_matrices = []\n",
    "clf_models = []\n",
    "avgs = []\n",
    "\n",
    "for train_index,test_index in cross_validation:\n",
    "\n",
    "    clf = None\n",
    "\n",
    "    dx_train, dy_train = x_train[train_index], y_train[train_index]\n",
    "    dx_test, dy_test = x_train[test_index], y_train[test_index]\n",
    "    \n",
    "    clf = RandomForestClassifier(n_estimators= 77, n_jobs=-1,random_state=RANDOM_STATE)\n",
    "    #clf = svm.SVC(decision_function_shape='ovo',random_state=RANDOM_STATE,probability=True)\n",
    "    clf.fit(dx_train, dy_train)\n",
    "    clf_models.append(clf)\n",
    "    \n",
    "    # Saving the scores.\n",
    "    test_score = clf.score(dx_test, dy_test)\n",
    "    test_preds = clf.predict(dx_test)\n",
    "    rep = classification_report_imbalanced(dy_test, test_preds)\n",
    "    txt_rep = nltk.word_tokenize(rep[500:1000])\n",
    "    avg_total = [float(txt_rep[i]) for i in range(3,len(txt_rep))]\n",
    "    avgs.append(avg_total)\n",
    "    scores.append(test_score)\n",
    "\n",
    "\n",
    "    # Saving the confusion matrices.\n",
    "    data_classes_pred = clf.predict(dx_test) \n",
    "    cm = confusion_matrix(dy_test, test_preds)\n",
    "    confusion_matrices.append(cm)\n",
    "    \n",
    "print('Average precision :', str(np.mean([avgs[i][0] for i in range(len(avgs))])))\n",
    "print('Average recall :', str(np.mean([avgs[i][1] for i in range(len(avgs))])))\n",
    "print('Average F-score :', str(np.mean([avgs[i][3] for i in range(len(avgs))])))"
   ]
  },
  {
   "cell_type": "code",
   "execution_count": null,
   "metadata": {
    "collapsed": false
   },
   "outputs": [],
   "source": []
  },
  {
   "cell_type": "code",
   "execution_count": 552,
   "metadata": {
    "collapsed": false
   },
   "outputs": [
    {
     "data": {
      "text/plain": [
       "RandomForestClassifier(bootstrap=True, class_weight=None, criterion='gini',\n",
       "            max_depth=None, max_features='auto', max_leaf_nodes=None,\n",
       "            min_impurity_split=1e-07, min_samples_leaf=1,\n",
       "            min_samples_split=2, min_weight_fraction_leaf=0.0,\n",
       "            n_estimators=37, n_jobs=-1, oob_score=False, random_state=0,\n",
       "            verbose=0, warm_start=False)"
      ]
     },
     "execution_count": 552,
     "metadata": {},
     "output_type": "execute_result"
    }
   ],
   "source": [
    "clf = RandomForestClassifier(n_estimators= 37, n_jobs=-1,random_state=RANDOM_STATE)\n",
    "clf.fit(x_train, y_train)"
   ]
  },
  {
   "cell_type": "code",
   "execution_count": 554,
   "metadata": {
    "collapsed": false
   },
   "outputs": [
    {
     "name": "stdout",
     "output_type": "stream",
     "text": [
      "                   pre       rec       spe        f1       geo       iba       sup\n",
      "\n",
      "          1       0.59      0.65      0.93      0.62      0.75      0.54        72\n",
      "          2       0.25      0.03      0.99      0.06      0.49      0.22        31\n",
      "          3       0.33      0.17      0.96      0.23      0.55      0.28        58\n",
      "          4       0.42      0.32      0.87      0.36      0.58      0.32       124\n",
      "          5       0.64      0.83      0.58      0.72      0.71      0.50       258\n",
      "\n",
      "avg / total       0.53      0.57      0.76      0.54      0.66      0.43       543\n",
      "\n"
     ]
    }
   ],
   "source": [
    "test_preds = clf.predict(x_test)\n",
    "print(classification_report_imbalanced(y_test, test_preds))"
   ]
  },
  {
   "cell_type": "code",
   "execution_count": 528,
   "metadata": {
    "collapsed": false
   },
   "outputs": [
    {
     "data": {
      "image/png": "[encoded data removed]",
      "text/plain": [
       "<matplotlib.figure.Figure at 0x10437def0>"
      ]
     },
     "metadata": {
      "image/png": {
       "height": 378,
       "width": 457
      }
     },
     "output_type": "display_data"
    }
   ],
   "source": [
    "tip_labels = ['1' , '1', '2', '3', '4', '5']\n",
    "\n",
    "\n",
    "first = True\n",
    "cm = None\n",
    "\n",
    "for cm_iter in confusion_matrices:\n",
    "    if first:\n",
    "        cm = cm_iter.copy()\n",
    "        first = False\n",
    "    else:\n",
    "        \n",
    "        cm = cm + cm_iter\n",
    "\n",
    "fig, axes = plt.subplots(figsize=(15,6))\n",
    "#cm = cm.astype('float') / cm.sum(axis=1)[:, np.newaxis]\n",
    "colorbar = axes.matshow(cm, cmap=cmap.gist_heat_r)\n",
    "fig.colorbar(colorbar)\n",
    "\n",
    "for (i, j), z in np.ndenumerate(cm):\n",
    "            axes.text(j, i, '{:0.2f}'.format(z), ha='center', va='center',color='gray')\n",
    "\n",
    "\n",
    "axes.set_xlabel('Predicted class', fontsize=15)\n",
    "axes.set_ylabel('True class', fontsize=15)\n",
    "\n",
    "axes.set_xticklabels(tip_labels)\n",
    "axes.set_yticklabels(tip_labels)\n",
    "\n",
    "axes.tick_params(labelsize=12)"
   ]
  },
  {
   "cell_type": "code",
   "execution_count": 434,
   "metadata": {
    "collapsed": false
   },
   "outputs": [],
   "source": [
    "#visual.counter(y_train,'y_train')"
   ]
  },
  {
   "cell_type": "code",
   "execution_count": 518,
   "metadata": {
    "collapsed": false
   },
   "outputs": [
    {
     "data": {
      "image/png": "[encoded data removed]",
      "text/plain": [
       "<matplotlib.figure.Figure at 0x10ef47128>"
      ]
     },
     "metadata": {
      "image/png": {
       "height": 368,
       "width": 1184
      }
     },
     "output_type": "display_data"
    }
   ],
   "source": [
    "#forest = RandomForestClassifier(n_estimators = 37) \n",
    "clf = clf_models[3]\n",
    "#forest = forest.fit(x_train, y_train)\n",
    "#test_preds = clf.predict(x_test)\n",
    "\n",
    "#clf = svm.SVC(decision_function_shape='ovo',random_state=RANDOM_STATE)\n",
    "#clf = clf.fit(x_train, y_train)\n",
    "#test_preds = clf.predict(x_test)\n",
    "\n",
    "import pylab\n",
    "\n",
    "features = clf.feature_importances_\n",
    "\n",
    "\n",
    "pylab.figure(1,figsize=(20,6))\n",
    "x = range(len(features))\n",
    "pylab.xticks(x,rotation='vertical')\n",
    "\n",
    "pylab.yticks(fontsize=16)\n",
    "pylab.bar(x,features,align=\"center\",width=0.9)\n",
    "pylab.show()"
   ]
  },
  {
   "cell_type": "code",
   "execution_count": 277,
   "metadata": {
    "collapsed": false
   },
   "outputs": [],
   "source": [
    "\n",
    "#visual.plot_confusion_matrix(y_test, test_preds, 'Prediction of Ratings with a RFC Classifier')"
   ]
  },
  {
   "cell_type": "code",
   "execution_count": null,
   "metadata": {
    "collapsed": false
   },
   "outputs": [],
   "source": []
  },
  {
   "cell_type": "code",
   "execution_count": null,
   "metadata": {
    "collapsed": false
   },
   "outputs": [],
   "source": []
  },
  {
   "cell_type": "code",
   "execution_count": null,
   "metadata": {
    "collapsed": false
   },
   "outputs": [],
   "source": []
  },
  {
   "cell_type": "code",
   "execution_count": null,
   "metadata": {
    "collapsed": false
   },
   "outputs": [],
   "source": []
  },
  {
   "cell_type": "code",
   "execution_count": null,
   "metadata": {
    "collapsed": false
   },
   "outputs": [],
   "source": []
  },
  {
   "cell_type": "code",
   "execution_count": null,
   "metadata": {
    "collapsed": false
   },
   "outputs": [],
   "source": []
  },
  {
   "cell_type": "code",
   "execution_count": null,
   "metadata": {
    "collapsed": false
   },
   "outputs": [],
   "source": []
  },
  {
   "cell_type": "code",
   "execution_count": null,
   "metadata": {
    "collapsed": false
   },
   "outputs": [],
   "source": []
  },
  {
   "cell_type": "code",
   "execution_count": null,
   "metadata": {
    "collapsed": true
   },
   "outputs": [],
   "source": []
  },
  {
   "cell_type": "code",
   "execution_count": 220,
   "metadata": {
    "collapsed": false
   },
   "outputs": [
    {
     "data": {
      "text/plain": [
       "['best_RFC_text_SSS.pkl']"
      ]
     },
     "execution_count": 220,
     "metadata": {},
     "output_type": "execute_result"
    }
   ],
   "source": [
    "from sklearn.externals import joblib\n",
    "joblib.dump(clf, 'best_RFC_text_SSS.pkl', compress=9)\n",
    "#model_clone = joblib.load('best_SVM_text.pkl')"
   ]
  },
  {
   "cell_type": "code",
   "execution_count": null,
   "metadata": {
    "collapsed": true
   },
   "outputs": [],
   "source": []
  }
 ],
 "metadata": {
  "kernelspec": {
   "display_name": "Python 3",
   "language": "python",
   "name": "python3"
  },
  "language_info": {
   "codemirror_mode": {
    "name": "ipython",
    "version": 3
   },
   "file_extension": ".py",
   "mimetype": "text/x-python",
   "name": "python",
   "nbconvert_exporter": "python",
   "pygments_lexer": "ipython3",
   "version": "3.5.2"
  }
 },
 "nbformat": 4,
 "nbformat_minor": 2
}
