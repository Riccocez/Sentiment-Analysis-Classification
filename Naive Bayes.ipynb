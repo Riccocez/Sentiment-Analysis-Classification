{
 "cells": [
  {
   "cell_type": "code",
   "execution_count": 1,
   "metadata": {
    "collapsed": true
   },
   "outputs": [],
   "source": [
    "%matplotlib inline\n",
    "%config InlineBackend.figure_format='retina'"
   ]
  },
  {
   "cell_type": "code",
   "execution_count": 43,
   "metadata": {
    "collapsed": false
   },
   "outputs": [],
   "source": [
    "import pandas as pd\n",
    "import numpy as np\n",
    "import nltk\n",
    "from sklearn.utils import shuffle\n",
    "from sklearn.feature_extraction.text import CountVectorizer\n",
    "from sklearn.feature_extraction.text import TfidfVectorizer\n",
    "from sklearn.ensemble import RandomForestClassifier\n",
    "from sklearn.multiclass import OneVsRestClassifier\n",
    "\n",
    "from sklearn.naive_bayes import MultinomialNB\n",
    "from imblearn.metrics import classification_report_imbalanced\n",
    "from sklearn import svm\n",
    "from nltk.tokenize import TweetTokenizer\n",
    "from Visualization import Visualization\n",
    "from sklearn.cross_validation import StratifiedKFold\n",
    "from sklearn.metrics import confusion_matrix"
   ]
  },
  {
   "cell_type": "code",
   "execution_count": 3,
   "metadata": {
    "collapsed": true
   },
   "outputs": [],
   "source": [
    "data = pd.read_csv(\"rebtel_w_lexicon.csv\")"
   ]
  },
  {
   "cell_type": "code",
   "execution_count": 25,
   "metadata": {
    "collapsed": false
   },
   "outputs": [],
   "source": [
    "# Define Vectorizer to build bag-of-words representation\n",
    "\n",
    "tfidf_vectorizer = TfidfVectorizer(ngram_range=(1,2))\n",
    "vectorizer = CountVectorizer(ngram_range=(1,2),analyzer = \"word\", tokenizer = None, \n",
    "                             preprocessor = None, stop_words = None, max_features = 245)\n",
    "\n",
    "RANDOM_STATE = 0\n",
    "seed = 18\n",
    "np.random.seed(seed)"
   ]
  },
  {
   "cell_type": "code",
   "execution_count": 26,
   "metadata": {
    "collapsed": true
   },
   "outputs": [],
   "source": [
    "#ADD MORE FEATURES\n",
    "add_feats = data[['r_negative', 'r_positive',\n",
    "                'r_neutral','t_negative', 't_positive',\n",
    "                't_neutral']]\n",
    "a_feats = add_feats.values"
   ]
  },
  {
   "cell_type": "code",
   "execution_count": 27,
   "metadata": {
    "collapsed": false
   },
   "outputs": [],
   "source": [
    "#Select method to train model (Lems/Snow/Porter/Lanc)\n",
    "method =  \"Lanc\"\n",
    "add_feats = False\n",
    "tfidf = False\n",
    " \n",
    "\n",
    "x_fts_fit = vectorizer.fit_transform(data[method + '_title_review'])\n",
    "\n",
    "#x_fts = vectorizer.fit_transform(data['Rel_w_title_review'])\n",
    "\n",
    "if tfidf:\n",
    "    x_fts = tfidf_vectorizer.fit_transform(data[method + '_title_review'])\n",
    "    \n",
    "x_fts = x_fts_fit.toarray()\n",
    "\n",
    "\n",
    "if add_feats:\n",
    "    x_fts = np.concatenate((x_fts,a_feats),axis=1)\n",
    "\n",
    "\n",
    "np.random.seed(seed)\n",
    "\n",
    "train_size = 0.65\n",
    "train_size = int(len(x_fts)* train_size)\n",
    "shuffle(data)\n",
    "\n",
    "x_train, y_train = x_fts[0:train_size], data['Rating'][0:train_size]\n",
    "X_test, Y_test = x_fts[train_size:], data['Rating'][train_size:]"
   ]
  },
  {
   "cell_type": "code",
   "execution_count": 28,
   "metadata": {
    "collapsed": false
   },
   "outputs": [],
   "source": []
  },
  {
   "cell_type": "code",
   "execution_count": 34,
   "metadata": {
    "collapsed": false
   },
   "outputs": [
    {
     "name": "stdout",
     "output_type": "stream",
     "text": [
      "Average precision : 0.548\n",
      "Average recall : 0.564\n",
      "Average F-score : 0.548\n"
     ]
    }
   ],
   "source": [
    "#cross_validation = StratifiedShuffleSplit(y_data, n_iter=10, test_size=0.3, random_state=RANDOM_STATE)\n",
    "cross_validation =   StratifiedKFold (y_train,n_folds=5, random_state=RANDOM_STATE)\n",
    "\n",
    "scores = []\n",
    "confusion_matrices = []\n",
    "clf_models = []\n",
    "avgs = []\n",
    "\n",
    "for train_index,test_index in cross_validation:\n",
    "\n",
    "    clf = None\n",
    "\n",
    "    dx_train, dy_train = x_train[train_index], y_train[train_index]\n",
    "    dx_test, dy_test = x_train[test_index], y_train[test_index]\n",
    "    \n",
    "    clf = MultinomialNB().fit(dx_train, dy_train)\n",
    "    \n",
    "    clf.fit(dx_train, dy_train)\n",
    "    clf_models.append(clf)\n",
    "    \n",
    "    # Saving the scores.\n",
    "    test_score = clf.score(dx_test, dy_test)\n",
    "    test_preds = clf.predict(dx_test)\n",
    "    rep = classification_report_imbalanced(dy_test, test_preds)\n",
    "    txt_rep = nltk.word_tokenize(rep[500:1000])\n",
    "    avg_total = [float(txt_rep[i]) for i in range(3,len(txt_rep))]\n",
    "    avgs.append(avg_total)\n",
    "    scores.append(test_score)\n",
    "\n",
    "\n",
    "    # Saving the confusion matrices.\n",
    "    data_classes_pred = clf.predict(dx_test) \n",
    "    cm = confusion_matrix(dy_test, test_preds)\n",
    "    confusion_matrices.append(cm)\n",
    "    \n",
    "print('Average precision :', str(np.mean([avgs[i][0] for i in range(len(avgs))])))\n",
    "print('Average recall :', str(np.mean([avgs[i][1] for i in range(len(avgs))])))\n",
    "print('Average F-score :', str(np.mean([avgs[i][3] for i in range(len(avgs))])))"
   ]
  },
  {
   "cell_type": "code",
   "execution_count": 35,
   "metadata": {
    "collapsed": false
   },
   "outputs": [
    {
     "data": {
      "text/plain": [
       "MultinomialNB(alpha=1.0, class_prior=None, fit_prior=True)"
      ]
     },
     "execution_count": 35,
     "metadata": {},
     "output_type": "execute_result"
    }
   ],
   "source": [
    "clf = MultinomialNB().fit(x_train, y_train)\n",
    "clf.fit(x_train,y_train)"
   ]
  },
  {
   "cell_type": "code",
   "execution_count": 36,
   "metadata": {
    "collapsed": false
   },
   "outputs": [],
   "source": [
    "test_preds = clf.predict(X_test)"
   ]
  },
  {
   "cell_type": "code",
   "execution_count": 37,
   "metadata": {
    "collapsed": false
   },
   "outputs": [
    {
     "name": "stdout",
     "output_type": "stream",
     "text": [
      "                   pre       rec       spe        f1       geo       iba       sup\n",
      "\n",
      "          1       0.27      0.54      0.94      0.36      0.52      0.25        24\n",
      "          2       0.24      0.23      0.96      0.23      0.48      0.22        31\n",
      "          3       0.28      0.31      0.93      0.29      0.51      0.24        52\n",
      "          4       0.35      0.34      0.81      0.35      0.53      0.27       148\n",
      "          5       0.79      0.74      0.71      0.77      0.72      0.52       379\n",
      "\n",
      "avg / total       0.60      0.58      0.77      0.59      0.64      0.42       634\n",
      "\n"
     ]
    }
   ],
   "source": [
    "print(classification_report_imbalanced(y_pred=test_preds,y_true=Y_test))\n"
   ]
  },
  {
   "cell_type": "code",
   "execution_count": 38,
   "metadata": {
    "collapsed": false
   },
   "outputs": [
    {
     "data": {
      "text/plain": [
       "0.58044164037854895"
      ]
     },
     "execution_count": 38,
     "metadata": {},
     "output_type": "execute_result"
    }
   ],
   "source": [
    "clf.score(X_test,Y_test)"
   ]
  },
  {
   "cell_type": "code",
   "execution_count": 39,
   "metadata": {
    "collapsed": false
   },
   "outputs": [],
   "source": [
    "vis = Visualization()"
   ]
  },
  {
   "cell_type": "code",
   "execution_count": 42,
   "metadata": {
    "collapsed": false
   },
   "outputs": [
    {
     "data": {
      "image/png": "[encoded data removed]",
      "text/plain": [
       "<matplotlib.figure.Figure at 0x11187c160>"
      ]
     },
     "metadata": {
      "image/png": {
       "height": 386,
       "width": 448
      }
     },
     "output_type": "display_data"
    }
   ],
   "source": [
    "vis.plot_confusion_matrix(Y_test, test_preds, \n",
    "                          'Prediction of Ratings with the Naive Bayes Classifier')"
   ]
  },
  {
   "cell_type": "code",
   "execution_count": 41,
   "metadata": {
    "collapsed": true
   },
   "outputs": [],
   "source": [
    "predictions = pd.DataFrame(test_preds,columns=['NB_pred'])\n",
    "true = pd.DataFrame(Y_test)\n",
    "true = true.reset_index()\n",
    "predictions['True_label'] = true['Rating']\n",
    "predictions.to_csv('NB_predictions.csv')"
   ]
  },
  {
   "cell_type": "code",
   "execution_count": null,
   "metadata": {
    "collapsed": false
   },
   "outputs": [],
   "source": []
  },
  {
   "cell_type": "code",
   "execution_count": null,
   "metadata": {
    "collapsed": false
   },
   "outputs": [],
   "source": []
  },
  {
   "cell_type": "code",
   "execution_count": null,
   "metadata": {
    "collapsed": false
   },
   "outputs": [],
   "source": []
  },
  {
   "cell_type": "code",
   "execution_count": null,
   "metadata": {
    "collapsed": false
   },
   "outputs": [],
   "source": []
  },
  {
   "cell_type": "code",
   "execution_count": null,
   "metadata": {
    "collapsed": false
   },
   "outputs": [],
   "source": []
  },
  {
   "cell_type": "code",
   "execution_count": null,
   "metadata": {
    "collapsed": true
   },
   "outputs": [],
   "source": []
  }
 ],
 "metadata": {
  "kernelspec": {
   "display_name": "Python 3",
   "language": "python",
   "name": "python3"
  },
  "language_info": {
   "codemirror_mode": {
    "name": "ipython",
    "version": 3
   },
   "file_extension": ".py",
   "mimetype": "text/x-python",
   "name": "python",
   "nbconvert_exporter": "python",
   "pygments_lexer": "ipython3",
   "version": "3.5.2"
  }
 },
 "nbformat": 4,
 "nbformat_minor": 2
}
