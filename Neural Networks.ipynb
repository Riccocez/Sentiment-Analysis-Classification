{
 "cells": [
  {
   "cell_type": "code",
   "execution_count": 1,
   "metadata": {
    "collapsed": true
   },
   "outputs": [],
   "source": [
    "%matplotlib inline\n",
    "%config InlineBackend.figure_format='retina'"
   ]
  },
  {
   "cell_type": "code",
   "execution_count": 2,
   "metadata": {
    "collapsed": false
   },
   "outputs": [
    {
     "name": "stderr",
     "output_type": "stream",
     "text": [
      "/Users/rcortez/anaconda/envs/python3/lib/python3.5/site-packages/sklearn/cross_validation.py:44: DeprecationWarning: This module was deprecated in version 0.18 in favor of the model_selection module into which all the refactored classes and functions are moved. Also note that the interface of the new CV iterators are different from that of this module. This module will be removed in 0.20.\n",
      "  \"This module will be removed in 0.20.\", DeprecationWarning)\n",
      "Using TensorFlow backend.\n"
     ]
    }
   ],
   "source": [
    "import pandas as pd\n",
    "import numpy as np\n",
    "import spell \n",
    "\n",
    "from nltk.sentiment import vader\n",
    "from nltk.tokenize import TweetTokenizer\n",
    "import nltk\n",
    "\n",
    "from nltk.stem.wordnet import WordNetLemmatizer\n",
    "from nltk.stem.snowball import SnowballStemmer\n",
    "from nltk.stem.porter import PorterStemmer\n",
    "from nltk.stem.lancaster import LancasterStemmer\n",
    "\n",
    "from sklearn.feature_extraction.text import CountVectorizer\n",
    "import matplotlib.pyplot as plt\n",
    "\n",
    "from sklearn.ensemble import RandomForestClassifier\n",
    "from Visualization import Visualization\n",
    "from sklearn.utils import shuffle\n",
    "\n",
    "from imblearn.metrics import classification_report_imbalanced\n",
    "from sklearn import metrics\n",
    "from imblearn.over_sampling import ADASYN, SMOTE, RandomOverSampler\n",
    "\n",
    "\n",
    "from sklearn import svm\n",
    "from sklearn.cross_validation import StratifiedShuffleSplit\n",
    "from sklearn.cross_validation import StratifiedKFold\n",
    "from sklearn.metrics import confusion_matrix\n",
    "from matplotlib import cm as cmap\n",
    "\n",
    "from keras.models import Sequential\n",
    "from keras.layers import Dense, Activation\n",
    "from keras.layers import Flatten\n",
    "from keras.layers.embeddings import Embedding\n",
    "from keras.preprocessing import sequence\n",
    "\n",
    "from sklearn.preprocessing import LabelEncoder\n",
    "from keras.utils import np_utils\n",
    "from keras.wrappers.scikit_learn import KerasClassifier\n",
    "from sklearn.model_selection import KFold\n",
    "from sklearn.model_selection import train_test_split"
   ]
  },
  {
   "cell_type": "code",
   "execution_count": 3,
   "metadata": {
    "collapsed": false
   },
   "outputs": [],
   "source": [
    "data = pd.read_csv('rebtel_w_lexicon.csv')\n",
    "data = data.dropna(subset=['Rel_title'], how='any')\n",
    "data = data.reset_index()\n",
    "del data['index']"
   ]
  },
  {
   "cell_type": "code",
   "execution_count": null,
   "metadata": {
    "collapsed": false
   },
   "outputs": [],
   "source": [
    "data.head(n=2)"
   ]
  },
  {
   "cell_type": "markdown",
   "metadata": {},
   "source": [
    "## NORMALIZATION"
   ]
  },
  {
   "cell_type": "code",
   "execution_count": 5,
   "metadata": {
    "collapsed": false
   },
   "outputs": [],
   "source": [
    "v = vader.SentimentIntensityAnalyzer()\n",
    "visual = Visualization()"
   ]
  },
  {
   "cell_type": "code",
   "execution_count": 6,
   "metadata": {
    "collapsed": true
   },
   "outputs": [],
   "source": [
    "def isrelevant(word):\n",
    "    \n",
    "    \n",
    "    neu_relevant = {'big','app','skype','call','calls',\n",
    "                    'scamming','billed',' messaging',\n",
    "                    'website','cant','logo','max','go',\n",
    "                    'get','cheap'}\n",
    "    \n",
    "    \n",
    "    pol =  v.polarity_scores(word)\n",
    "    \n",
    "    if pol['neg'] == 1 or pol['pos'] == 1:\n",
    "        return True\n",
    "    else:\n",
    "        if not word.isalpha():\n",
    "            if word == \"n't\":\n",
    "                return False\n",
    "            else:\n",
    "                return True\n",
    "        else:\n",
    "            if word.lower() in neu_relevant:\n",
    "                return True\n",
    "            else:\n",
    "                \n",
    "                return False\n",
    "    "
   ]
  },
  {
   "cell_type": "code",
   "execution_count": 7,
   "metadata": {
    "collapsed": false
   },
   "outputs": [],
   "source": [
    "#tknzr = TweetTokenizer(strip_handles=True, reduce_len=True)\n",
    "\n",
    "def spell_checked(data,columnName):\n",
    "    \n",
    "    avoid = {\"``\",\",\",'\"',\"`\",\"-\"}\n",
    "    \n",
    "    crtd_messages = []\n",
    "\n",
    "    for m in data[columnName]:\n",
    "        \n",
    "        n_w = []\n",
    "        for word in nltk.word_tokenize(m):\n",
    "            if not isrelevant(word):\n",
    "                tmp_w = spell.correct(word)\n",
    "            else:\n",
    "                tmp_w = word\n",
    "            if tmp_w not in avoid:\n",
    "                n_w.append(tmp_w)\n",
    "        n_m = \" \".join(n_w) \n",
    "        crtd_messages.append(n_m)\n",
    "    \n",
    "    return crtd_messages   "
   ]
  },
  {
   "cell_type": "code",
   "execution_count": 8,
   "metadata": {
    "collapsed": false
   },
   "outputs": [],
   "source": [
    "data['R_chk_title'] = spell_checked(data,'Rel_title')"
   ]
  },
  {
   "cell_type": "code",
   "execution_count": 9,
   "metadata": {
    "collapsed": false
   },
   "outputs": [],
   "source": [
    "data['R_chk_review'] = spell_checked(data,'Rel_review')"
   ]
  },
  {
   "cell_type": "code",
   "execution_count": 20,
   "metadata": {
    "collapsed": false
   },
   "outputs": [
    {
     "data": {
      "text/plain": [
       "Index(['Review', 'Title', 'Rating', 'day', 'month', 'year', 'hour', 'minute',\n",
       "       'second', 'dayofweek', 'weekofyear', 'Country', 'Username', 'Reviews',\n",
       "       'Reads', 'Useful', 'Genre', 'C_review', 'C_title', 'Rel_review',\n",
       "       'Rel_title', 'C_wp_review', 'C_wp_title', 'Rel_wp_review',\n",
       "       'Rel_wp_title', 'r_compound', 'r_negative', 'r_positive', 'r_neutral',\n",
       "       't_compound', 't_negative', 't_positive', 't_neutral', 'predictions'],\n",
       "      dtype='object')"
      ]
     },
     "execution_count": 20,
     "metadata": {},
     "output_type": "execute_result"
    }
   ],
   "source": [
    "data.columns"
   ]
  },
  {
   "cell_type": "code",
   "execution_count": 12,
   "metadata": {
    "collapsed": false
   },
   "outputs": [],
   "source": [
    "# Lemmatization\n",
    "wordnet = WordNetLemmatizer() \n",
    "\n",
    "def lemmatization(data,columnName):\n",
    "    lemmas = []\n",
    "    for message in data[columnName]:\n",
    "        tkn = nltk.word_tokenize(message)\n",
    "        wordnet_lemmas = [wordnet.lemmatize(token) for token in tkn] \n",
    "        lemmas.append(\" \".join(wordnet_lemmas))\n",
    "    return lemmas"
   ]
  },
  {
   "cell_type": "code",
   "execution_count": 13,
   "metadata": {
    "collapsed": false
   },
   "outputs": [],
   "source": [
    "data[\"Lems_title\"] = lemmatization(data,\"R_chk_title\")"
   ]
  },
  {
   "cell_type": "code",
   "execution_count": 14,
   "metadata": {
    "collapsed": false
   },
   "outputs": [],
   "source": [
    "data[\"Lems_review\"] = lemmatization(data,\"R_chk_review\")"
   ]
  },
  {
   "cell_type": "code",
   "execution_count": 15,
   "metadata": {
    "collapsed": true
   },
   "outputs": [],
   "source": [
    "#Stemming\n",
    "def stemming(data,columnName,stem): \n",
    "    lemmas = []\n",
    "    \n",
    "    snowball = SnowballStemmer(\"english\")\n",
    "    porter = PorterStemmer()\n",
    "    lancaster = LancasterStemmer()\n",
    "    \n",
    "    for message in data[columnName]:\n",
    "        tkn = nltk.word_tokenize(message)\n",
    "        if stem is \"snow\":\n",
    "            stemmed = [snowball.stem(token) for token in tkn]\n",
    "        elif stem is \"porter\":\n",
    "            stemmed = [porter.stem(token) for token in tkn]\n",
    "        elif stem is \"lanc\":\n",
    "            stemmed = [lancaster.stem(token) for token in tkn]\n",
    "        lemmas.append(\" \".join(stemmed))\n",
    "    return lemmas"
   ]
  },
  {
   "cell_type": "code",
   "execution_count": 16,
   "metadata": {
    "collapsed": false
   },
   "outputs": [],
   "source": [
    "data[\"Snow_title\"] = stemming(data,\"R_chk_title\",\"snow\")  \n",
    "data[\"Snow_review\"] = stemming(data,\"R_chk_review\",\"snow\")"
   ]
  },
  {
   "cell_type": "code",
   "execution_count": 17,
   "metadata": {
    "collapsed": true
   },
   "outputs": [],
   "source": [
    "data[\"Porter_title\"] = stemming(data,\"R_chk_title\",\"porter\") \n",
    "data[\"Porter_review\"] = stemming(data,\"R_chk_review\",\"porter\") "
   ]
  },
  {
   "cell_type": "code",
   "execution_count": 18,
   "metadata": {
    "collapsed": false
   },
   "outputs": [],
   "source": [
    "data[\"Lanc_title\"] = stemming(data,\"R_chk_title\",\"lanc\") \n",
    "data[\"Lanc_review\"] = stemming(data,\"R_chk_review\",\"lanc\") "
   ]
  },
  {
   "cell_type": "code",
   "execution_count": null,
   "metadata": {
    "collapsed": false
   },
   "outputs": [],
   "source": [
    "data.head(n=2)"
   ]
  },
  {
   "cell_type": "code",
   "execution_count": 19,
   "metadata": {
    "collapsed": false
   },
   "outputs": [],
   "source": [
    "# Join text from title and review\n",
    "merged_text = []\n",
    "for i in range(len(data)):\n",
    "    mrgd = data[\"Lems_title\"][i] + data[\"Lems_review\"][i]\n",
    "    merged_text.append(mrgd)"
   ]
  },
  {
   "cell_type": "code",
   "execution_count": 20,
   "metadata": {
    "collapsed": true
   },
   "outputs": [],
   "source": [
    "def mg_title_rev(data,approach):\n",
    "    # Join text from title and review\n",
    "    merged_text = []\n",
    "    for i in range(len(data)):\n",
    "        mrgd = data[approach + \"_title\"][i] + \" \" + data[approach + \"_review\"][i]\n",
    "        merged_text.append(mrgd)\n",
    "    return merged_text\n",
    "    "
   ]
  },
  {
   "cell_type": "code",
   "execution_count": 21,
   "metadata": {
    "collapsed": true
   },
   "outputs": [],
   "source": [
    "data['Lems_title_review'] = mg_title_rev(data,\"Lems\")"
   ]
  },
  {
   "cell_type": "code",
   "execution_count": 22,
   "metadata": {
    "collapsed": false
   },
   "outputs": [],
   "source": [
    "data['Snow_title_review'] = mg_title_rev(data,\"Snow\")\n",
    "data['Porter_title_review'] = mg_title_rev(data,\"Porter\")\n",
    "data['Lanc_title_review'] = mg_title_rev(data,\"Lanc\")\n",
    "data['R_chk_title_review'] = mg_title_rev(data,'R_chk')"
   ]
  },
  {
   "cell_type": "code",
   "execution_count": 23,
   "metadata": {
    "collapsed": false
   },
   "outputs": [],
   "source": [
    "#data['title_review'] = merged_text\n",
    "data = data.reindex()"
   ]
  },
  {
   "cell_type": "code",
   "execution_count": 4,
   "metadata": {
    "collapsed": false
   },
   "outputs": [],
   "source": [
    "# Build a balanced train/test set\n",
    "r1_df = data.loc[data.Rating == 1]\n",
    "r2_df = data.loc[data.Rating == 2]\n",
    "r3_df = data.loc[data.Rating == 3]\n",
    "r4_df = data.loc[data.Rating == 4]\n",
    "r5_df = data.loc[data.Rating == 5]\n",
    "dfs = [r1_df, r2_df, r3_df, r4_df, r5_df]"
   ]
  },
  {
   "cell_type": "code",
   "execution_count": 5,
   "metadata": {
    "collapsed": true
   },
   "outputs": [],
   "source": [
    "t_size = 0.7\n",
    "\n",
    "train_set = []\n",
    "test_set = []\n",
    "\n",
    "for df in dfs:\n",
    "    \n",
    "    train_size = int(len(df)* t_size)\n",
    "    \n",
    "    train_data = df[0:train_size].reset_index(drop=True)\n",
    "    test_data = df[train_size:].reset_index(drop=True)\n",
    "    \n",
    "    train_set.append(train_data)\n",
    "    test_set.append(test_data)"
   ]
  },
  {
   "cell_type": "code",
   "execution_count": 6,
   "metadata": {
    "collapsed": false
   },
   "outputs": [],
   "source": [
    "df_train = pd.concat(train_set[:],axis=0)\n",
    "df_train = df_train.reset_index(drop=True)\n",
    "\n",
    "df_test = pd.concat(test_set[:],axis=0)\n",
    "df_test = df_test.reset_index(drop=True)\n"
   ]
  },
  {
   "cell_type": "code",
   "execution_count": 7,
   "metadata": {
    "collapsed": true
   },
   "outputs": [],
   "source": [
    "df = pd.concat([df_train,df_test],axis=0)\n",
    "df = shuffle(df).reset_index(drop=True)"
   ]
  },
  {
   "cell_type": "code",
   "execution_count": 8,
   "metadata": {
    "collapsed": true
   },
   "outputs": [],
   "source": [
    "# Extract true labels from data\n",
    "y_data = df[\"Rating\"].values\n",
    "y_data = y_data.reshape(y_data.shape[0],)"
   ]
  },
  {
   "cell_type": "code",
   "execution_count": null,
   "metadata": {
    "collapsed": false
   },
   "outputs": [],
   "source": [
    "\"\"\"\n",
    "# \n",
    "print(\"Classes: \")\n",
    "print(np.unique(y_train))\n",
    "\n",
    "# Summarize number of words\n",
    "print(\"Number of words: \")\n",
    "print(len(np.unique(np.hstack(x_train))))\n",
    "\n",
    "# Summarize review length\n",
    "print(\"Review length: \")\n",
    "result = [len(x) for x in x_train]\n",
    "print(\"Mean %.2f words (%f)\" % (np.mean(result), np.std(result)))\n",
    "# plot review length\n",
    "plt.boxplot(result)\n",
    "plt.title('Lenght of words in message reviews')\n",
    "plt.show()\n",
    "\n",
    "# Summarize review length\n",
    "print(\"Review length: \")\n",
    "result = [len(x) for x in x_train]\n",
    "print(\"Mean %.2f words (%f)\" % (np.mean(result), np.std(result)))\n",
    "# plot review length\n",
    "plt.boxplot(result)\n",
    "plt.title('Lenght of words in title reviews')\n",
    "plt.show()\n",
    "\"\"\""
   ]
  },
  {
   "cell_type": "code",
   "execution_count": null,
   "metadata": {
    "collapsed": false
   },
   "outputs": [],
   "source": [
    "#Check distribution of classes\n",
    "#df.Rating.value_counts().plot(kind='bar')"
   ]
  },
  {
   "cell_type": "code",
   "execution_count": 9,
   "metadata": {
    "collapsed": true
   },
   "outputs": [],
   "source": [
    "ctyNames = df.Country.unique() \n",
    "ctyNames = np.append(ctyNames,['Unkown'])\n",
    "countries = {ctyNames[i]: i for i in range(0, len(ctyNames))}"
   ]
  },
  {
   "cell_type": "code",
   "execution_count": 14,
   "metadata": {
    "collapsed": true
   },
   "outputs": [],
   "source": [
    "def map_country(ctyName,countries):\n",
    "    \n",
    "    if ctyName in countries:\n",
    "        value = countries[ctyName]\n",
    "    else:\n",
    "        value = countries['Unkown']\n",
    "\n",
    "    return value"
   ]
  },
  {
   "cell_type": "code",
   "execution_count": 15,
   "metadata": {
    "collapsed": true
   },
   "outputs": [],
   "source": [
    "df['Key_country'] = [map_country(cty,countries) for cty in df.Country]"
   ]
  },
  {
   "cell_type": "code",
   "execution_count": 11,
   "metadata": {
    "collapsed": false
   },
   "outputs": [],
   "source": [
    "# Set up Vectorizer with the X most frequent words\n",
    "top_words = 125 #145 \n",
    "#vectorizer = #CountVectorizer(ngram_range=(1,2))\n",
    "vectorizer = CountVectorizer(analyzer = \"word\", tokenizer = None, preprocessor = None, stop_words = None,   \\\n",
    "                             max_features = top_words)\n",
    "RANDOM_STATE = 42"
   ]
  },
  {
   "cell_type": "code",
   "execution_count": 12,
   "metadata": {
    "collapsed": false
   },
   "outputs": [],
   "source": [
    "from sklearn.feature_extraction.text import TfidfVectorizer\n",
    "\n",
    "n_features = top_words\n",
    "tfidf_vectorizer = TfidfVectorizer(max_df=0.95, min_df=2,\n",
    "                                   max_features=n_features,\n",
    "                                   stop_words='english')"
   ]
  },
  {
   "cell_type": "code",
   "execution_count": 19,
   "metadata": {
    "collapsed": false
   },
   "outputs": [
    {
     "data": {
      "text/plain": [
       "Index(['Review', 'Title', 'Rating', 'day', 'month', 'year', 'hour', 'minute',\n",
       "       'second', 'dayofweek', 'weekofyear', 'Country', 'Username', 'Reviews',\n",
       "       'Reads', 'Useful', 'Genre', 'C_review', 'C_title', 'Rel_review',\n",
       "       'Rel_title', 'C_wp_review', 'C_wp_title', 'Rel_wp_review',\n",
       "       'Rel_wp_title', 'r_compound', 'r_negative', 'r_positive', 'r_neutral',\n",
       "       't_compound', 't_negative', 't_positive', 't_neutral', 'predictions',\n",
       "       'Key_country'],\n",
       "      dtype='object')"
      ]
     },
     "execution_count": 19,
     "metadata": {},
     "output_type": "execute_result"
    }
   ],
   "source": [
    "df.columns"
   ]
  },
  {
   "cell_type": "code",
   "execution_count": 16,
   "metadata": {
    "collapsed": false
   },
   "outputs": [],
   "source": [
    "#ADD MORE FEATURES\n",
    "add_feats = df[['Reads','r_compound','r_negative', 'r_positive',\n",
    "                'r_neutral','t_compound','t_negative', 't_positive',\n",
    "                't_neutral','dayofweek','weekofyear','Key_country',\n",
    "                \"Useful\"]]\n",
    "a_feats = add_feats.values"
   ]
  },
  {
   "cell_type": "code",
   "execution_count": 18,
   "metadata": {
    "collapsed": false
   },
   "outputs": [
    {
     "ename": "KeyError",
     "evalue": "'Lanc_title_review'",
     "output_type": "error",
     "traceback": [
      "\u001b[0;31m---------------------------------------------------------------------------\u001b[0m",
      "\u001b[0;31mKeyError\u001b[0m                                  Traceback (most recent call last)",
      "\u001b[0;32m/Users/rcortez/anaconda/envs/python3/lib/python3.5/site-packages/pandas/indexes/base.py\u001b[0m in \u001b[0;36mget_loc\u001b[0;34m(self, key, method, tolerance)\u001b[0m\n\u001b[1;32m   2133\u001b[0m             \u001b[0;32mtry\u001b[0m\u001b[0;34m:\u001b[0m\u001b[0;34m\u001b[0m\u001b[0m\n\u001b[0;32m-> 2134\u001b[0;31m                 \u001b[0;32mreturn\u001b[0m \u001b[0mself\u001b[0m\u001b[0;34m.\u001b[0m\u001b[0m_engine\u001b[0m\u001b[0;34m.\u001b[0m\u001b[0mget_loc\u001b[0m\u001b[0;34m(\u001b[0m\u001b[0mkey\u001b[0m\u001b[0;34m)\u001b[0m\u001b[0;34m\u001b[0m\u001b[0m\n\u001b[0m\u001b[1;32m   2135\u001b[0m             \u001b[0;32mexcept\u001b[0m \u001b[0mKeyError\u001b[0m\u001b[0;34m:\u001b[0m\u001b[0;34m\u001b[0m\u001b[0m\n",
      "\u001b[0;32mpandas/index.pyx\u001b[0m in \u001b[0;36mpandas.index.IndexEngine.get_loc (pandas/index.c:4433)\u001b[0;34m()\u001b[0m\n",
      "\u001b[0;32mpandas/index.pyx\u001b[0m in \u001b[0;36mpandas.index.IndexEngine.get_loc (pandas/index.c:4279)\u001b[0;34m()\u001b[0m\n",
      "\u001b[0;32mpandas/src/hashtable_class_helper.pxi\u001b[0m in \u001b[0;36mpandas.hashtable.PyObjectHashTable.get_item (pandas/hashtable.c:13742)\u001b[0;34m()\u001b[0m\n",
      "\u001b[0;32mpandas/src/hashtable_class_helper.pxi\u001b[0m in \u001b[0;36mpandas.hashtable.PyObjectHashTable.get_item (pandas/hashtable.c:13696)\u001b[0;34m()\u001b[0m\n",
      "\u001b[0;31mKeyError\u001b[0m: 'Lanc_title_review'",
      "\nDuring handling of the above exception, another exception occurred:\n",
      "\u001b[0;31mKeyError\u001b[0m                                  Traceback (most recent call last)",
      "\u001b[0;32m<ipython-input-18-d0770390701f>\u001b[0m in \u001b[0;36m<module>\u001b[0;34m()\u001b[0m\n\u001b[1;32m      4\u001b[0m \u001b[0mseed\u001b[0m \u001b[0;34m=\u001b[0m \u001b[0;36m13\u001b[0m\u001b[0;34m\u001b[0m\u001b[0m\n\u001b[1;32m      5\u001b[0m \u001b[0;34m\u001b[0m\u001b[0m\n\u001b[0;32m----> 6\u001b[0;31m \u001b[0mx_fts\u001b[0m \u001b[0;34m=\u001b[0m \u001b[0mvectorizer\u001b[0m\u001b[0;34m.\u001b[0m\u001b[0mfit_transform\u001b[0m\u001b[0;34m(\u001b[0m\u001b[0mdf\u001b[0m\u001b[0;34m[\u001b[0m\u001b[0mmethod\u001b[0m \u001b[0;34m+\u001b[0m \u001b[0;34m'_title_review'\u001b[0m\u001b[0;34m]\u001b[0m\u001b[0;34m)\u001b[0m\u001b[0;34m\u001b[0m\u001b[0m\n\u001b[0m\u001b[1;32m      7\u001b[0m \u001b[0mx_fts\u001b[0m \u001b[0;34m=\u001b[0m \u001b[0mx_fts\u001b[0m\u001b[0;34m.\u001b[0m\u001b[0mtoarray\u001b[0m\u001b[0;34m(\u001b[0m\u001b[0;34m)\u001b[0m\u001b[0;34m\u001b[0m\u001b[0m\n\u001b[1;32m      8\u001b[0m \u001b[0;34m\u001b[0m\u001b[0m\n",
      "\u001b[0;32m/Users/rcortez/anaconda/envs/python3/lib/python3.5/site-packages/pandas/core/frame.py\u001b[0m in \u001b[0;36m__getitem__\u001b[0;34m(self, key)\u001b[0m\n\u001b[1;32m   2057\u001b[0m             \u001b[0;32mreturn\u001b[0m \u001b[0mself\u001b[0m\u001b[0;34m.\u001b[0m\u001b[0m_getitem_multilevel\u001b[0m\u001b[0;34m(\u001b[0m\u001b[0mkey\u001b[0m\u001b[0;34m)\u001b[0m\u001b[0;34m\u001b[0m\u001b[0m\n\u001b[1;32m   2058\u001b[0m         \u001b[0;32melse\u001b[0m\u001b[0;34m:\u001b[0m\u001b[0;34m\u001b[0m\u001b[0m\n\u001b[0;32m-> 2059\u001b[0;31m             \u001b[0;32mreturn\u001b[0m \u001b[0mself\u001b[0m\u001b[0;34m.\u001b[0m\u001b[0m_getitem_column\u001b[0m\u001b[0;34m(\u001b[0m\u001b[0mkey\u001b[0m\u001b[0;34m)\u001b[0m\u001b[0;34m\u001b[0m\u001b[0m\n\u001b[0m\u001b[1;32m   2060\u001b[0m \u001b[0;34m\u001b[0m\u001b[0m\n\u001b[1;32m   2061\u001b[0m     \u001b[0;32mdef\u001b[0m \u001b[0m_getitem_column\u001b[0m\u001b[0;34m(\u001b[0m\u001b[0mself\u001b[0m\u001b[0;34m,\u001b[0m \u001b[0mkey\u001b[0m\u001b[0;34m)\u001b[0m\u001b[0;34m:\u001b[0m\u001b[0;34m\u001b[0m\u001b[0m\n",
      "\u001b[0;32m/Users/rcortez/anaconda/envs/python3/lib/python3.5/site-packages/pandas/core/frame.py\u001b[0m in \u001b[0;36m_getitem_column\u001b[0;34m(self, key)\u001b[0m\n\u001b[1;32m   2064\u001b[0m         \u001b[0;31m# get column\u001b[0m\u001b[0;34m\u001b[0m\u001b[0;34m\u001b[0m\u001b[0m\n\u001b[1;32m   2065\u001b[0m         \u001b[0;32mif\u001b[0m \u001b[0mself\u001b[0m\u001b[0;34m.\u001b[0m\u001b[0mcolumns\u001b[0m\u001b[0;34m.\u001b[0m\u001b[0mis_unique\u001b[0m\u001b[0;34m:\u001b[0m\u001b[0;34m\u001b[0m\u001b[0m\n\u001b[0;32m-> 2066\u001b[0;31m             \u001b[0;32mreturn\u001b[0m \u001b[0mself\u001b[0m\u001b[0;34m.\u001b[0m\u001b[0m_get_item_cache\u001b[0m\u001b[0;34m(\u001b[0m\u001b[0mkey\u001b[0m\u001b[0;34m)\u001b[0m\u001b[0;34m\u001b[0m\u001b[0m\n\u001b[0m\u001b[1;32m   2067\u001b[0m \u001b[0;34m\u001b[0m\u001b[0m\n\u001b[1;32m   2068\u001b[0m         \u001b[0;31m# duplicate columns & possible reduce dimensionality\u001b[0m\u001b[0;34m\u001b[0m\u001b[0;34m\u001b[0m\u001b[0m\n",
      "\u001b[0;32m/Users/rcortez/anaconda/envs/python3/lib/python3.5/site-packages/pandas/core/generic.py\u001b[0m in \u001b[0;36m_get_item_cache\u001b[0;34m(self, item)\u001b[0m\n\u001b[1;32m   1384\u001b[0m         \u001b[0mres\u001b[0m \u001b[0;34m=\u001b[0m \u001b[0mcache\u001b[0m\u001b[0;34m.\u001b[0m\u001b[0mget\u001b[0m\u001b[0;34m(\u001b[0m\u001b[0mitem\u001b[0m\u001b[0;34m)\u001b[0m\u001b[0;34m\u001b[0m\u001b[0m\n\u001b[1;32m   1385\u001b[0m         \u001b[0;32mif\u001b[0m \u001b[0mres\u001b[0m \u001b[0;32mis\u001b[0m \u001b[0;32mNone\u001b[0m\u001b[0;34m:\u001b[0m\u001b[0;34m\u001b[0m\u001b[0m\n\u001b[0;32m-> 1386\u001b[0;31m             \u001b[0mvalues\u001b[0m \u001b[0;34m=\u001b[0m \u001b[0mself\u001b[0m\u001b[0;34m.\u001b[0m\u001b[0m_data\u001b[0m\u001b[0;34m.\u001b[0m\u001b[0mget\u001b[0m\u001b[0;34m(\u001b[0m\u001b[0mitem\u001b[0m\u001b[0;34m)\u001b[0m\u001b[0;34m\u001b[0m\u001b[0m\n\u001b[0m\u001b[1;32m   1387\u001b[0m             \u001b[0mres\u001b[0m \u001b[0;34m=\u001b[0m \u001b[0mself\u001b[0m\u001b[0;34m.\u001b[0m\u001b[0m_box_item_values\u001b[0m\u001b[0;34m(\u001b[0m\u001b[0mitem\u001b[0m\u001b[0;34m,\u001b[0m \u001b[0mvalues\u001b[0m\u001b[0;34m)\u001b[0m\u001b[0;34m\u001b[0m\u001b[0m\n\u001b[1;32m   1388\u001b[0m             \u001b[0mcache\u001b[0m\u001b[0;34m[\u001b[0m\u001b[0mitem\u001b[0m\u001b[0;34m]\u001b[0m \u001b[0;34m=\u001b[0m \u001b[0mres\u001b[0m\u001b[0;34m\u001b[0m\u001b[0m\n",
      "\u001b[0;32m/Users/rcortez/anaconda/envs/python3/lib/python3.5/site-packages/pandas/core/internals.py\u001b[0m in \u001b[0;36mget\u001b[0;34m(self, item, fastpath)\u001b[0m\n\u001b[1;32m   3541\u001b[0m \u001b[0;34m\u001b[0m\u001b[0m\n\u001b[1;32m   3542\u001b[0m             \u001b[0;32mif\u001b[0m \u001b[0;32mnot\u001b[0m \u001b[0misnull\u001b[0m\u001b[0;34m(\u001b[0m\u001b[0mitem\u001b[0m\u001b[0;34m)\u001b[0m\u001b[0;34m:\u001b[0m\u001b[0;34m\u001b[0m\u001b[0m\n\u001b[0;32m-> 3543\u001b[0;31m                 \u001b[0mloc\u001b[0m \u001b[0;34m=\u001b[0m \u001b[0mself\u001b[0m\u001b[0;34m.\u001b[0m\u001b[0mitems\u001b[0m\u001b[0;34m.\u001b[0m\u001b[0mget_loc\u001b[0m\u001b[0;34m(\u001b[0m\u001b[0mitem\u001b[0m\u001b[0;34m)\u001b[0m\u001b[0;34m\u001b[0m\u001b[0m\n\u001b[0m\u001b[1;32m   3544\u001b[0m             \u001b[0;32melse\u001b[0m\u001b[0;34m:\u001b[0m\u001b[0;34m\u001b[0m\u001b[0m\n\u001b[1;32m   3545\u001b[0m                 \u001b[0mindexer\u001b[0m \u001b[0;34m=\u001b[0m \u001b[0mnp\u001b[0m\u001b[0;34m.\u001b[0m\u001b[0marange\u001b[0m\u001b[0;34m(\u001b[0m\u001b[0mlen\u001b[0m\u001b[0;34m(\u001b[0m\u001b[0mself\u001b[0m\u001b[0;34m.\u001b[0m\u001b[0mitems\u001b[0m\u001b[0;34m)\u001b[0m\u001b[0;34m)\u001b[0m\u001b[0;34m[\u001b[0m\u001b[0misnull\u001b[0m\u001b[0;34m(\u001b[0m\u001b[0mself\u001b[0m\u001b[0;34m.\u001b[0m\u001b[0mitems\u001b[0m\u001b[0;34m)\u001b[0m\u001b[0;34m]\u001b[0m\u001b[0;34m\u001b[0m\u001b[0m\n",
      "\u001b[0;32m/Users/rcortez/anaconda/envs/python3/lib/python3.5/site-packages/pandas/indexes/base.py\u001b[0m in \u001b[0;36mget_loc\u001b[0;34m(self, key, method, tolerance)\u001b[0m\n\u001b[1;32m   2134\u001b[0m                 \u001b[0;32mreturn\u001b[0m \u001b[0mself\u001b[0m\u001b[0;34m.\u001b[0m\u001b[0m_engine\u001b[0m\u001b[0;34m.\u001b[0m\u001b[0mget_loc\u001b[0m\u001b[0;34m(\u001b[0m\u001b[0mkey\u001b[0m\u001b[0;34m)\u001b[0m\u001b[0;34m\u001b[0m\u001b[0m\n\u001b[1;32m   2135\u001b[0m             \u001b[0;32mexcept\u001b[0m \u001b[0mKeyError\u001b[0m\u001b[0;34m:\u001b[0m\u001b[0;34m\u001b[0m\u001b[0m\n\u001b[0;32m-> 2136\u001b[0;31m                 \u001b[0;32mreturn\u001b[0m \u001b[0mself\u001b[0m\u001b[0;34m.\u001b[0m\u001b[0m_engine\u001b[0m\u001b[0;34m.\u001b[0m\u001b[0mget_loc\u001b[0m\u001b[0;34m(\u001b[0m\u001b[0mself\u001b[0m\u001b[0;34m.\u001b[0m\u001b[0m_maybe_cast_indexer\u001b[0m\u001b[0;34m(\u001b[0m\u001b[0mkey\u001b[0m\u001b[0;34m)\u001b[0m\u001b[0;34m)\u001b[0m\u001b[0;34m\u001b[0m\u001b[0m\n\u001b[0m\u001b[1;32m   2137\u001b[0m \u001b[0;34m\u001b[0m\u001b[0m\n\u001b[1;32m   2138\u001b[0m         \u001b[0mindexer\u001b[0m \u001b[0;34m=\u001b[0m \u001b[0mself\u001b[0m\u001b[0;34m.\u001b[0m\u001b[0mget_indexer\u001b[0m\u001b[0;34m(\u001b[0m\u001b[0;34m[\u001b[0m\u001b[0mkey\u001b[0m\u001b[0;34m]\u001b[0m\u001b[0;34m,\u001b[0m \u001b[0mmethod\u001b[0m\u001b[0;34m=\u001b[0m\u001b[0mmethod\u001b[0m\u001b[0;34m,\u001b[0m \u001b[0mtolerance\u001b[0m\u001b[0;34m=\u001b[0m\u001b[0mtolerance\u001b[0m\u001b[0;34m)\u001b[0m\u001b[0;34m\u001b[0m\u001b[0m\n",
      "\u001b[0;32mpandas/index.pyx\u001b[0m in \u001b[0;36mpandas.index.IndexEngine.get_loc (pandas/index.c:4433)\u001b[0;34m()\u001b[0m\n",
      "\u001b[0;32mpandas/index.pyx\u001b[0m in \u001b[0;36mpandas.index.IndexEngine.get_loc (pandas/index.c:4279)\u001b[0;34m()\u001b[0m\n",
      "\u001b[0;32mpandas/src/hashtable_class_helper.pxi\u001b[0m in \u001b[0;36mpandas.hashtable.PyObjectHashTable.get_item (pandas/hashtable.c:13742)\u001b[0;34m()\u001b[0m\n",
      "\u001b[0;32mpandas/src/hashtable_class_helper.pxi\u001b[0m in \u001b[0;36mpandas.hashtable.PyObjectHashTable.get_item (pandas/hashtable.c:13696)\u001b[0;34m()\u001b[0m\n",
      "\u001b[0;31mKeyError\u001b[0m: 'Lanc_title_review'"
     ]
    }
   ],
   "source": [
    "#Select method to train model (Lems/Snow/Porter/Lanc)\n",
    "method =  \"Lanc\"\n",
    "add_feats = True\n",
    "seed = 13 \n",
    "\n",
    "x_fts = vectorizer.fit_transform(df[method + '_title_review'])\n",
    "x_fts = x_fts.toarray()\n",
    "\n",
    "if add_feats:\n",
    "    x_fts = np.concatenate((x_fts,a_feats),axis=1)\n",
    "\n",
    "\n",
    "np.random.seed(seed)\n",
    "\n",
    "train_size = 0.75\n",
    "train_size = int(len(x_fts)* train_size)\n",
    "\n",
    "x_train, y_train = x_fts[0:train_size], df['Rating'][0:train_size]\n",
    "X_test, Y_test = x_fts[train_size:], df['Rating'][train_size:] "
   ]
  },
  {
   "cell_type": "code",
   "execution_count": 70,
   "metadata": {
    "collapsed": false
   },
   "outputs": [
    {
     "name": "stdout",
     "output_type": "stream",
     "text": [
      "done in 0.064s.\n"
     ]
    }
   ],
   "source": [
    "from time import time\n",
    "t0 = time()\n",
    "tfidf = tfidf_vectorizer.fit_transform(df[method + '_title_review'])\n",
    "print(\"done in %0.3fs.\" % (time() - t0))\n",
    "\n",
    "x_fts = tfidf.toarray()\n",
    "\n",
    "if add_feats:\n",
    "    x_fts = np.concatenate((x_fts,a_feats),axis=1)\n",
    "\n",
    "\n",
    "np.random.seed(seed)\n",
    "\n",
    "train_size = 0.75\n",
    "train_size = int(len(x_fts)* train_size)\n",
    "\n",
    "x_train, y_train = x_fts[0:train_size], df['Rating'][0:train_size]\n",
    "X_test, Y_test = x_fts[train_size:], df['Rating'][train_size:] "
   ]
  },
  {
   "cell_type": "code",
   "execution_count": 175,
   "metadata": {
    "collapsed": false
   },
   "outputs": [],
   "source": [
    "ros = RandomOverSampler(random_state=RANDOM_STATE)\n",
    "x_train, y_train = ros.fit_sample(x_train, y_train)\n",
    "x_test, y_test = ros.fit_sample(X_test, Y_test)\n",
    "\n",
    "x_data  = np.concatenate((x_train,x_test),axis=0)\n",
    "y_data = np.concatenate((y_train,y_test),axis=0)\n"
   ]
  },
  {
   "cell_type": "code",
   "execution_count": 71,
   "metadata": {
    "collapsed": false
   },
   "outputs": [],
   "source": [
    "# encode class values as integers\n",
    "encoder = LabelEncoder()\n",
    "encoder.fit(y_data)\n",
    "\n",
    "encoder.fit(y_train)\n",
    "\n",
    "encoded_Y = encoder.transform(y_train)\n",
    "# convert integers to dummy variables (i.e. one hot encoded)\n",
    "dummy_y_train = np_utils.to_categorical(encoded_Y)\n",
    "\n",
    "encoded_Y_test = encoder.transform(Y_test)\n",
    "# convert integers to dummy variables (i.e. one hot encoded)\n",
    "dummy_y_test = np_utils.to_categorical(encoded_Y_test)\n",
    "\n",
    "encoded_Y = encoder.transform(y_data)\n",
    "# convert integers to dummy variables (i.e. one hot encoded)\n",
    "dummy_y = np_utils.to_categorical(encoded_Y)"
   ]
  },
  {
   "cell_type": "code",
   "execution_count": 72,
   "metadata": {
    "collapsed": false
   },
   "outputs": [],
   "source": [
    "# split into 67% for train and 33% for test\n",
    "x_train, x_test, y_train, y_test = train_test_split(x_train, dummy_y_train, test_size=0.33, random_state=seed)"
   ]
  },
  {
   "cell_type": "code",
   "execution_count": 73,
   "metadata": {
    "collapsed": false
   },
   "outputs": [
    {
     "data": {
      "text/plain": [
       "(909, 138)"
      ]
     },
     "execution_count": 73,
     "metadata": {},
     "output_type": "execute_result"
    }
   ],
   "source": [
    "x_train.shape"
   ]
  },
  {
   "cell_type": "code",
   "execution_count": 74,
   "metadata": {
    "collapsed": false
   },
   "outputs": [
    {
     "name": "stdout",
     "output_type": "stream",
     "text": [
      "Train on 909 samples, validate on 448 samples\n",
      "Epoch 1/80\n",
      "909/909 [==============================] - 0s - loss: 1.6207 - acc: 0.1364 - val_loss: 1.5778 - val_acc: 0.4643\b\b\b\b\b\b\b\b\b\b\b\b\b\b\b\b\b\b\b\b\b\b\b\b\b\b\b\b\b\b\b\b\b\b\b\b\b\b\b\b\b\b\b\b\b\b\b\n",
      "Epoch 2/80\n",
      "909/909 [==============================] - 0s - loss: 1.5726 - acc: 0.4774 - val_loss: 1.5536 - val_acc: 0.4754\b\b\b\b\b\b\b\b\b\b\b\b\b\b\b\b\b\b\b\b\b\b\b\b\b\b\b\b\b\b\b\b\b\b\b\b\b\b\b\b\b\b\b\b\b\b\b\n",
      "Epoch 3/80\n",
      "909/909 [==============================] - 0s - loss: 1.5367 - acc: 0.4851 - val_loss: 1.5262 - val_acc: 0.4799\b\b\b\b\b\b\b\b\b\b\b\b\b\b\b\b\b\b\b\b\b\b\b\b\b\b\b\b\b\b\b\b\b\b\b\b\b\b\b\b\b\b\b\b\b\b\b\n",
      "Epoch 4/80\n",
      "909/909 [==============================] - 0s - loss: 1.5036 - acc: 0.4818 - val_loss: 1.4873 - val_acc: 0.4688\b\b\b\b\b\b\b\b\b\b\b\b\b\b\b\b\b\b\b\b\b\b\b\b\b\b\b\b\b\b\b\b\b\b\b\b\b\b\b\b\b\b\b\b\b\b\b\n",
      "Epoch 5/80\n",
      "909/909 [==============================] - 0s - loss: 1.4656 - acc: 0.4730 - val_loss: 1.4460 - val_acc: 0.4688\b\b\b\b\b\b\b\b\b\b\b\b\b\b\b\b\b\b\b\b\b\b\b\b\b\b\b\b\b\b\b\b\b\b\b\b\b\b\b\b\b\b\b\b\b\b\b\n",
      "Epoch 6/80\n",
      "909/909 [==============================] - 0s - loss: 1.4282 - acc: 0.4730 - val_loss: 1.4141 - val_acc: 0.4688\b\b\b\b\b\b\b\b\b\b\b\b\b\b\b\b\b\b\b\b\b\b\b\b\b\b\b\b\b\b\b\b\b\b\b\b\b\b\b\b\b\b\b\b\b\b\b\n",
      "Epoch 7/80\n",
      "909/909 [==============================] - 0s - loss: 1.4008 - acc: 0.4730 - val_loss: 1.3895 - val_acc: 0.4688\b\b\b\b\b\b\b\b\b\b\b\b\b\b\b\b\b\b\b\b\b\b\b\b\b\b\b\b\b\b\b\b\b\b\b\b\b\b\b\b\b\b\b\b\b\b\b\n",
      "Epoch 8/80\n",
      "909/909 [==============================] - 0s - loss: 1.3926 - acc: 0.4741 - val_loss: 1.3800 - val_acc: 0.4688\b\b\b\b\b\b\b\b\b\b\b\b\b\b\b\b\b\b\b\b\b\b\b\b\b\b\b\b\b\b\b\b\b\b\b\b\b\b\b\b\b\b\b\b\b\b\b\n",
      "Epoch 9/80\n",
      "909/909 [==============================] - 0s - loss: 1.3789 - acc: 0.4752 - val_loss: 1.3633 - val_acc: 0.4754\b\b\b\b\b\b\b\b\b\b\b\b\b\b\b\b\b\b\b\b\b\b\b\b\b\b\b\b\b\b\b\b\b\b\b\b\b\b\b\b\b\b\b\b\b\b\b\n",
      "Epoch 10/80\n",
      "909/909 [==============================] - 0s - loss: 1.3706 - acc: 0.4818 - val_loss: 1.3563 - val_acc: 0.4777\b\b\b\b\b\b\b\b\b\b\b\b\b\b\b\b\b\b\b\b\b\b\b\b\b\b\b\b\b\b\b\b\b\b\b\b\b\b\b\b\b\b\b\b\b\b\b\n",
      "Epoch 11/80\n",
      "909/909 [==============================] - 0s - loss: 1.3623 - acc: 0.4829 - val_loss: 1.3509 - val_acc: 0.4754\b\b\b\b\b\b\b\b\b\b\b\b\b\b\b\b\b\b\b\b\b\b\b\b\b\b\b\b\b\b\b\b\b\b\b\b\b\b\b\b\b\b\b\b\b\b\b\n",
      "Epoch 12/80\n",
      "909/909 [==============================] - 0s - loss: 1.3542 - acc: 0.4785 - val_loss: 1.3438 - val_acc: 0.4754\b\b\b\b\b\b\b\b\b\b\b\b\b\b\b\b\b\b\b\b\b\b\b\b\b\b\b\b\b\b\b\b\b\b\b\b\b\b\b\b\b\b\b\b\b\b\b\n",
      "Epoch 13/80\n",
      "909/909 [==============================] - 0s - loss: 1.3474 - acc: 0.4785 - val_loss: 1.3373 - val_acc: 0.4754\b\b\b\b\b\b\b\b\b\b\b\b\b\b\b\b\b\b\b\b\b\b\b\b\b\b\b\b\b\b\b\b\b\b\b\b\b\b\b\b\b\b\b\b\b\b\b\n",
      "Epoch 14/80\n",
      "909/909 [==============================] - 0s - loss: 1.3381 - acc: 0.4807 - val_loss: 1.3277 - val_acc: 0.4777\b\b\b\b\b\b\b\b\b\b\b\b\b\b\b\b\b\b\b\b\b\b\b\b\b\b\b\b\b\b\b\b\b\b\b\b\b\b\b\b\b\b\b\b\b\b\b\n",
      "Epoch 15/80\n",
      "909/909 [==============================] - 0s - loss: 1.3282 - acc: 0.4829 - val_loss: 1.3192 - val_acc: 0.4777\b\b\b\b\b\b\b\b\b\b\b\b\b\b\b\b\b\b\b\b\b\b\b\b\b\b\b\b\b\b\b\b\b\b\b\b\b\b\b\b\b\b\b\b\b\b\b\n",
      "Epoch 16/80\n",
      "909/909 [==============================] - 0s - loss: 1.3165 - acc: 0.4829 - val_loss: 1.3117 - val_acc: 0.4799\b\b\b\b\b\b\b\b\b\b\b\b\b\b\b\b\b\b\b\b\b\b\b\b\b\b\b\b\b\b\b\b\b\b\b\b\b\b\b\b\b\b\b\b\b\b\b\n",
      "Epoch 17/80\n",
      "909/909 [==============================] - 0s - loss: 1.3033 - acc: 0.4862 - val_loss: 1.2939 - val_acc: 0.4821\b\b\b\b\b\b\b\b\b\b\b\b\b\b\b\b\b\b\b\b\b\b\b\b\b\b\b\b\b\b\b\b\b\b\b\b\b\b\b\b\b\b\b\b\b\b\b\n",
      "Epoch 18/80\n",
      "909/909 [==============================] - 0s - loss: 1.2856 - acc: 0.4873 - val_loss: 1.2704 - val_acc: 0.4821\b\b\b\b\b\b\b\b\b\b\b\b\b\b\b\b\b\b\b\b\b\b\b\b\b\b\b\b\b\b\b\b\b\b\b\b\b\b\b\b\b\b\b\b\b\b\b\n",
      "Epoch 19/80\n",
      "909/909 [==============================] - 0s - loss: 1.2672 - acc: 0.4862 - val_loss: 1.2544 - val_acc: 0.4844\b\b\b\b\b\b\b\b\b\b\b\b\b\b\b\b\b\b\b\b\b\b\b\b\b\b\b\b\b\b\b\b\b\b\b\b\b\b\b\b\b\b\b\b\b\b\b\n",
      "Epoch 20/80\n",
      "909/909 [==============================] - 0s - loss: 1.2444 - acc: 0.4884 - val_loss: 1.2388 - val_acc: 0.4888\b\b\b\b\b\b\b\b\b\b\b\b\b\b\b\b\b\b\b\b\b\b\b\b\b\b\b\b\b\b\b\b\b\b\b\b\b\b\b\b\b\b\b\b\b\b\b\n",
      "Epoch 21/80\n",
      "909/909 [==============================] - 0s - loss: 1.2287 - acc: 0.4884 - val_loss: 1.2178 - val_acc: 0.4888\b\b\b\b\b\b\b\b\b\b\b\b\b\b\b\b\b\b\b\b\b\b\b\b\b\b\b\b\b\b\b\b\b\b\b\b\b\b\b\b\b\b\b\b\b\b\b\n",
      "Epoch 22/80\n",
      "909/909 [==============================] - 0s - loss: 1.1998 - acc: 0.4950 - val_loss: 1.1842 - val_acc: 0.4955\b\b\b\b\b\b\b\b\b\b\b\b\b\b\b\b\b\b\b\b\b\b\b\b\b\b\b\b\b\b\b\b\b\b\b\b\b\b\b\b\b\b\b\b\b\b\b\n",
      "Epoch 23/80\n",
      "909/909 [==============================] - 0s - loss: 1.1728 - acc: 0.5072 - val_loss: 1.1722 - val_acc: 0.5067\b\b\b\b\b\b\b\b\b\b\b\b\b\b\b\b\b\b\b\b\b\b\b\b\b\b\b\b\b\b\b\b\b\b\b\b\b\b\b\b\b\b\b\b\b\b\b\n",
      "Epoch 24/80\n",
      "909/909 [==============================] - 0s - loss: 1.1595 - acc: 0.5182 - val_loss: 1.1509 - val_acc: 0.5246\b\b\b\b\b\b\b\b\b\b\b\b\b\b\b\b\b\b\b\b\b\b\b\b\b\b\b\b\b\b\b\b\b\b\b\b\b\b\b\b\b\b\b\b\b\b\b\n",
      "Epoch 25/80\n",
      "909/909 [==============================] - 0s - loss: 1.1312 - acc: 0.5413 - val_loss: 1.1258 - val_acc: 0.5379\b\b\b\b\b\b\b\b\b\b\b\b\b\b\b\b\b\b\b\b\b\b\b\b\b\b\b\b\b\b\b\b\b\b\b\b\b\b\b\b\b\b\b\b\b\b\b\n",
      "Epoch 26/80\n",
      "909/909 [==============================] - 0s - loss: 1.1082 - acc: 0.5479 - val_loss: 1.1115 - val_acc: 0.5424\b\b\b\b\b\b\b\b\b\b\b\b\b\b\b\b\b\b\b\b\b\b\b\b\b\b\b\b\b\b\b\b\b\b\b\b\b\b\b\b\b\b\b\b\b\b\b\n",
      "Epoch 27/80\n",
      "909/909 [==============================] - 0s - loss: 1.0829 - acc: 0.5567 - val_loss: 1.0836 - val_acc: 0.5647\b\b\b\b\b\b\b\b\b\b\b\b\b\b\b\b\b\b\b\b\b\b\b\b\b\b\b\b\b\b\b\b\b\b\b\b\b\b\b\b\b\b\b\b\b\b\b\n",
      "Epoch 28/80\n",
      "909/909 [==============================] - 0s - loss: 1.0828 - acc: 0.5776 - val_loss: 1.0889 - val_acc: 0.5647\b\b\b\b\b\b\b\b\b\b\b\b\b\b\b\b\b\b\b\b\b\b\b\b\b\b\b\b\b\b\b\b\b\b\b\b\b\b\b\b\b\b\b\b\b\b\b\n",
      "Epoch 29/80\n",
      "909/909 [==============================] - ETA: 0s - loss: 1.0797 - acc: 0.5547\b\b\b\b\b\b\b\b\b\b\b\b\b\b\b\b\b\b\b\b\b\b\b\b\b\b\b\b\b\b\b\b\b\b\b\b\b\b\b\b\b\b\b\b\b\b\b\b\b\b\b\b\b\b\b\b\b\b\b\b\b\b\b\b\b\b\b\b\b\b\b\b\b\b\b\b\b\b\b - 0s - loss: 1.0575 - acc: 0.5710 - val_loss: 1.0731 - val_acc: 0.5692\n",
      "Epoch 30/80\n",
      "909/909 [==============================] - 0s - loss: 1.0379 - acc: 0.5842 - val_loss: 1.0356 - val_acc: 0.5871\b\b\b\b\b\b\b\b\b\b\b\b\b\b\b\b\b\b\b\b\b\b\b\b\b\b\b\b\b\b\b\b\b\b\b\b\b\b\b\b\b\b\b\b\b\b\b\n",
      "Epoch 31/80\n",
      "909/909 [==============================] - 0s - loss: 1.0201 - acc: 0.5809 - val_loss: 1.0244 - val_acc: 0.5960\b\b\b\b\b\b\b\b\b\b\b\b\b\b\b\b\b\b\b\b\b\b\b\b\b\b\b\b\b\b\b\b\b\b\b\b\b\b\b\b\b\b\b\b\b\b\b\n",
      "Epoch 32/80\n",
      "909/909 [==============================] - 0s - loss: 1.0068 - acc: 0.5908 - val_loss: 1.0536 - val_acc: 0.5848\b\b\b\b\b\b\b\b\b\b\b\b\b\b\b\b\b\b\b\b\b\b\b\b\b\b\b\b\b\b\b\b\b\b\b\b\b\b\b\b\b\b\b\b\b\b\b\n",
      "Epoch 33/80\n",
      "909/909 [==============================] - 0s - loss: 1.0002 - acc: 0.5864 - val_loss: 1.0332 - val_acc: 0.5938\b\b\b\b\b\b\b\b\b\b\b\b\b\b\b\b\b\b\b\b\b\b\b\b\b\b\b\b\b\b\b\b\b\b\b\b\b\b\b\b\b\b\b\b\b\b\b\n",
      "Epoch 34/80\n",
      "909/909 [==============================] - 0s - loss: 1.0058 - acc: 0.5666 - val_loss: 1.0186 - val_acc: 0.5759\b\b\b\b\b\b\b\b\b\b\b\b\b\b\b\b\b\b\b\b\b\b\b\b\b\b\b\b\b\b\b\b\b\b\b\b\b\b\b\b\b\b\b\b\b\b\b\n",
      "Epoch 35/80\n",
      "909/909 [==============================] - 0s - loss: 0.9771 - acc: 0.5963 - val_loss: 1.0017 - val_acc: 0.5960\b\b\b\b\b\b\b\b\b\b\b\b\b\b\b\b\b\b\b\b\b\b\b\b\b\b\b\b\b\b\b\b\b\b\b\b\b\b\b\b\b\b\b\b\b\b\b\n",
      "Epoch 36/80\n",
      "909/909 [==============================] - 0s - loss: 0.9686 - acc: 0.6029 - val_loss: 1.0066 - val_acc: 0.5960\b\b\b\b\b\b\b\b\b\b\b\b\b\b\b\b\b\b\b\b\b\b\b\b\b\b\b\b\b\b\b\b\b\b\b\b\b\b\b\b\b\b\b\b\b\b\b\n",
      "Epoch 37/80\n",
      "909/909 [==============================] - 0s - loss: 0.9594 - acc: 0.5963 - val_loss: 1.0181 - val_acc: 0.5781\b\b\b\b\b\b\b\b\b\b\b\b\b\b\b\b\b\b\b\b\b\b\b\b\b\b\b\b\b\b\b\b\b\b\b\b\b\b\b\b\b\b\b\b\b\b\b\n",
      "Epoch 38/80\n",
      "909/909 [==============================] - 0s - loss: 0.9494 - acc: 0.6106 - val_loss: 0.9903 - val_acc: 0.5871\b\b\b\b\b\b\b\b\b\b\b\b\b\b\b\b\b\b\b\b\b\b\b\b\b\b\b\b\b\b\b\b\b\b\b\b\b\b\b\b\b\b\b\b\b\b\b\n",
      "Epoch 39/80\n",
      "909/909 [==============================] - 0s - loss: 0.9566 - acc: 0.6084 - val_loss: 1.0085 - val_acc: 0.5826\b\b\b\b\b\b\b\b\b\b\b\b\b\b\b\b\b\b\b\b\b\b\b\b\b\b\b\b\b\b\b\b\b\b\b\b\b\b\b\b\b\b\b\b\b\b\b\n",
      "Epoch 40/80\n",
      "909/909 [==============================] - 0s - loss: 0.9718 - acc: 0.5985 - val_loss: 1.0174 - val_acc: 0.5670\b\b\b\b\b\b\b\b\b\b\b\b\b\b\b\b\b\b\b\b\b\b\b\b\b\b\b\b\b\b\b\b\b\b\b\b\b\b\b\b\b\b\b\b\b\b\b\n",
      "Epoch 41/80\n",
      "909/909 [==============================] - 0s - loss: 0.9900 - acc: 0.5963 - val_loss: 0.9926 - val_acc: 0.5714\b\b\b\b\b\b\b\b\b\b\b\b\b\b\b\b\b\b\b\b\b\b\b\b\b\b\b\b\b\b\b\b\b\b\b\b\b\b\b\b\b\b\b\b\b\b\b\n",
      "Epoch 42/80\n",
      "909/909 [==============================] - 0s - loss: 0.9770 - acc: 0.5952 - val_loss: 0.9999 - val_acc: 0.5714\b\b\b\b\b\b\b\b\b\b\b\b\b\b\b\b\b\b\b\b\b\b\b\b\b\b\b\b\b\b\b\b\b\b\b\b\b\b\b\b\b\b\b\b\b\b\b\n",
      "Epoch 43/80\n",
      "909/909 [==============================] - 0s - loss: 0.9638 - acc: 0.6007 - val_loss: 0.9800 - val_acc: 0.5915\b\b\b\b\b\b\b\b\b\b\b\b\b\b\b\b\b\b\b\b\b\b\b\b\b\b\b\b\b\b\b\b\b\b\b\b\b\b\b\b\b\b\b\b\b\b\b\n",
      "Epoch 44/80\n",
      "909/909 [==============================] - 0s - loss: 0.9546 - acc: 0.6029 - val_loss: 0.9795 - val_acc: 0.5982\b\b\b\b\b\b\b\b\b\b\b\b\b\b\b\b\b\b\b\b\b\b\b\b\b\b\b\b\b\b\b\b\b\b\b\b\b\b\b\b\b\b\b\b\b\b\b\n",
      "Epoch 45/80\n",
      "909/909 [==============================] - 0s - loss: 0.9397 - acc: 0.5996 - val_loss: 0.9837 - val_acc: 0.6027\b\b\b\b\b\b\b\b\b\b\b\b\b\b\b\b\b\b\b\b\b\b\b\b\b\b\b\b\b\b\b\b\b\b\b\b\b\b\b\b\b\b\b\b\b\b\b\n",
      "Epoch 46/80\n",
      "909/909 [==============================] - 0s - loss: 0.9264 - acc: 0.6084 - val_loss: 0.9841 - val_acc: 0.6027\b\b\b\b\b\b\b\b\b\b\b\b\b\b\b\b\b\b\b\b\b\b\b\b\b\b\b\b\b\b\b\b\b\b\b\b\b\b\b\b\b\b\b\b\b\b\b\b\b\b\b\b\b\b\b\b\b\b\b\b\b\b\b\b\b\b\b\b\b\b\b\b\b\b\b\b\b\b\b\b\b\b\b\b\b\b\b\b\b\b\b\b\b\b\b\b\b\b\b\b\b\b\b\b\b\b\b\b\b\b\b\b\b\b\b\b\b\b\b\b\b\b\b\b\b\b\n",
      "Epoch 47/80\n",
      "909/909 [==============================] - 0s - loss: 0.9360 - acc: 0.6051 - val_loss: 0.9911 - val_acc: 0.6004\b\b\b\b\b\b\b\b\b\b\b\b\b\b\b\b\b\b\b\b\b\b\b\b\b\b\b\b\b\b\b\b\b\b\b\b\b\b\b\b\b\b\b\b\b\b\b\n",
      "Epoch 48/80\n",
      "909/909 [==============================] - 0s - loss: 0.9157 - acc: 0.6095 - val_loss: 0.9978 - val_acc: 0.5781\b\b\b\b\b\b\b\b\b\b\b\b\b\b\b\b\b\b\b\b\b\b\b\b\b\b\b\b\b\b\b\b\b\b\b\b\b\b\b\b\b\b\b\b\b\b\b\n",
      "Epoch 49/80\n",
      "909/909 [==============================] - 0s - loss: 0.9057 - acc: 0.6183 - val_loss: 1.0007 - val_acc: 0.6004\b\b\b\b\b\b\b\b\b\b\b\b\b\b\b\b\b\b\b\b\b\b\b\b\b\b\b\b\b\b\b\b\b\b\b\b\b\b\b\b\b\b\b\b\b\b\b\n",
      "Epoch 50/80\n",
      "909/909 [==============================] - 0s - loss: 0.9075 - acc: 0.6095 - val_loss: 0.9934 - val_acc: 0.5915\b\b\b\b\b\b\b\b\b\b\b\b\b\b\b\b\b\b\b\b\b\b\b\b\b\b\b\b\b\b\b\b\b\b\b\b\b\b\b\b\b\b\b\b\b\b\b\n",
      "Epoch 51/80\n",
      "909/909 [==============================] - ETA: 0s - loss: 0.9372 - acc: 0.6172\b\b\b\b\b\b\b\b\b\b\b\b\b\b\b\b\b\b\b\b\b\b\b\b\b\b\b\b\b\b\b\b\b\b\b\b\b\b\b\b\b\b\b\b\b\b\b\b\b\b\b\b\b\b\b\b\b\b\b\b\b\b\b\b\b\b\b\b\b\b\b\b\b\b\b\b\b\b\b - 0s - loss: 0.8938 - acc: 0.6205 - val_loss: 0.9819 - val_acc: 0.5826\n",
      "Epoch 52/80\n",
      "909/909 [==============================] - ETA: 0s - loss: 0.8218 - acc: 0.6719\b\b\b\b\b\b\b\b\b\b\b\b\b\b\b\b\b\b\b\b\b\b\b\b\b\b\b\b\b\b\b\b\b\b\b\b\b\b\b\b\b\b\b\b\b\b\b\b\b\b\b\b\b\b\b\b\b\b\b\b\b\b\b\b\b\b\b\b\b\b\b\b\b\b\b\b\b\b\b - 0s - loss: 0.8915 - acc: 0.6183 - val_loss: 0.9884 - val_acc: 0.5714\n",
      "Epoch 53/80\n",
      "909/909 [==============================] - 0s - loss: 0.9085 - acc: 0.6073 - val_loss: 0.9841 - val_acc: 0.5960\b\b\b\b\b\b\b\b\b\b\b\b\b\b\b\b\b\b\b\b\b\b\b\b\b\b\b\b\b\b\b\b\b\b\b\b\b\b\b\b\b\b\b\b\b\b\b\n",
      "Epoch 54/80\n",
      "909/909 [==============================] - 0s - loss: 0.8782 - acc: 0.6216 - val_loss: 0.9822 - val_acc: 0.5960\b\b\b\b\b\b\b\b\b\b\b\b\b\b\b\b\b\b\b\b\b\b\b\b\b\b\b\b\b\b\b\b\b\b\b\b\b\b\b\b\b\b\b\b\b\b\b\n",
      "Epoch 55/80\n",
      "909/909 [==============================] - 0s - loss: 0.8793 - acc: 0.6249 - val_loss: 0.9802 - val_acc: 0.6004\b\b\b\b\b\b\b\b\b\b\b\b\b\b\b\b\b\b\b\b\b\b\b\b\b\b\b\b\b\b\b\b\b\b\b\b\b\b\b\b\b\b\b\b\b\b\b\n",
      "Epoch 56/80\n",
      "909/909 [==============================] - 0s - loss: 0.8780 - acc: 0.6139 - val_loss: 0.9740 - val_acc: 0.6027\b\b\b\b\b\b\b\b\b\b\b\b\b\b\b\b\b\b\b\b\b\b\b\b\b\b\b\b\b\b\b\b\b\b\b\b\b\b\b\b\b\b\b\b\b\b\b\n",
      "Epoch 57/80\n",
      "909/909 [==============================] - 0s - loss: 0.8641 - acc: 0.6282 - val_loss: 0.9630 - val_acc: 0.5915\b\b\b\b\b\b\b\b\b\b\b\b\b\b\b\b\b\b\b\b\b\b\b\b\b\b\b\b\b\b\b\b\b\b\b\b\b\b\b\b\b\b\b\b\b\b\b\n",
      "Epoch 58/80\n",
      "909/909 [==============================] - 0s - loss: 0.8635 - acc: 0.6271 - val_loss: 0.9739 - val_acc: 0.5938\b\b\b\b\b\b\b\b\b\b\b\b\b\b\b\b\b\b\b\b\b\b\b\b\b\b\b\b\b\b\b\b\b\b\b\b\b\b\b\b\b\b\b\b\b\b\b\n",
      "Epoch 59/80\n",
      "909/909 [==============================] - 0s - loss: 0.8607 - acc: 0.6337 - val_loss: 0.9585 - val_acc: 0.5893\b\b\b\b\b\b\b\b\b\b\b\b\b\b\b\b\b\b\b\b\b\b\b\b\b\b\b\b\b\b\b\b\b\b\b\b\b\b\b\b\b\b\b\b\b\b\b\n",
      "Epoch 60/80\n",
      "909/909 [==============================] - 0s - loss: 0.8500 - acc: 0.6414 - val_loss: 0.9622 - val_acc: 0.6094\b\b\b\b\b\b\b\b\b\b\b\b\b\b\b\b\b\b\b\b\b\b\b\b\b\b\b\b\b\b\b\b\b\b\b\b\b\b\b\b\b\b\b\b\b\b\b\n",
      "Epoch 61/80\n",
      "909/909 [==============================] - 0s - loss: 0.8483 - acc: 0.6359 - val_loss: 0.9631 - val_acc: 0.6049\b\b\b\b\b\b\b\b\b\b\b\b\b\b\b\b\b\b\b\b\b\b\b\b\b\b\b\b\b\b\b\b\b\b\b\b\b\b\b\b\b\b\b\b\b\b\b\n",
      "Epoch 62/80\n",
      "909/909 [==============================] - 0s - loss: 0.8393 - acc: 0.6436 - val_loss: 0.9552 - val_acc: 0.6071\b\b\b\b\b\b\b\b\b\b\b\b\b\b\b\b\b\b\b\b\b\b\b\b\b\b\b\b\b\b\b\b\b\b\b\b\b\b\b\b\b\b\b\b\b\b\b\n",
      "Epoch 63/80\n",
      "909/909 [==============================] - 0s - loss: 0.8423 - acc: 0.6381 - val_loss: 0.9650 - val_acc: 0.5938\b\b\b\b\b\b\b\b\b\b\b\b\b\b\b\b\b\b\b\b\b\b\b\b\b\b\b\b\b\b\b\b\b\b\b\b\b\b\b\b\b\b\b\b\b\b\b\n",
      "Epoch 64/80\n",
      "909/909 [==============================] - 0s - loss: 0.8368 - acc: 0.6469 - val_loss: 0.9589 - val_acc: 0.6161\b\b\b\b\b\b\b\b\b\b\b\b\b\b\b\b\b\b\b\b\b\b\b\b\b\b\b\b\b\b\b\b\b\b\b\b\b\b\b\b\b\b\b\b\b\b\b\n",
      "Epoch 65/80\n",
      "909/909 [==============================] - 0s - loss: 0.8286 - acc: 0.6436 - val_loss: 0.9580 - val_acc: 0.6116\b\b\b\b\b\b\b\b\b\b\b\b\b\b\b\b\b\b\b\b\b\b\b\b\b\b\b\b\b\b\b\b\b\b\b\b\b\b\b\b\b\b\b\b\b\b\b\n",
      "Epoch 66/80\n",
      "909/909 [==============================] - 0s - loss: 0.8174 - acc: 0.6513 - val_loss: 0.9471 - val_acc: 0.5960\b\b\b\b\b\b\b\b\b\b\b\b\b\b\b\b\b\b\b\b\b\b\b\b\b\b\b\b\b\b\b\b\b\b\b\b\b\b\b\b\b\b\b\b\b\b\b\n",
      "Epoch 67/80\n",
      "909/909 [==============================] - 0s - loss: 0.8367 - acc: 0.6491 - val_loss: 0.9547 - val_acc: 0.6049\b\b\b\b\b\b\b\b\b\b\b\b\b\b\b\b\b\b\b\b\b\b\b\b\b\b\b\b\b\b\b\b\b\b\b\b\b\b\b\b\b\b\b\b\b\b\b\n",
      "Epoch 68/80\n",
      "909/909 [==============================] - 0s - loss: 0.9037 - acc: 0.6381 - val_loss: 0.9901 - val_acc: 0.6027\b\b\b\b\b\b\b\b\b\b\b\b\b\b\b\b\b\b\b\b\b\b\b\b\b\b\b\b\b\b\b\b\b\b\b\b\b\b\b\b\b\b\b\b\b\b\b\n",
      "Epoch 69/80\n",
      "909/909 [==============================] - 0s - loss: 0.9220 - acc: 0.6392 - val_loss: 0.9886 - val_acc: 0.6138\b\b\b\b\b\b\b\b\b\b\b\b\b\b\b\b\b\b\b\b\b\b\b\b\b\b\b\b\b\b\b\b\b\b\b\b\b\b\b\b\b\b\b\b\b\b\b\n",
      "Epoch 70/80\n",
      "909/909 [==============================] - 0s - loss: 0.9236 - acc: 0.6469 - val_loss: 0.9896 - val_acc: 0.6004\b\b\b\b\b\b\b\b\b\b\b\b\b\b\b\b\b\b\b\b\b\b\b\b\b\b\b\b\b\b\b\b\b\b\b\b\b\b\b\b\b\b\b\b\b\b\b\n",
      "Epoch 71/80\n",
      "909/909 [==============================] - 0s - loss: 0.9147 - acc: 0.6425 - val_loss: 0.9729 - val_acc: 0.6116\b\b\b\b\b\b\b\b\b\b\b\b\b\b\b\b\b\b\b\b\b\b\b\b\b\b\b\b\b\b\b\b\b\b\b\b\b\b\b\b\b\b\b\b\b\b\b\n",
      "Epoch 72/80\n",
      "909/909 [==============================] - 0s - loss: 0.9076 - acc: 0.6403 - val_loss: 0.9842 - val_acc: 0.6027\b\b\b\b\b\b\b\b\b\b\b\b\b\b\b\b\b\b\b\b\b\b\b\b\b\b\b\b\b\b\b\b\b\b\b\b\b\b\b\b\b\b\b\b\b\b\b\n",
      "Epoch 73/80\n",
      "909/909 [==============================] - 0s - loss: 0.8771 - acc: 0.6458 - val_loss: 0.9526 - val_acc: 0.6094\b\b\b\b\b\b\b\b\b\b\b\b\b\b\b\b\b\b\b\b\b\b\b\b\b\b\b\b\b\b\b\b\b\b\b\b\b\b\b\b\b\b\b\b\b\b\b\n",
      "Epoch 74/80\n",
      "909/909 [==============================] - 0s - loss: 0.8700 - acc: 0.6403 - val_loss: 0.9572 - val_acc: 0.6094\b\b\b\b\b\b\b\b\b\b\b\b\b\b\b\b\b\b\b\b\b\b\b\b\b\b\b\b\b\b\b\b\b\b\b\b\b\b\b\b\b\b\b\b\b\b\b\n",
      "Epoch 75/80\n",
      "909/909 [==============================] - 0s - loss: 0.8435 - acc: 0.6601 - val_loss: 0.9423 - val_acc: 0.6049\b\b\b\b\b\b\b\b\b\b\b\b\b\b\b\b\b\b\b\b\b\b\b\b\b\b\b\b\b\b\b\b\b\b\b\b\b\b\b\b\b\b\b\b\b\b\b\n",
      "Epoch 76/80\n",
      "909/909 [==============================] - 0s - loss: 0.8410 - acc: 0.6480 - val_loss: 0.9445 - val_acc: 0.5960\b\b\b\b\b\b\b\b\b\b\b\b\b\b\b\b\b\b\b\b\b\b\b\b\b\b\b\b\b\b\b\b\b\b\b\b\b\b\b\b\b\b\b\b\b\b\b\n",
      "Epoch 77/80\n",
      "909/909 [==============================] - 0s - loss: 0.8186 - acc: 0.6645 - val_loss: 0.9437 - val_acc: 0.6094\b\b\b\b\b\b\b\b\b\b\b\b\b\b\b\b\b\b\b\b\b\b\b\b\b\b\b\b\b\b\b\b\b\b\b\b\b\b\b\b\b\b\b\b\b\b\b\n",
      "Epoch 78/80\n",
      "909/909 [==============================] - 0s - loss: 0.8178 - acc: 0.6480 - val_loss: 0.9516 - val_acc: 0.6094\b\b\b\b\b\b\b\b\b\b\b\b\b\b\b\b\b\b\b\b\b\b\b\b\b\b\b\b\b\b\b\b\b\b\b\b\b\b\b\b\b\b\b\b\b\b\b\n",
      "Epoch 79/80\n",
      "909/909 [==============================] - 0s - loss: 0.8102 - acc: 0.6711 - val_loss: 0.9448 - val_acc: 0.5982\b\b\b\b\b\b\b\b\b\b\b\b\b\b\b\b\b\b\b\b\b\b\b\b\b\b\b\b\b\b\b\b\b\b\b\b\b\b\b\b\b\b\b\b\b\b\b\n",
      "Epoch 80/80\n",
      "909/909 [==============================] - 0s - loss: 0.8038 - acc: 0.6667 - val_loss: 0.9447 - val_acc: 0.6094\b\b\b\b\b\b\b\b\b\b\b\b\b\b\b\b\b\b\b\b\b\b\b\b\b\b\b\b\b\b\b\b\b\b\b\b\b\b\b\b\b\b\b\b\b\b\b\n"
     ]
    },
    {
     "data": {
      "text/plain": [
       "<keras.callbacks.History at 0x10eebe390>"
      ]
     },
     "execution_count": 74,
     "metadata": {},
     "output_type": "execute_result"
    }
   ],
   "source": [
    "model = Sequential()\n",
    "model.add(Dense(64, input_dim=x_train.shape[1], activation='relu'))\n",
    "model.add(Dense(32, init='normal', activation='relu'))\n",
    "#model.add(Dense(64, init='normal', activation='relu'))\n",
    "model.add(Dense(5, init='normal', activation='sigmoid'))\n",
    "# compile model for a multi-class classification problem (optimizer = adam/rmsprop/sgd)\n",
    "#sgd = SGD(lr=0.03, decay=1e-6, momentum=0.9, nesterov=True)\n",
    "model.compile(optimizer='adam',\n",
    "              loss='categorical_crossentropy',\n",
    "              metrics=['accuracy'])\n",
    "\n",
    "model.fit(x_train,y_train,validation_data=(x_test,y_test),shuffle=True, nb_epoch=80, batch_size=128)\n"
   ]
  },
  {
   "cell_type": "code",
   "execution_count": 75,
   "metadata": {
    "collapsed": false
   },
   "outputs": [
    {
     "name": "stdout",
     "output_type": "stream",
     "text": [
      "Accuracy: 56.95%\n"
     ]
    }
   ],
   "source": [
    "# Final evaluation of the model\n",
    "scores = model.evaluate(X_test, dummy_y_test, verbose=0)\n",
    "print(\"Accuracy: %.2f%%\" % (scores[1]*100))"
   ]
  },
  {
   "cell_type": "code",
   "execution_count": 76,
   "metadata": {
    "collapsed": false
   },
   "outputs": [
    {
     "name": "stdout",
     "output_type": "stream",
     "text": [
      "\r",
      " 32/453 [=>............................] - ETA: 0s"
     ]
    }
   ],
   "source": [
    "test_preds = model.predict_classes(X_test)"
   ]
  },
  {
   "cell_type": "code",
   "execution_count": 77,
   "metadata": {
    "collapsed": false
   },
   "outputs": [],
   "source": [
    "c_y = dummy_y_test.argmax(1)"
   ]
  },
  {
   "cell_type": "code",
   "execution_count": 78,
   "metadata": {
    "collapsed": false
   },
   "outputs": [
    {
     "name": "stdout",
     "output_type": "stream",
     "text": [
      "                   pre       rec       spe        f1       geo       iba       sup\n",
      "\n",
      "          0       0.60      0.94      0.90      0.73      0.77      0.57        63\n",
      "          1       0.00      0.00      1.00      0.00      0.00      0.00        23\n",
      "          2       0.38      0.40      0.91      0.39      0.59      0.33        53\n",
      "          3       0.37      0.11      0.93      0.17      0.53      0.27       118\n",
      "          4       0.63      0.84      0.62      0.72      0.72      0.51       196\n",
      "\n",
      "avg / total       0.49      0.57      0.79      0.50      0.63      0.41       453\n",
      "\n"
     ]
    },
    {
     "name": "stderr",
     "output_type": "stream",
     "text": [
      "/Users/rcortez/anaconda/envs/python3/lib/python3.5/site-packages/sklearn/metrics/classification.py:1113: UndefinedMetricWarning: Precision and F-score are ill-defined and being set to 0.0 in labels with no predicted samples.\n",
      "  'precision', 'predicted', average, warn_for)\n",
      "/Users/rcortez/anaconda/envs/python3/lib/python3.5/site-packages/imblearn/metrics/classification.py:240: UndefinedMetricWarning: Sensitivity is ill-defined and being set to 0.0 in labels with no true samples.\n",
      "  average, warn_for)\n"
     ]
    }
   ],
   "source": [
    "print(classification_report_imbalanced(y_pred=test_preds,y_true=c_y))"
   ]
  },
  {
   "cell_type": "code",
   "execution_count": 184,
   "metadata": {
    "collapsed": false
   },
   "outputs": [
    {
     "data": {
      "image/png": "[encoded data removed]",
      "text/plain": [
       "<matplotlib.figure.Figure at 0x10fa6bf98>"
      ]
     },
     "metadata": {
      "image/png": {
       "height": 386,
       "width": 448
      }
     },
     "output_type": "display_data"
    }
   ],
   "source": [
    "visual.plot_confusion_matrix(c_y,test_preds,title='Test')"
   ]
  },
  {
   "cell_type": "code",
   "execution_count": 41,
   "metadata": {
    "collapsed": true
   },
   "outputs": [],
   "source": [
    "from keras.optimizers import SGD\n",
    "from keras.layers import Dropout\n",
    "model = Sequential()"
   ]
  },
  {
   "cell_type": "code",
   "execution_count": null,
   "metadata": {
    "collapsed": false
   },
   "outputs": [],
   "source": []
  },
  {
   "cell_type": "code",
   "execution_count": null,
   "metadata": {
    "collapsed": false
   },
   "outputs": [],
   "source": []
  },
  {
   "cell_type": "code",
   "execution_count": null,
   "metadata": {
    "collapsed": false
   },
   "outputs": [],
   "source": [
    "# define baseline model\n",
    "def baseline_model():\n",
    "    # create model\n",
    "    model = Sequential()\n",
    "    model.add(Dense(32, input_dim=top_words, init='normal', activation='relu'))\n",
    "    model.add(Dense(5, init='normal', activation='sigmoid'))\n",
    "    # Compile model\n",
    "    model.compile(loss='categorical_crossentropy', optimizer='adam', metrics=['accuracy'])\n",
    "    return model\n",
    "\n",
    "estimator = KerasClassifier(build_fn=baseline_model, nb_epoch=3, batch_size=5, verbose=0)\n",
    "kfold = KFold(n_splits=10, shuffle=True, random_state=seed)\n",
    "\n",
    "results = cross_val_score(estimator,x_data,dummy_y, cv=kfold,scoring='average_precision')\n",
    "print(\"Baseline: %.2f%% (%.2f%%)\" % (results.mean()*100, results.std()*100))"
   ]
  },
  {
   "cell_type": "code",
   "execution_count": null,
   "metadata": {
    "collapsed": false
   },
   "outputs": [],
   "source": []
  },
  {
   "cell_type": "code",
   "execution_count": null,
   "metadata": {
    "collapsed": false
   },
   "outputs": [],
   "source": []
  },
  {
   "cell_type": "code",
   "execution_count": null,
   "metadata": {
    "collapsed": false
   },
   "outputs": [],
   "source": []
  },
  {
   "cell_type": "code",
   "execution_count": null,
   "metadata": {
    "collapsed": false
   },
   "outputs": [],
   "source": []
  },
  {
   "cell_type": "code",
   "execution_count": null,
   "metadata": {
    "collapsed": false
   },
   "outputs": [],
   "source": []
  },
  {
   "cell_type": "code",
   "execution_count": null,
   "metadata": {
    "collapsed": false
   },
   "outputs": [],
   "source": []
  },
  {
   "cell_type": "code",
   "execution_count": null,
   "metadata": {
    "collapsed": false
   },
   "outputs": [],
   "source": []
  },
  {
   "cell_type": "code",
   "execution_count": null,
   "metadata": {
    "collapsed": false
   },
   "outputs": [],
   "source": []
  },
  {
   "cell_type": "code",
   "execution_count": null,
   "metadata": {
    "collapsed": false
   },
   "outputs": [],
   "source": []
  },
  {
   "cell_type": "code",
   "execution_count": null,
   "metadata": {
    "collapsed": false
   },
   "outputs": [],
   "source": []
  },
  {
   "cell_type": "code",
   "execution_count": null,
   "metadata": {
    "collapsed": false
   },
   "outputs": [],
   "source": []
  },
  {
   "cell_type": "code",
   "execution_count": null,
   "metadata": {
    "collapsed": false
   },
   "outputs": [],
   "source": []
  },
  {
   "cell_type": "code",
   "execution_count": null,
   "metadata": {
    "collapsed": false
   },
   "outputs": [],
   "source": []
  },
  {
   "cell_type": "code",
   "execution_count": null,
   "metadata": {
    "collapsed": false
   },
   "outputs": [],
   "source": []
  },
  {
   "cell_type": "code",
   "execution_count": null,
   "metadata": {
    "collapsed": false
   },
   "outputs": [],
   "source": [
    "#cross_validation = StratifiedShuffleSplit(y_data, n_iter=10, test_size=0.3, random_state=RANDOM_STATE)\n",
    "cross_validation =   StratifiedKFold (y_data,n_folds=5, random_state=RANDOM_STATE)\n",
    "\n",
    "scores = []\n",
    "confusion_matrices = []\n",
    "clf_models = []\n",
    "avgs = []\n",
    "\n",
    "for train_index,test_index in cross_validation:\n",
    "\n",
    "    clf = None\n",
    "\n",
    "    dx_train, dy_train = x_data[train_index], y_data[train_index]\n",
    "    dx_test, dy_test = x_data[test_index], y_data[test_index]\n",
    "    \n",
    "    clf = RandomForestClassifier(n_estimators= 37, n_jobs=-1)\n",
    "    #clf = svm.SVC(decision_function_shape='ovo',random_state=RANDOM_STATE,probability=True)\n",
    "    clf.fit(dx_train, dy_train)\n",
    "    clf_models.append(clf)\n",
    "    \n",
    "    # Saving the scores.\n",
    "    test_score = clf.score(dx_test, dy_test)\n",
    "    test_preds = clf.predict(dx_test)\n",
    "    rep = classification_report_imbalanced(dy_test, test_preds)\n",
    "    txt_rep = nltk.word_tokenize(rep[500:1000])\n",
    "    avg_total = [float(txt_rep[i]) for i in range(3,len(txt_rep))]\n",
    "    avgs.append(avg_total)\n",
    "    scores.append(test_score)\n",
    "\n",
    "\n",
    "    # Saving the confusion matrices.\n",
    "    data_classes_pred = clf.predict(dx_test) \n",
    "    cm = confusion_matrix(dy_test, test_preds)\n",
    "    confusion_matrices.append(cm)\n",
    "    \n",
    "print('Average precision :', str(np.mean([avgs[i][0] for i in range(len(avgs))])))\n",
    "print('Average recall :', str(np.mean([avgs[i][1] for i in range(len(avgs))])))\n",
    "print('Average F-score :', str(np.mean([avgs[i][3] for i in range(len(avgs))])))"
   ]
  },
  {
   "cell_type": "code",
   "execution_count": null,
   "metadata": {
    "collapsed": true
   },
   "outputs": [],
   "source": []
  },
  {
   "cell_type": "code",
   "execution_count": null,
   "metadata": {
    "collapsed": false
   },
   "outputs": [],
   "source": [
    "from sklearn.externals import joblib\n",
    "joblib.dump(clf, 'best_RFC_text_SSS.pkl', compress=9)\n",
    "#model_clone = joblib.load('best_SVM_text.pkl')"
   ]
  },
  {
   "cell_type": "code",
   "execution_count": null,
   "metadata": {
    "collapsed": true
   },
   "outputs": [],
   "source": []
  }
 ],
 "metadata": {
  "kernelspec": {
   "display_name": "Python 3",
   "language": "python",
   "name": "python3"
  },
  "language_info": {
   "codemirror_mode": {
    "name": "ipython",
    "version": 3
   },
   "file_extension": ".py",
   "mimetype": "text/x-python",
   "name": "python",
   "nbconvert_exporter": "python",
   "pygments_lexer": "ipython3",
   "version": "3.5.2"
  }
 },
 "nbformat": 4,
 "nbformat_minor": 2
}
