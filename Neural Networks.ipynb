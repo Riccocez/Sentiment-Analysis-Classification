{
 "cells": [
  {
   "cell_type": "code",
   "execution_count": 6,
   "metadata": {
    "collapsed": true
   },
   "outputs": [],
   "source": [
    "%matplotlib inline\n",
    "%config InlineBackend.figure_format='retina'"
   ]
  },
  {
   "cell_type": "code",
   "execution_count": 56,
   "metadata": {
    "collapsed": false
   },
   "outputs": [],
   "source": [
    "import pandas as pd\n",
    "from sklearn.utils import shuffle\n",
    "import numpy as np\n",
    "from sklearn.feature_extraction.text import CountVectorizer\n",
    "from sklearn.feature_extraction.text import TfidfVectorizer\n",
    "from time import time\n",
    "from sklearn.preprocessing import LabelEncoder\n",
    "from keras.utils import np_utils\n",
    "from sklearn.model_selection import train_test_split\n",
    "\n",
    "from keras.models import Sequential\n",
    "from keras.layers import Dense, Activation\n",
    "from imblearn.metrics import classification_report_imbalanced\n",
    "from Visualization import Visualization\n",
    "\n",
    "from keras.wrappers.scikit_learn import KerasClassifier\n",
    "from sklearn.model_selection import KFold\n",
    "from sklearn.model_selection import cross_val_score"
   ]
  },
  {
   "cell_type": "code",
   "execution_count": 2,
   "metadata": {
    "collapsed": false
   },
   "outputs": [],
   "source": [
    "data = pd.read_csv('rebtel_w_lexicon.csv')\n",
    "data = data.reset_index()\n",
    "del data['index']"
   ]
  },
  {
   "cell_type": "code",
   "execution_count": 75,
   "metadata": {
    "collapsed": false
   },
   "outputs": [
    {
     "data": {
      "text/html": [
       "<div>\n",
       "<table border=\"1\" class=\"dataframe\">\n",
       "  <thead>\n",
       "    <tr style=\"text-align: right;\">\n",
       "      <th></th>\n",
       "      <th>Rating</th>\n",
       "      <th>day</th>\n",
       "      <th>month</th>\n",
       "      <th>year</th>\n",
       "      <th>hour</th>\n",
       "      <th>minute</th>\n",
       "      <th>second</th>\n",
       "      <th>dayofweek</th>\n",
       "      <th>weekofyear</th>\n",
       "      <th>Country</th>\n",
       "      <th>...</th>\n",
       "      <th>Porter_review</th>\n",
       "      <th>Lanc_title</th>\n",
       "      <th>Lanc_review</th>\n",
       "      <th>Lems_title_review</th>\n",
       "      <th>Snow_title_review</th>\n",
       "      <th>Porter_title_review</th>\n",
       "      <th>Lanc_title_review</th>\n",
       "      <th>Rel_w_title_review</th>\n",
       "      <th>Key_country</th>\n",
       "      <th>Lex_preds</th>\n",
       "    </tr>\n",
       "  </thead>\n",
       "  <tbody>\n",
       "    <tr>\n",
       "      <th>0</th>\n",
       "      <td>1</td>\n",
       "      <td>21</td>\n",
       "      <td>2</td>\n",
       "      <td>2017</td>\n",
       "      <td>9</td>\n",
       "      <td>27</td>\n",
       "      <td>7</td>\n",
       "      <td>2</td>\n",
       "      <td>8</td>\n",
       "      <td>United Kingdom</td>\n",
       "      <td>...</td>\n",
       "      <td>compani charg sever time even phone not ! conn...</td>\n",
       "      <td>charg without connect</td>\n",
       "      <td>company charg sev tim ev phon not ! connect nu...</td>\n",
       "      <td>charged without connection COMPANY charged sev...</td>\n",
       "      <td>charg without connect compani charg sever time...</td>\n",
       "      <td>charg without connect compani charg sever time...</td>\n",
       "      <td>charg without connect company charg sev tim ev...</td>\n",
       "      <td>charged without connection COMPANY charged sev...</td>\n",
       "      <td>0</td>\n",
       "      <td>1</td>\n",
       "    </tr>\n",
       "    <tr>\n",
       "      <th>1</th>\n",
       "      <td>1</td>\n",
       "      <td>16</td>\n",
       "      <td>2</td>\n",
       "      <td>2017</td>\n",
       "      <td>2</td>\n",
       "      <td>32</td>\n",
       "      <td>11</td>\n",
       "      <td>4</td>\n",
       "      <td>7</td>\n",
       "      <td>United States</td>\n",
       "      <td>...</td>\n",
       "      <td>top price mistakenli topup option near price t...</td>\n",
       "      <td>refund</td>\n",
       "      <td>top pric mistak topup opt near pric touch pric...</td>\n",
       "      <td>refund topped PRICE mistakenly topup option ne...</td>\n",
       "      <td>refund top price mistaken topup option near pr...</td>\n",
       "      <td>refund top price mistakenli topup option near ...</td>\n",
       "      <td>refund top pric mistak topup opt near pric tou...</td>\n",
       "      <td>refund topped PRICE mistakenly topup option ne...</td>\n",
       "      <td>1</td>\n",
       "      <td>2</td>\n",
       "    </tr>\n",
       "  </tbody>\n",
       "</table>\n",
       "<p>2 rows × 42 columns</p>\n",
       "</div>"
      ],
      "text/plain": [
       "   Rating  day  month  year  hour  minute  second  dayofweek  weekofyear  \\\n",
       "0       1   21      2  2017     9      27       7          2           8   \n",
       "1       1   16      2  2017     2      32      11          4           7   \n",
       "\n",
       "          Country    ...      \\\n",
       "0  United Kingdom    ...       \n",
       "1   United States    ...       \n",
       "\n",
       "                                       Porter_review             Lanc_title  \\\n",
       "0  compani charg sever time even phone not ! conn...  charg without connect   \n",
       "1  top price mistakenli topup option near price t...                 refund   \n",
       "\n",
       "                                         Lanc_review  \\\n",
       "0  company charg sev tim ev phon not ! connect nu...   \n",
       "1  top pric mistak topup opt near pric touch pric...   \n",
       "\n",
       "                                   Lems_title_review  \\\n",
       "0  charged without connection COMPANY charged sev...   \n",
       "1  refund topped PRICE mistakenly topup option ne...   \n",
       "\n",
       "                                   Snow_title_review  \\\n",
       "0  charg without connect compani charg sever time...   \n",
       "1  refund top price mistaken topup option near pr...   \n",
       "\n",
       "                                 Porter_title_review  \\\n",
       "0  charg without connect compani charg sever time...   \n",
       "1  refund top price mistakenli topup option near ...   \n",
       "\n",
       "                                   Lanc_title_review  \\\n",
       "0  charg without connect company charg sev tim ev...   \n",
       "1  refund top pric mistak topup opt near pric tou...   \n",
       "\n",
       "                                  Rel_w_title_review  Key_country  Lex_preds  \n",
       "0  charged without connection COMPANY charged sev...            0          1  \n",
       "1  refund topped PRICE mistakenly topup option ne...            1          2  \n",
       "\n",
       "[2 rows x 42 columns]"
      ]
     },
     "execution_count": 75,
     "metadata": {},
     "output_type": "execute_result"
    }
   ],
   "source": [
    "data.head(n=2)"
   ]
  },
  {
   "cell_type": "code",
   "execution_count": 3,
   "metadata": {
    "collapsed": false
   },
   "outputs": [],
   "source": [
    "# Build a balanced train/test set\n",
    "data = data.reindex()\n",
    "r1_df = data.loc[data.Rating == 1]\n",
    "r2_df = data.loc[data.Rating == 2]\n",
    "r3_df = data.loc[data.Rating == 3]\n",
    "r4_df = data.loc[data.Rating == 4]\n",
    "r5_df = data.loc[data.Rating == 5]\n",
    "dfs = [r1_df, r2_df, r3_df, r4_df, r5_df]"
   ]
  },
  {
   "cell_type": "code",
   "execution_count": 4,
   "metadata": {
    "collapsed": true
   },
   "outputs": [],
   "source": [
    "t_size = 0.7\n",
    "\n",
    "train_set = []\n",
    "test_set = []\n",
    "\n",
    "for df in dfs:\n",
    "    \n",
    "    train_size = int(len(df)* t_size)\n",
    "    \n",
    "    train_data = df[0:train_size].reset_index(drop=True)\n",
    "    test_data = df[train_size:].reset_index(drop=True)\n",
    "    \n",
    "    train_set.append(train_data)\n",
    "    test_set.append(test_data)"
   ]
  },
  {
   "cell_type": "code",
   "execution_count": 11,
   "metadata": {
    "collapsed": false
   },
   "outputs": [],
   "source": [
    "df_train = pd.concat(train_set[:],axis=0)\n",
    "df_train = df_train.reset_index()\n",
    "\n",
    "df_test = pd.concat(test_set[:],axis=0)\n",
    "df_test = df_test.reset_index()\n",
    "\n",
    "df = pd.concat([df_train,df_test],axis=0)\n",
    "df = shuffle(df).reset_index()"
   ]
  },
  {
   "cell_type": "code",
   "execution_count": 10,
   "metadata": {
    "collapsed": true
   },
   "outputs": [],
   "source": [
    "# Extract true labels from data\n",
    "y_data = df[\"Rating\"].values\n",
    "y_data = y_data.reshape(y_data.shape[0],)"
   ]
  },
  {
   "cell_type": "code",
   "execution_count": 76,
   "metadata": {
    "collapsed": false
   },
   "outputs": [
    {
     "data": {
      "text/plain": [
       "<matplotlib.axes._subplots.AxesSubplot at 0x128eb6470>"
      ]
     },
     "execution_count": 76,
     "metadata": {},
     "output_type": "execute_result"
    },
    {
     "data": {
      "image/png": "[encoded data removed]",
      "text/plain": [
       "<matplotlib.figure.Figure at 0x125ac4198>"
      ]
     },
     "metadata": {
      "image/png": {
       "height": 246,
       "width": 377
      }
     },
     "output_type": "display_data"
    }
   ],
   "source": [
    "#Check distribution of classes\n",
    "df.Rating.value_counts().plot(kind='bar',grid=True)"
   ]
  },
  {
   "cell_type": "code",
   "execution_count": 16,
   "metadata": {
    "collapsed": false
   },
   "outputs": [],
   "source": [
    "ctyNames = df.Country.unique() \n",
    "ctyNames = np.append(ctyNames,['Unkown'])\n",
    "countries = {ctyNames[i]: i for i in range(0, len(ctyNames))}"
   ]
  },
  {
   "cell_type": "code",
   "execution_count": 18,
   "metadata": {
    "collapsed": true
   },
   "outputs": [],
   "source": [
    "def map_country(ctyName,countries):\n",
    "    \n",
    "    if ctyName in countries:\n",
    "        value = countries[ctyName]\n",
    "    else:\n",
    "        value = countries['Unkown']\n",
    "\n",
    "    return value"
   ]
  },
  {
   "cell_type": "code",
   "execution_count": 19,
   "metadata": {
    "collapsed": true
   },
   "outputs": [],
   "source": [
    "df['Key_country'] = [map_country(cty,countries) for cty in df.Country]"
   ]
  },
  {
   "cell_type": "code",
   "execution_count": 121,
   "metadata": {
    "collapsed": false
   },
   "outputs": [],
   "source": [
    "# Set up Vectorizer with the X most frequent words\n",
    "top_words = 125 #145 \n",
    "vectorizer = CountVectorizer(ngram_range=(1,2),analyzer = \"word\", tokenizer = None, preprocessor = None, stop_words = None,   \\\n",
    "                            max_features = top_words )\n",
    "RANDOM_STATE = 42"
   ]
  },
  {
   "cell_type": "code",
   "execution_count": 122,
   "metadata": {
    "collapsed": false
   },
   "outputs": [],
   "source": [
    "n_features = top_words\n",
    "tfidf_vectorizer = TfidfVectorizer(max_df=0.95, min_df=2,\n",
    "                                   max_features=n_features,\n",
    "                                   stop_words='english')"
   ]
  },
  {
   "cell_type": "code",
   "execution_count": 123,
   "metadata": {
    "collapsed": false
   },
   "outputs": [],
   "source": [
    "#ADD MORE FEATURES\n",
    "add_feats = df[['Reads','r_compound','r_negative', 'r_positive',\n",
    "                'r_neutral','t_compound','t_negative', 't_positive',\n",
    "                't_neutral','dayofweek','weekofyear','Key_country',\n",
    "                \"Useful\"]]\n",
    "a_feats = add_feats.values"
   ]
  },
  {
   "cell_type": "code",
   "execution_count": 124,
   "metadata": {
    "collapsed": false
   },
   "outputs": [],
   "source": [
    "#Select method to train model (Lems/Snow/Porter/Lanc)\n",
    "method =  \"Lanc\"\n",
    "add_feats = True\n",
    "tfidf = False\n",
    "seed = 13 \n",
    "\n",
    "x_fts = vectorizer.fit_transform(df[method + '_title_review'])\n",
    "x_fts = x_fts.toarray()\n",
    "\n",
    "if add_feats:\n",
    "    x_fts = np.concatenate((x_fts,a_feats),axis=1)\n",
    "\n",
    "\n",
    "np.random.seed(seed)\n",
    "\n",
    "train_size = 0.75\n",
    "train_size = int(len(x_fts)* train_size)\n",
    "\n",
    "x_train, y_train = x_fts[0:train_size], df['Rating'][0:train_size]\n",
    "X_test, Y_test = x_fts[train_size:], df['Rating'][train_size:] "
   ]
  },
  {
   "cell_type": "code",
   "execution_count": 125,
   "metadata": {
    "collapsed": false
   },
   "outputs": [],
   "source": [
    "if tfidf:\n",
    "\n",
    "    t0 = time()\n",
    "    tfidf = tfidf_vectorizer.fit_transform(df[method + '_title_review'])\n",
    "    print(\"done in %0.3fs.\" % (time() - t0))\n",
    "\n",
    "    x_fts = tfidf.toarray()\n",
    "\n",
    "    if add_feats:\n",
    "        x_fts = np.concatenate((x_fts,a_feats),axis=1)\n",
    "\n",
    "\n",
    "    np.random.seed(seed)\n",
    "\n",
    "    train_size = 0.75\n",
    "    train_size = int(len(x_fts)* train_size)\n",
    "\n",
    "    x_train, y_train = x_fts[0:train_size], df['Rating'][0:train_size]\n",
    "    X_test, Y_test = x_fts[train_size:], df['Rating'][train_size:] "
   ]
  },
  {
   "cell_type": "code",
   "execution_count": 126,
   "metadata": {
    "collapsed": false
   },
   "outputs": [],
   "source": [
    "# encode class values as integers\n",
    "encoder = LabelEncoder()\n",
    "encoder.fit(y_train)\n",
    "\n",
    "encoded_Y = encoder.transform(y_train)\n",
    "encoded_Y_test = encoder.transform(Y_test)\n",
    "\n",
    "# convert integers to dummy variables (i.e. one hot encoded)\n",
    "dummy_y_train = np_utils.to_categorical(encoded_Y)\n",
    "dummy_y_test = np_utils.to_categorical(encoded_Y_test)"
   ]
  },
  {
   "cell_type": "code",
   "execution_count": 127,
   "metadata": {
    "collapsed": false
   },
   "outputs": [],
   "source": [
    "# split into 67% for train and 33% for test\n",
    "x_train, x_test, y_train, y_test = train_test_split(x_train, dummy_y_train, test_size=0.33, random_state=seed)"
   ]
  },
  {
   "cell_type": "code",
   "execution_count": 128,
   "metadata": {
    "collapsed": false
   },
   "outputs": [
    {
     "name": "stdout",
     "output_type": "stream",
     "text": [
      "Train on 909 samples, validate on 449 samples\n",
      "Epoch 1/80\n",
      "909/909 [==============================] - 0s - loss: 1.6289 - acc: 0.1540 - val_loss: 1.5884 - val_acc: 0.4499\b\b\b\b\b\b\b\b\b\b\b\b\b\b\b\b\b\b\b\b\b\b\b\b\b\b\b\b\b\b\b\b\b\b\b\b\b\b\b\b\b\b\b\b\b\b\b\n",
      "Epoch 2/80\n",
      "909/909 [==============================] - 0s - loss: 1.5717 - acc: 0.4004 - val_loss: 1.5546 - val_acc: 0.4588\b\b\b\b\b\b\b\b\b\b\b\b\b\b\b\b\b\b\b\b\b\b\b\b\b\b\b\b\b\b\b\b\b\b\b\b\b\b\b\b\b\b\b\b\b\b\b\n",
      "Epoch 3/80\n",
      "909/909 [==============================] - 0s - loss: 1.5338 - acc: 0.4521 - val_loss: 1.5151 - val_acc: 0.4788\b\b\b\b\b\b\b\b\b\b\b\b\b\b\b\b\b\b\b\b\b\b\b\b\b\b\b\b\b\b\b\b\b\b\b\b\b\b\b\b\b\b\b\b\b\b\b\n",
      "Epoch 4/80\n",
      "909/909 [==============================] - 0s - loss: 1.4901 - acc: 0.4466 - val_loss: 1.4660 - val_acc: 0.4833\b\b\b\b\b\b\b\b\b\b\b\b\b\b\b\b\b\b\b\b\b\b\b\b\b\b\b\b\b\b\b\b\b\b\b\b\b\b\b\b\b\b\b\b\b\b\b\n",
      "Epoch 5/80\n",
      "909/909 [==============================] - 0s - loss: 1.4453 - acc: 0.4466 - val_loss: 1.4184 - val_acc: 0.4833\b\b\b\b\b\b\b\b\b\b\b\b\b\b\b\b\b\b\b\b\b\b\b\b\b\b\b\b\b\b\b\b\b\b\b\b\b\b\b\b\b\b\b\b\b\b\b\n",
      "Epoch 6/80\n",
      "909/909 [==============================] - 0s - loss: 1.4212 - acc: 0.4466 - val_loss: 1.3854 - val_acc: 0.4833\b\b\b\b\b\b\b\b\b\b\b\b\b\b\b\b\b\b\b\b\b\b\b\b\b\b\b\b\b\b\b\b\b\b\b\b\b\b\b\b\b\b\b\b\b\b\b\n",
      "Epoch 7/80\n",
      "909/909 [==============================] - 0s - loss: 1.3896 - acc: 0.4466 - val_loss: 1.3757 - val_acc: 0.4833\b\b\b\b\b\b\b\b\b\b\b\b\b\b\b\b\b\b\b\b\b\b\b\b\b\b\b\b\b\b\b\b\b\b\b\b\b\b\b\b\b\b\b\b\b\b\b\n",
      "Epoch 8/80\n",
      "909/909 [==============================] - 0s - loss: 1.3725 - acc: 0.4455 - val_loss: 1.3538 - val_acc: 0.4833\b\b\b\b\b\b\b\b\b\b\b\b\b\b\b\b\b\b\b\b\b\b\b\b\b\b\b\b\b\b\b\b\b\b\b\b\b\b\b\b\b\b\b\b\b\b\b\n",
      "Epoch 9/80\n",
      "909/909 [==============================] - 0s - loss: 1.3547 - acc: 0.4455 - val_loss: 1.3330 - val_acc: 0.4833\b\b\b\b\b\b\b\b\b\b\b\b\b\b\b\b\b\b\b\b\b\b\b\b\b\b\b\b\b\b\b\b\b\b\b\b\b\b\b\b\b\b\b\b\b\b\b\n",
      "Epoch 10/80\n",
      "909/909 [==============================] - 0s - loss: 1.3361 - acc: 0.4466 - val_loss: 1.3108 - val_acc: 0.4833\b\b\b\b\b\b\b\b\b\b\b\b\b\b\b\b\b\b\b\b\b\b\b\b\b\b\b\b\b\b\b\b\b\b\b\b\b\b\b\b\b\b\b\b\b\b\b\n",
      "Epoch 11/80\n",
      "909/909 [==============================] - 0s - loss: 1.3140 - acc: 0.4466 - val_loss: 1.3013 - val_acc: 0.4811\b\b\b\b\b\b\b\b\b\b\b\b\b\b\b\b\b\b\b\b\b\b\b\b\b\b\b\b\b\b\b\b\b\b\b\b\b\b\b\b\b\b\b\b\b\b\b\n",
      "Epoch 12/80\n",
      "909/909 [==============================] - 0s - loss: 1.2968 - acc: 0.4488 - val_loss: 1.2844 - val_acc: 0.4811\b\b\b\b\b\b\b\b\b\b\b\b\b\b\b\b\b\b\b\b\b\b\b\b\b\b\b\b\b\b\b\b\b\b\b\b\b\b\b\b\b\b\b\b\b\b\b\b\b\b\b\b\b\b\b\b\b\b\b\b\b\b\b\b\b\b\b\b\b\b\b\b\b\b\b\b\b\b\b\b\b\b\b\b\b\b\b\b\b\b\b\b\b\b\b\b\b\b\b\b\b\b\b\b\b\b\b\b\b\b\b\b\b\b\b\b\b\b\b\b\b\b\b\b\b\b\n",
      "Epoch 13/80\n",
      "909/909 [==============================] - 0s - loss: 1.2731 - acc: 0.4510 - val_loss: 1.2584 - val_acc: 0.4811\b\b\b\b\b\b\b\b\b\b\b\b\b\b\b\b\b\b\b\b\b\b\b\b\b\b\b\b\b\b\b\b\b\b\b\b\b\b\b\b\b\b\b\b\b\b\b\b\b\b\b\b\b\b\b\b\b\b\b\b\b\b\b\b\b\b\b\b\b\b\b\b\b\b\b\b\b\b\b\b\b\b\b\b\b\b\b\b\b\b\b\b\b\b\b\b\b\b\b\b\b\b\b\b\b\b\b\b\b\b\b\b\b\b\b\b\b\b\b\b\b\b\b\b\b\b\n",
      "Epoch 14/80\n",
      "909/909 [==============================] - 0s - loss: 1.2413 - acc: 0.4521 - val_loss: 1.2273 - val_acc: 0.4878\b\b\b\b\b\b\b\b\b\b\b\b\b\b\b\b\b\b\b\b\b\b\b\b\b\b\b\b\b\b\b\b\b\b\b\b\b\b\b\b\b\b\b\b\b\b\b\n",
      "Epoch 15/80\n",
      "909/909 [==============================] - 0s - loss: 1.2118 - acc: 0.4609 - val_loss: 1.2009 - val_acc: 0.4944\b\b\b\b\b\b\b\b\b\b\b\b\b\b\b\b\b\b\b\b\b\b\b\b\b\b\b\b\b\b\b\b\b\b\b\b\b\b\b\b\b\b\b\b\b\b\b\n",
      "Epoch 16/80\n",
      "909/909 [==============================] - 0s - loss: 1.1749 - acc: 0.4818 - val_loss: 1.1668 - val_acc: 0.5234\b\b\b\b\b\b\b\b\b\b\b\b\b\b\b\b\b\b\b\b\b\b\b\b\b\b\b\b\b\b\b\b\b\b\b\b\b\b\b\b\b\b\b\b\b\b\b\n",
      "Epoch 17/80\n",
      "909/909 [==============================] - 0s - loss: 1.1376 - acc: 0.5138 - val_loss: 1.1322 - val_acc: 0.5479\b\b\b\b\b\b\b\b\b\b\b\b\b\b\b\b\b\b\b\b\b\b\b\b\b\b\b\b\b\b\b\b\b\b\b\b\b\b\b\b\b\b\b\b\b\b\b\b\b\b\b\b\b\b\b\b\b\b\b\b\b\b\b\b\b\b\b\b\b\b\b\b\b\b\b\b\b\b\b\b\b\b\b\b\b\b\b\b\b\b\b\b\b\b\b\b\b\b\b\b\b\b\b\b\b\b\b\b\b\b\b\b\b\b\b\b\b\b\b\b\b\b\b\b\b\b\n",
      "Epoch 18/80\n",
      "909/909 [==============================] - 0s - loss: 1.1009 - acc: 0.5413 - val_loss: 1.0973 - val_acc: 0.5679\b\b\b\b\b\b\b\b\b\b\b\b\b\b\b\b\b\b\b\b\b\b\b\b\b\b\b\b\b\b\b\b\b\b\b\b\b\b\b\b\b\b\b\b\b\b\b\n",
      "Epoch 19/80\n",
      "909/909 [==============================] - 0s - loss: 1.0589 - acc: 0.5589 - val_loss: 1.0808 - val_acc: 0.5702\b\b\b\b\b\b\b\b\b\b\b\b\b\b\b\b\b\b\b\b\b\b\b\b\b\b\b\b\b\b\b\b\b\b\b\b\b\b\b\b\b\b\b\b\b\b\b\n",
      "Epoch 20/80\n",
      "909/909 [==============================] - 0s - loss: 1.0309 - acc: 0.5666 - val_loss: 1.0845 - val_acc: 0.5702\b\b\b\b\b\b\b\b\b\b\b\b\b\b\b\b\b\b\b\b\b\b\b\b\b\b\b\b\b\b\b\b\b\b\b\b\b\b\b\b\b\b\b\b\b\b\b\b\b\b\b\b\b\b\b\b\b\b\b\b\b\b\b\b\b\b\b\b\b\b\b\b\b\b\b\b\b\b\b\b\b\b\b\b\b\b\b\b\b\b\b\b\b\b\b\b\b\b\b\b\b\b\b\b\b\b\b\b\b\b\b\b\b\b\b\b\b\b\b\b\b\b\b\b\b\b\n",
      "Epoch 21/80\n",
      "909/909 [==============================] - 0s - loss: 0.9999 - acc: 0.5787 - val_loss: 1.0814 - val_acc: 0.5813\b\b\b\b\b\b\b\b\b\b\b\b\b\b\b\b\b\b\b\b\b\b\b\b\b\b\b\b\b\b\b\b\b\b\b\b\b\b\b\b\b\b\b\b\b\b\b\n",
      "Epoch 22/80\n",
      "909/909 [==============================] - 0s - loss: 0.9693 - acc: 0.5985 - val_loss: 1.0779 - val_acc: 0.5590\b\b\b\b\b\b\b\b\b\b\b\b\b\b\b\b\b\b\b\b\b\b\b\b\b\b\b\b\b\b\b\b\b\b\b\b\b\b\b\b\b\b\b\b\b\b\b\n",
      "Epoch 23/80\n",
      "909/909 [==============================] - 0s - loss: 0.9535 - acc: 0.6117 - val_loss: 1.0745 - val_acc: 0.5880\b\b\b\b\b\b\b\b\b\b\b\b\b\b\b\b\b\b\b\b\b\b\b\b\b\b\b\b\b\b\b\b\b\b\b\b\b\b\b\b\b\b\b\b\b\b\b\n",
      "Epoch 24/80\n",
      "909/909 [==============================] - 0s - loss: 0.9563 - acc: 0.6062 - val_loss: 1.0764 - val_acc: 0.5657\b\b\b\b\b\b\b\b\b\b\b\b\b\b\b\b\b\b\b\b\b\b\b\b\b\b\b\b\b\b\b\b\b\b\b\b\b\b\b\b\b\b\b\b\b\b\b\n",
      "Epoch 25/80\n",
      "909/909 [==============================] - 0s - loss: 0.9130 - acc: 0.6293 - val_loss: 1.0605 - val_acc: 0.5902\b\b\b\b\b\b\b\b\b\b\b\b\b\b\b\b\b\b\b\b\b\b\b\b\b\b\b\b\b\b\b\b\b\b\b\b\b\b\b\b\b\b\b\b\b\b\b\n",
      "Epoch 26/80\n",
      "909/909 [==============================] - 0s - loss: 0.9208 - acc: 0.6216 - val_loss: 1.0452 - val_acc: 0.5835\b\b\b\b\b\b\b\b\b\b\b\b\b\b\b\b\b\b\b\b\b\b\b\b\b\b\b\b\b\b\b\b\b\b\b\b\b\b\b\b\b\b\b\b\b\b\b\b\b\b\b\b\b\b\b\b\b\b\b\b\b\b\b\b\b\b\b\b\b\b\b\b\b\b\b\b\b\b\b\b\b\b\b\b\b\b\b\b\b\b\b\b\b\b\b\b\b\b\b\b\b\b\b\b\b\b\b\b\b\b\b\b\b\b\b\b\b\b\b\b\b\b\b\b\b\b\n",
      "Epoch 27/80\n",
      "909/909 [==============================] - 0s - loss: 0.8854 - acc: 0.6392 - val_loss: 1.0414 - val_acc: 0.6036\b\b\b\b\b\b\b\b\b\b\b\b\b\b\b\b\b\b\b\b\b\b\b\b\b\b\b\b\b\b\b\b\b\b\b\b\b\b\b\b\b\b\b\b\b\b\b\n",
      "Epoch 28/80\n",
      "909/909 [==============================] - 0s - loss: 0.8635 - acc: 0.6381 - val_loss: 1.0546 - val_acc: 0.5679\b\b\b\b\b\b\b\b\b\b\b\b\b\b\b\b\b\b\b\b\b\b\b\b\b\b\b\b\b\b\b\b\b\b\b\b\b\b\b\b\b\b\b\b\b\b\b\n",
      "Epoch 29/80\n",
      "909/909 [==============================] - 0s - loss: 0.8535 - acc: 0.6689 - val_loss: 1.0384 - val_acc: 0.6036\b\b\b\b\b\b\b\b\b\b\b\b\b\b\b\b\b\b\b\b\b\b\b\b\b\b\b\b\b\b\b\b\b\b\b\b\b\b\b\b\b\b\b\b\b\b\b\n",
      "Epoch 30/80\n",
      "909/909 [==============================] - 0s - loss: 0.8570 - acc: 0.6480 - val_loss: 1.0349 - val_acc: 0.5857\b\b\b\b\b\b\b\b\b\b\b\b\b\b\b\b\b\b\b\b\b\b\b\b\b\b\b\b\b\b\b\b\b\b\b\b\b\b\b\b\b\b\b\b\b\b\b\n",
      "Epoch 31/80\n",
      "909/909 [==============================] - 0s - loss: 0.8391 - acc: 0.6546 - val_loss: 1.0541 - val_acc: 0.5835\b\b\b\b\b\b\b\b\b\b\b\b\b\b\b\b\b\b\b\b\b\b\b\b\b\b\b\b\b\b\b\b\b\b\b\b\b\b\b\b\b\b\b\b\b\b\b\n",
      "Epoch 32/80\n",
      "909/909 [==============================] - 0s - loss: 0.8313 - acc: 0.6656 - val_loss: 1.0310 - val_acc: 0.6036\b\b\b\b\b\b\b\b\b\b\b\b\b\b\b\b\b\b\b\b\b\b\b\b\b\b\b\b\b\b\b\b\b\b\b\b\b\b\b\b\b\b\b\b\b\b\b\n",
      "Epoch 33/80\n",
      "909/909 [==============================] - 0s - loss: 0.8145 - acc: 0.6535 - val_loss: 1.0261 - val_acc: 0.5880\b\b\b\b\b\b\b\b\b\b\b\b\b\b\b\b\b\b\b\b\b\b\b\b\b\b\b\b\b\b\b\b\b\b\b\b\b\b\b\b\b\b\b\b\b\b\b\n",
      "Epoch 34/80\n",
      "909/909 [==============================] - 0s - loss: 0.7971 - acc: 0.6909 - val_loss: 1.0585 - val_acc: 0.5880\b\b\b\b\b\b\b\b\b\b\b\b\b\b\b\b\b\b\b\b\b\b\b\b\b\b\b\b\b\b\b\b\b\b\b\b\b\b\b\b\b\b\b\b\b\b\b\n",
      "Epoch 35/80\n",
      "909/909 [==============================] - 0s - loss: 0.7809 - acc: 0.6964 - val_loss: 1.0271 - val_acc: 0.5947\b\b\b\b\b\b\b\b\b\b\b\b\b\b\b\b\b\b\b\b\b\b\b\b\b\b\b\b\b\b\b\b\b\b\b\b\b\b\b\b\b\b\b\b\b\b\b\n",
      "Epoch 36/80\n",
      "909/909 [==============================] - 0s - loss: 0.7765 - acc: 0.6843 - val_loss: 1.0377 - val_acc: 0.5880\b\b\b\b\b\b\b\b\b\b\b\b\b\b\b\b\b\b\b\b\b\b\b\b\b\b\b\b\b\b\b\b\b\b\b\b\b\b\b\b\b\b\b\b\b\b\b\n",
      "Epoch 37/80\n",
      "909/909 [==============================] - 0s - loss: 0.7642 - acc: 0.6876 - val_loss: 1.0235 - val_acc: 0.5969\b\b\b\b\b\b\b\b\b\b\b\b\b\b\b\b\b\b\b\b\b\b\b\b\b\b\b\b\b\b\b\b\b\b\b\b\b\b\b\b\b\b\b\b\b\b\b\n",
      "Epoch 38/80\n",
      "909/909 [==============================] - 0s - loss: 0.7558 - acc: 0.7041 - val_loss: 1.0459 - val_acc: 0.6036\b\b\b\b\b\b\b\b\b\b\b\b\b\b\b\b\b\b\b\b\b\b\b\b\b\b\b\b\b\b\b\b\b\b\b\b\b\b\b\b\b\b\b\b\b\b\b\n",
      "Epoch 39/80\n",
      "909/909 [==============================] - 0s - loss: 0.7487 - acc: 0.6986 - val_loss: 1.0352 - val_acc: 0.5991\b\b\b\b\b\b\b\b\b\b\b\b\b\b\b\b\b\b\b\b\b\b\b\b\b\b\b\b\b\b\b\b\b\b\b\b\b\b\b\b\b\b\b\b\b\b\b\n",
      "Epoch 40/80\n",
      "909/909 [==============================] - 0s - loss: 0.7488 - acc: 0.6975 - val_loss: 1.0488 - val_acc: 0.5969\b\b\b\b\b\b\b\b\b\b\b\b\b\b\b\b\b\b\b\b\b\b\b\b\b\b\b\b\b\b\b\b\b\b\b\b\b\b\b\b\b\b\b\b\b\b\b\n",
      "Epoch 41/80\n",
      "909/909 [==============================] - 0s - loss: 0.7334 - acc: 0.6997 - val_loss: 1.0533 - val_acc: 0.6080\b\b\b\b\b\b\b\b\b\b\b\b\b\b\b\b\b\b\b\b\b\b\b\b\b\b\b\b\b\b\b\b\b\b\b\b\b\b\b\b\b\b\b\b\b\b\b\n",
      "Epoch 42/80\n",
      "909/909 [==============================] - 0s - loss: 0.7144 - acc: 0.7228 - val_loss: 1.0480 - val_acc: 0.6013\b\b\b\b\b\b\b\b\b\b\b\b\b\b\b\b\b\b\b\b\b\b\b\b\b\b\b\b\b\b\b\b\b\b\b\b\b\b\b\b\b\b\b\b\b\b\b\n",
      "Epoch 43/80\n",
      "909/909 [==============================] - 0s - loss: 0.7203 - acc: 0.7030 - val_loss: 1.0464 - val_acc: 0.5924\b\b\b\b\b\b\b\b\b\b\b\b\b\b\b\b\b\b\b\b\b\b\b\b\b\b\b\b\b\b\b\b\b\b\b\b\b\b\b\b\b\b\b\b\b\b\b\n",
      "Epoch 44/80\n",
      "909/909 [==============================] - 0s - loss: 0.7127 - acc: 0.7173 - val_loss: 1.0710 - val_acc: 0.5902\b\b\b\b\b\b\b\b\b\b\b\b\b\b\b\b\b\b\b\b\b\b\b\b\b\b\b\b\b\b\b\b\b\b\b\b\b\b\b\b\b\b\b\b\b\b\b\n",
      "Epoch 45/80\n",
      "909/909 [==============================] - 0s - loss: 0.7207 - acc: 0.7184 - val_loss: 1.0774 - val_acc: 0.5947\b\b\b\b\b\b\b\b\b\b\b\b\b\b\b\b\b\b\b\b\b\b\b\b\b\b\b\b\b\b\b\b\b\b\b\b\b\b\b\b\b\b\b\b\b\b\b\n",
      "Epoch 46/80\n",
      "909/909 [==============================] - 0s - loss: 0.7256 - acc: 0.7041 - val_loss: 1.1015 - val_acc: 0.5546\b\b\b\b\b\b\b\b\b\b\b\b\b\b\b\b\b\b\b\b\b\b\b\b\b\b\b\b\b\b\b\b\b\b\b\b\b\b\b\b\b\b\b\b\b\b\b\n",
      "Epoch 47/80\n",
      "909/909 [==============================] - 0s - loss: 0.7453 - acc: 0.7019 - val_loss: 1.0658 - val_acc: 0.5924\b\b\b\b\b\b\b\b\b\b\b\b\b\b\b\b\b\b\b\b\b\b\b\b\b\b\b\b\b\b\b\b\b\b\b\b\b\b\b\b\b\b\b\b\b\b\b\b\b\b\b\b\b\b\b\b\b\b\b\b\b\b\b\b\b\b\b\b\b\b\b\b\b\b\b\b\b\b\b\b\b\b\b\b\b\b\b\b\b\b\b\b\b\b\b\b\b\b\b\b\b\b\b\b\b\b\b\b\b\b\b\b\b\b\b\b\b\b\b\b\b\b\b\b\b\b\n",
      "Epoch 48/80\n",
      "909/909 [==============================] - 0s - loss: 0.7002 - acc: 0.7173 - val_loss: 1.0820 - val_acc: 0.6013\b\b\b\b\b\b\b\b\b\b\b\b\b\b\b\b\b\b\b\b\b\b\b\b\b\b\b\b\b\b\b\b\b\b\b\b\b\b\b\b\b\b\b\b\b\b\b\n",
      "Epoch 49/80\n",
      "909/909 [==============================] - 0s - loss: 0.6986 - acc: 0.7184 - val_loss: 1.0745 - val_acc: 0.5991\b\b\b\b\b\b\b\b\b\b\b\b\b\b\b\b\b\b\b\b\b\b\b\b\b\b\b\b\b\b\b\b\b\b\b\b\b\b\b\b\b\b\b\b\b\b\b\n",
      "Epoch 50/80\n",
      "909/909 [==============================] - 0s - loss: 0.6840 - acc: 0.7349 - val_loss: 1.0730 - val_acc: 0.5947\b\b\b\b\b\b\b\b\b\b\b\b\b\b\b\b\b\b\b\b\b\b\b\b\b\b\b\b\b\b\b\b\b\b\b\b\b\b\b\b\b\b\b\b\b\b\b\n",
      "Epoch 51/80\n",
      "909/909 [==============================] - 0s - loss: 0.6940 - acc: 0.7228 - val_loss: 1.0842 - val_acc: 0.5924\b\b\b\b\b\b\b\b\b\b\b\b\b\b\b\b\b\b\b\b\b\b\b\b\b\b\b\b\b\b\b\b\b\b\b\b\b\b\b\b\b\b\b\b\b\b\b\n",
      "Epoch 52/80\n",
      "909/909 [==============================] - 0s - loss: 0.6729 - acc: 0.7327 - val_loss: 1.0766 - val_acc: 0.6036\b\b\b\b\b\b\b\b\b\b\b\b\b\b\b\b\b\b\b\b\b\b\b\b\b\b\b\b\b\b\b\b\b\b\b\b\b\b\b\b\b\b\b\b\b\b\b\n",
      "Epoch 53/80\n",
      "909/909 [==============================] - 0s - loss: 0.6761 - acc: 0.7239 - val_loss: 1.0831 - val_acc: 0.5835\b\b\b\b\b\b\b\b\b\b\b\b\b\b\b\b\b\b\b\b\b\b\b\b\b\b\b\b\b\b\b\b\b\b\b\b\b\b\b\b\b\b\b\b\b\b\b\n",
      "Epoch 54/80\n",
      "909/909 [==============================] - 0s - loss: 0.6794 - acc: 0.7371 - val_loss: 1.0955 - val_acc: 0.6169\b\b\b\b\b\b\b\b\b\b\b\b\b\b\b\b\b\b\b\b\b\b\b\b\b\b\b\b\b\b\b\b\b\b\b\b\b\b\b\b\b\b\b\b\b\b\b\n",
      "Epoch 55/80\n",
      "909/909 [==============================] - 0s - loss: 0.6796 - acc: 0.7272 - val_loss: 1.0902 - val_acc: 0.5768\b\b\b\b\b\b\b\b\b\b\b\b\b\b\b\b\b\b\b\b\b\b\b\b\b\b\b\b\b\b\b\b\b\b\b\b\b\b\b\b\b\b\b\b\b\b\b\n",
      "Epoch 56/80\n",
      "909/909 [==============================] - 0s - loss: 0.6701 - acc: 0.7239 - val_loss: 1.1158 - val_acc: 0.5924\b\b\b\b\b\b\b\b\b\b\b\b\b\b\b\b\b\b\b\b\b\b\b\b\b\b\b\b\b\b\b\b\b\b\b\b\b\b\b\b\b\b\b\b\b\b\b\n",
      "Epoch 57/80\n",
      "909/909 [==============================] - 0s - loss: 0.6447 - acc: 0.7382 - val_loss: 1.0964 - val_acc: 0.5902\b\b\b\b\b\b\b\b\b\b\b\b\b\b\b\b\b\b\b\b\b\b\b\b\b\b\b\b\b\b\b\b\b\b\b\b\b\b\b\b\b\b\b\b\b\b\b\n",
      "Epoch 58/80\n",
      "909/909 [==============================] - 0s - loss: 0.6392 - acc: 0.7393 - val_loss: 1.0993 - val_acc: 0.6125\b\b\b\b\b\b\b\b\b\b\b\b\b\b\b\b\b\b\b\b\b\b\b\b\b\b\b\b\b\b\b\b\b\b\b\b\b\b\b\b\b\b\b\b\b\b\b\n",
      "Epoch 59/80\n",
      "909/909 [==============================] - 0s - loss: 0.6287 - acc: 0.7569 - val_loss: 1.0953 - val_acc: 0.5969\b\b\b\b\b\b\b\b\b\b\b\b\b\b\b\b\b\b\b\b\b\b\b\b\b\b\b\b\b\b\b\b\b\b\b\b\b\b\b\b\b\b\b\b\b\b\b\n",
      "Epoch 60/80\n",
      "909/909 [==============================] - 0s - loss: 0.6288 - acc: 0.7525 - val_loss: 1.1129 - val_acc: 0.6125\b\b\b\b\b\b\b\b\b\b\b\b\b\b\b\b\b\b\b\b\b\b\b\b\b\b\b\b\b\b\b\b\b\b\b\b\b\b\b\b\b\b\b\b\b\b\b\n",
      "Epoch 61/80\n",
      "909/909 [==============================] - 0s - loss: 0.6163 - acc: 0.7558 - val_loss: 1.1038 - val_acc: 0.5902\b\b\b\b\b\b\b\b\b\b\b\b\b\b\b\b\b\b\b\b\b\b\b\b\b\b\b\b\b\b\b\b\b\b\b\b\b\b\b\b\b\b\b\b\b\b\b\n",
      "Epoch 62/80\n",
      "909/909 [==============================] - 0s - loss: 0.6187 - acc: 0.7569 - val_loss: 1.1081 - val_acc: 0.6058\b\b\b\b\b\b\b\b\b\b\b\b\b\b\b\b\b\b\b\b\b\b\b\b\b\b\b\b\b\b\b\b\b\b\b\b\b\b\b\b\b\b\b\b\b\b\b\n",
      "Epoch 63/80\n",
      "909/909 [==============================] - 0s - loss: 0.6113 - acc: 0.7514 - val_loss: 1.1090 - val_acc: 0.6058\b\b\b\b\b\b\b\b\b\b\b\b\b\b\b\b\b\b\b\b\b\b\b\b\b\b\b\b\b\b\b\b\b\b\b\b\b\b\b\b\b\b\b\b\b\b\b\n",
      "Epoch 64/80\n",
      "909/909 [==============================] - 0s - loss: 0.6155 - acc: 0.7360 - val_loss: 1.1111 - val_acc: 0.5857\b\b\b\b\b\b\b\b\b\b\b\b\b\b\b\b\b\b\b\b\b\b\b\b\b\b\b\b\b\b\b\b\b\b\b\b\b\b\b\b\b\b\b\b\b\b\b\b\b\b\b\b\b\b\b\b\b\b\b\b\b\b\b\b\b\b\b\b\b\b\b\b\b\b\b\b\b\b\b\b\b\b\b\b\b\b\b\b\b\b\b\b\b\b\b\b\b\b\b\b\b\b\b\b\b\b\b\b\b\b\b\b\b\b\b\b\b\b\b\b\b\b\b\b\b\b\n",
      "Epoch 65/80\n",
      "909/909 [==============================] - 0s - loss: 0.6029 - acc: 0.7558 - val_loss: 1.1349 - val_acc: 0.6013\b\b\b\b\b\b\b\b\b\b\b\b\b\b\b\b\b\b\b\b\b\b\b\b\b\b\b\b\b\b\b\b\b\b\b\b\b\b\b\b\b\b\b\b\b\b\b\n",
      "Epoch 66/80\n",
      "909/909 [==============================] - 0s - loss: 0.6005 - acc: 0.7580 - val_loss: 1.1281 - val_acc: 0.6058\b\b\b\b\b\b\b\b\b\b\b\b\b\b\b\b\b\b\b\b\b\b\b\b\b\b\b\b\b\b\b\b\b\b\b\b\b\b\b\b\b\b\b\b\b\b\b\n",
      "Epoch 67/80\n",
      "909/909 [==============================] - 0s - loss: 0.5983 - acc: 0.7635 - val_loss: 1.1267 - val_acc: 0.5857\b\b\b\b\b\b\b\b\b\b\b\b\b\b\b\b\b\b\b\b\b\b\b\b\b\b\b\b\b\b\b\b\b\b\b\b\b\b\b\b\b\b\b\b\b\b\b\n",
      "Epoch 68/80\n",
      "909/909 [==============================] - 0s - loss: 0.5870 - acc: 0.7679 - val_loss: 1.1342 - val_acc: 0.6036\b\b\b\b\b\b\b\b\b\b\b\b\b\b\b\b\b\b\b\b\b\b\b\b\b\b\b\b\b\b\b\b\b\b\b\b\b\b\b\b\b\b\b\b\b\b\b\n",
      "Epoch 69/80\n",
      "909/909 [==============================] - 0s - loss: 0.5780 - acc: 0.7811 - val_loss: 1.1327 - val_acc: 0.5902\b\b\b\b\b\b\b\b\b\b\b\b\b\b\b\b\b\b\b\b\b\b\b\b\b\b\b\b\b\b\b\b\b\b\b\b\b\b\b\b\b\b\b\b\b\b\b\n",
      "Epoch 70/80\n",
      "909/909 [==============================] - 0s - loss: 0.5765 - acc: 0.7767 - val_loss: 1.1457 - val_acc: 0.6036\b\b\b\b\b\b\b\b\b\b\b\b\b\b\b\b\b\b\b\b\b\b\b\b\b\b\b\b\b\b\b\b\b\b\b\b\b\b\b\b\b\b\b\b\b\b\b\n",
      "Epoch 71/80\n",
      "909/909 [==============================] - 0s - loss: 0.5898 - acc: 0.7679 - val_loss: 1.1822 - val_acc: 0.5590\b\b\b\b\b\b\b\b\b\b\b\b\b\b\b\b\b\b\b\b\b\b\b\b\b\b\b\b\b\b\b\b\b\b\b\b\b\b\b\b\b\b\b\b\b\b\b\n",
      "Epoch 72/80\n",
      "909/909 [==============================] - 0s - loss: 0.6055 - acc: 0.7624 - val_loss: 1.1498 - val_acc: 0.6036\b\b\b\b\b\b\b\b\b\b\b\b\b\b\b\b\b\b\b\b\b\b\b\b\b\b\b\b\b\b\b\b\b\b\b\b\b\b\b\b\b\b\b\b\b\b\b\n",
      "Epoch 73/80\n",
      "909/909 [==============================] - 0s - loss: 0.5774 - acc: 0.7624 - val_loss: 1.1689 - val_acc: 0.5724\b\b\b\b\b\b\b\b\b\b\b\b\b\b\b\b\b\b\b\b\b\b\b\b\b\b\b\b\b\b\b\b\b\b\b\b\b\b\b\b\b\b\b\b\b\b\b\n",
      "Epoch 74/80\n",
      "909/909 [==============================] - 0s - loss: 0.5762 - acc: 0.7800 - val_loss: 1.1720 - val_acc: 0.5947\b\b\b\b\b\b\b\b\b\b\b\b\b\b\b\b\b\b\b\b\b\b\b\b\b\b\b\b\b\b\b\b\b\b\b\b\b\b\b\b\b\b\b\b\b\b\b\n",
      "Epoch 75/80\n",
      "909/909 [==============================] - 0s - loss: 0.5701 - acc: 0.7877 - val_loss: 1.1778 - val_acc: 0.5835\b\b\b\b\b\b\b\b\b\b\b\b\b\b\b\b\b\b\b\b\b\b\b\b\b\b\b\b\b\b\b\b\b\b\b\b\b\b\b\b\b\b\b\b\b\b\b\n",
      "Epoch 76/80\n",
      "909/909 [==============================] - 0s - loss: 0.5610 - acc: 0.7910 - val_loss: 1.1562 - val_acc: 0.6013\b\b\b\b\b\b\b\b\b\b\b\b\b\b\b\b\b\b\b\b\b\b\b\b\b\b\b\b\b\b\b\b\b\b\b\b\b\b\b\b\b\b\b\b\b\b\b\n",
      "Epoch 77/80\n",
      "909/909 [==============================] - 0s - loss: 0.5582 - acc: 0.7899 - val_loss: 1.1601 - val_acc: 0.5902\b\b\b\b\b\b\b\b\b\b\b\b\b\b\b\b\b\b\b\b\b\b\b\b\b\b\b\b\b\b\b\b\b\b\b\b\b\b\b\b\b\b\b\b\b\b\b\n",
      "Epoch 78/80\n",
      "909/909 [==============================] - 0s - loss: 0.5533 - acc: 0.7800 - val_loss: 1.1599 - val_acc: 0.5902\b\b\b\b\b\b\b\b\b\b\b\b\b\b\b\b\b\b\b\b\b\b\b\b\b\b\b\b\b\b\b\b\b\b\b\b\b\b\b\b\b\b\b\b\b\b\b\n",
      "Epoch 79/80\n",
      "909/909 [==============================] - 0s - loss: 0.5557 - acc: 0.7833 - val_loss: 1.1661 - val_acc: 0.5969\b\b\b\b\b\b\b\b\b\b\b\b\b\b\b\b\b\b\b\b\b\b\b\b\b\b\b\b\b\b\b\b\b\b\b\b\b\b\b\b\b\b\b\b\b\b\b\n",
      "Epoch 80/80\n",
      "909/909 [==============================] - 0s - loss: 0.5445 - acc: 0.7965 - val_loss: 1.2048 - val_acc: 0.5746\b\b\b\b\b\b\b\b\b\b\b\b\b\b\b\b\b\b\b\b\b\b\b\b\b\b\b\b\b\b\b\b\b\b\b\b\b\b\b\b\b\b\b\b\b\b\b\n"
     ]
    },
    {
     "data": {
      "text/plain": [
       "<keras.callbacks.History at 0x12e4ab630>"
      ]
     },
     "execution_count": 128,
     "metadata": {},
     "output_type": "execute_result"
    }
   ],
   "source": [
    "model = Sequential()\n",
    "model.add(Dense(64, input_dim=x_train.shape[1], activation='relu'))\n",
    "model.add(Dense(32, init='normal', activation='relu'))\n",
    "#model.add(Dense(64, init='normal', activation='relu'))\n",
    "model.add(Dense(5, init='normal', activation='sigmoid'))\n",
    "# compile model for a multi-class classification problem (optimizer = adam/rmsprop/sgd)\n",
    "model.compile(optimizer='adam',\n",
    "              loss='categorical_crossentropy',\n",
    "              metrics=['accuracy'])\n",
    "\n",
    "model.fit(x_train,y_train,validation_data=(x_test,y_test),shuffle=True, nb_epoch=80, batch_size=128)"
   ]
  },
  {
   "cell_type": "code",
   "execution_count": 129,
   "metadata": {
    "collapsed": false
   },
   "outputs": [
    {
     "name": "stdout",
     "output_type": "stream",
     "text": [
      "Accuracy: 58.50%\n"
     ]
    }
   ],
   "source": [
    "# Final evaluation of the model\n",
    "scores = model.evaluate(X_test, dummy_y_test, verbose=0)\n",
    "print(\"Accuracy: %.2f%%\" % (scores[1]*100))"
   ]
  },
  {
   "cell_type": "code",
   "execution_count": 130,
   "metadata": {
    "collapsed": false
   },
   "outputs": [
    {
     "name": "stdout",
     "output_type": "stream",
     "text": [
      " 32/453 [=>............................] - ETA: 6s                   pre       rec       spe        f1       geo       iba       sup\n",
      "\n",
      "          0       0.65      0.75      0.93      0.70      0.79      0.60        71\n",
      "          1       0.41      0.26      0.98      0.32      0.63      0.37        27\n",
      "          2       0.34      0.43      0.91      0.38      0.57      0.30        42\n",
      "          3       0.39      0.47      0.79      0.43      0.57      0.31       100\n",
      "          4       0.77      0.66      0.83      0.71      0.75      0.57       213\n",
      "\n",
      "avg / total       0.61      0.58      0.85      0.59      0.69      0.48       453\n",
      "\n"
     ]
    }
   ],
   "source": [
    "test_preds = model.predict_classes(X_test)\n",
    "c_y = dummy_y_test.argmax(1)\n",
    "print(classification_report_imbalanced(y_pred=test_preds,y_true=c_y))"
   ]
  },
  {
   "cell_type": "code",
   "execution_count": 131,
   "metadata": {
    "collapsed": false
   },
   "outputs": [
    {
     "data": {
      "image/png": "[encoded data removed]",
      "text/plain": [
       "<matplotlib.figure.Figure at 0x12ae82668>"
      ]
     },
     "metadata": {
      "image/png": {
       "height": 386,
       "width": 448
      }
     },
     "output_type": "display_data"
    }
   ],
   "source": [
    "visual = Visualization()\n",
    "visual.plot_confusion_matrix(c_y,test_preds,title='Test',color='gray')"
   ]
  },
  {
   "cell_type": "code",
   "execution_count": 50,
   "metadata": {
    "collapsed": false
   },
   "outputs": [],
   "source": [
    "predictions = pd.DataFrame(test_preds,columns=['MLP_pred'])\n",
    "true = pd.DataFrame(Y_test)\n",
    "true = true.reset_index()\n",
    "predictions['True_label'] = true['Rating']\n",
    "#Correct number of predictions  for the benefit of visualization\n",
    "predictions[\"MLP_pred\"] = [i+1 for i in predictions['MLP_pred']]"
   ]
  },
  {
   "cell_type": "code",
   "execution_count": 51,
   "metadata": {
    "collapsed": false
   },
   "outputs": [],
   "source": [
    "#Save predictions to a local file\n",
    "predictions.to_csv('MLP_predictions.csv')"
   ]
  },
  {
   "cell_type": "code",
   "execution_count": 52,
   "metadata": {
    "collapsed": false
   },
   "outputs": [],
   "source": []
  },
  {
   "cell_type": "code",
   "execution_count": 74,
   "metadata": {
    "collapsed": false
   },
   "outputs": [
    {
     "name": "stdout",
     "output_type": "stream",
     "text": [
      "Baseline: 41.90% (1.22%)\n"
     ]
    }
   ],
   "source": [
    "#Implementation of cross-validation\n",
    "# define baseline model\n",
    "def baseline_model():\n",
    "    model = Sequential()\n",
    "    model.add(Dense(64, input_dim=138, activation='relu'))\n",
    "    model.add(Dense(32, init='normal', activation='relu'))\n",
    "    model.add(Dense(5, init='normal', activation='sigmoid'))\n",
    "    # compile model for a multi-class classification problem (optimizer = adam/rmsprop/sgd)\n",
    "    model.compile(optimizer='adam',\n",
    "                  loss='categorical_crossentropy',\n",
    "                  metrics=['accuracy'])\n",
    "    return model\n",
    "\n",
    "#Use cross-validation to evaluate the generalization of model\n",
    "estimator = KerasClassifier(build_fn=baseline_model, nb_epoch=70, batch_size=128, verbose=0)\n",
    "kfold = KFold(n_splits=5, shuffle=True, random_state=seed)\n",
    "\n",
    "results = cross_val_score(estimator,x_train,y_train, cv=kfold,scoring='average_precision')\n",
    "print(\"Baseline: %.2f%% (%.2f%%)\" % (results.mean()*100, results.std()*100))"
   ]
  },
  {
   "cell_type": "code",
   "execution_count": null,
   "metadata": {
    "collapsed": false
   },
   "outputs": [],
   "source": []
  },
  {
   "cell_type": "code",
   "execution_count": null,
   "metadata": {
    "collapsed": false
   },
   "outputs": [],
   "source": [
    "\n"
   ]
  },
  {
   "cell_type": "code",
   "execution_count": null,
   "metadata": {
    "collapsed": false
   },
   "outputs": [],
   "source": []
  },
  {
   "cell_type": "code",
   "execution_count": null,
   "metadata": {
    "collapsed": false
   },
   "outputs": [],
   "source": []
  },
  {
   "cell_type": "code",
   "execution_count": null,
   "metadata": {
    "collapsed": false
   },
   "outputs": [],
   "source": []
  },
  {
   "cell_type": "code",
   "execution_count": null,
   "metadata": {
    "collapsed": false
   },
   "outputs": [],
   "source": []
  },
  {
   "cell_type": "code",
   "execution_count": null,
   "metadata": {
    "collapsed": false
   },
   "outputs": [],
   "source": []
  },
  {
   "cell_type": "code",
   "execution_count": null,
   "metadata": {
    "collapsed": false
   },
   "outputs": [],
   "source": []
  },
  {
   "cell_type": "code",
   "execution_count": null,
   "metadata": {
    "collapsed": false
   },
   "outputs": [],
   "source": []
  },
  {
   "cell_type": "code",
   "execution_count": null,
   "metadata": {
    "collapsed": false
   },
   "outputs": [],
   "source": []
  },
  {
   "cell_type": "code",
   "execution_count": null,
   "metadata": {
    "collapsed": false
   },
   "outputs": [],
   "source": []
  },
  {
   "cell_type": "code",
   "execution_count": null,
   "metadata": {
    "collapsed": false
   },
   "outputs": [],
   "source": []
  },
  {
   "cell_type": "code",
   "execution_count": null,
   "metadata": {
    "collapsed": false
   },
   "outputs": [],
   "source": []
  },
  {
   "cell_type": "code",
   "execution_count": null,
   "metadata": {
    "collapsed": false
   },
   "outputs": [],
   "source": []
  },
  {
   "cell_type": "code",
   "execution_count": null,
   "metadata": {
    "collapsed": false
   },
   "outputs": [],
   "source": []
  },
  {
   "cell_type": "code",
   "execution_count": null,
   "metadata": {
    "collapsed": true
   },
   "outputs": [],
   "source": []
  },
  {
   "cell_type": "code",
   "execution_count": null,
   "metadata": {
    "collapsed": false
   },
   "outputs": [],
   "source": [
    "from sklearn.externals import joblib\n",
    "joblib.dump(clf, 'best_RFC_text_SSS.pkl', compress=9)\n",
    "#model_clone = joblib.load('best_SVM_text.pkl')"
   ]
  },
  {
   "cell_type": "code",
   "execution_count": null,
   "metadata": {
    "collapsed": true
   },
   "outputs": [],
   "source": []
  }
 ],
 "metadata": {
  "kernelspec": {
   "display_name": "Python 3",
   "language": "python",
   "name": "python3"
  },
  "language_info": {
   "codemirror_mode": {
    "name": "ipython",
    "version": 3
   },
   "file_extension": ".py",
   "mimetype": "text/x-python",
   "name": "python",
   "nbconvert_exporter": "python",
   "pygments_lexer": "ipython3",
   "version": "3.5.2"
  }
 },
 "nbformat": 4,
 "nbformat_minor": 2
}
